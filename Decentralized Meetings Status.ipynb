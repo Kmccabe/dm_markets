{
 "cells": [
  {
   "cell_type": "markdown",
   "id": "e9156751",
   "metadata": {},
   "source": [
    "# Project Goal\n",
    "\n",
    "> The goal of this project is to produce a MES for a decentralized meeting market (dm) and simulate the dm to study the effect of, physical and social distance, and trader strategies on market performance. \n",
    "\n",
    "This is the one notebook you should always have open while you are working on a project."
   ]
  },
  {
   "cell_type": "markdown",
   "id": "2a09b2f1",
   "metadata": {},
   "source": [
    "# Project Status\n",
    "\n",
    "> Working on module_v2\n",
    "\n",
    "* roadmap 4-7\n",
    "* ESA presentation\n",
    "* Gruter Presentation\n",
    "* SEF Presentation 11/17\n",
    "\n",
    "Trying to make dm_event_sim but I'm having trouble tracking down why efficiency doesn't go back up after event.  Looks like it should.  See print of agent after sim_period is run.\n",
    "\n",
    "> Deadline: 11/17/21\n",
    "\n",
    "Keep the status section very short"
   ]
  },
  {
   "cell_type": "markdown",
   "id": "675c194c",
   "metadata": {},
   "source": [
    "# Project Roadmap and TODOs\n",
    "\n",
    "1. - [x] Refactor dm into modules\n",
    "2. - [x] Build Presentation Notebook\n",
    "3. - [x] Refactor simulation code into module\n",
    "4. - [ ] Add strategy_type percentages to simulation \n",
    "5. - [ ] Build User Notebook\n",
    "6. - [ ] Add JSON file handling for data\n",
    "7. - [ ] Add logging to project code; get rid of debug\n",
    "8. - [ ] Add fulfillment mechanism and reputation\n",
    "9. - [ ] Add explicit transaction costs into model\n",
    "10. - [ ] mTree version\n",
    "11. - [ ] Refactor playback module\n",
    "12. - [ ] Add traders who can hold inventories\n",
    "13. - [ ] Add concept of virtual meeting to markets\n",
    "14. - [ ] Add arrival of buyer values into market place\n"
   ]
  },
  {
   "cell_type": "markdown",
   "id": "305ab5d9",
   "metadata": {},
   "source": [
    "# Project History\n",
    "\n",
    "> Finished refactor of dm into modules\n",
    "\n",
    "## 10/09/21  Added modules to adaptive_markets/project_dm\n",
    "\n",
    "* 10/10/21 - Added modules and status to adaptive_markets/project_dm  \n",
    "           - Reorganized project folder (rename, notebooks, data, status)\n",
    "* 10/12/21 - More refactoring of modules\n",
    "           - Now contracts look like round, price, buyer, seller, b_cu, b_val, s_cu, s_cos\n",
    "           - built dm_simulation_v2 to run simulations in notebook\n",
    "* 10/14/21 - Started discussion of project in class\n",
    "* 10/18/21 - Added week runner to project and some elementary matplotlib graphics\n",
    "* 10/21/21 - Added monte-carlo runner to project \n",
    "* 10/22/21 - Got too `big file error` in github seperated out dm-project  \n",
    "* 10/23/21 - First presentation at ZI conference\n",
    "* 10/24/21 -  Roadmap 3 - Refactor simulation code into module "
   ]
  },
  {
   "cell_type": "markdown",
   "id": "3ae1937c",
   "metadata": {},
   "source": [
    "# Project Notes\n",
    "\n",
    "## Modules and Class dependencies\n",
    "\n",
    "Project classes are now divided as follows:\n",
    "* sim_market.py -- A python program to show how to run a simulation\n",
    "    * dm_agents.py -- A module containing trader classes\n",
    "        * Trader is the parent class.\n",
    "            * ZID is the basic Zero Intelligence class\n",
    "            * ZIDP is ZID but takes the best offer when available\n",
    "            * ZIDA is ZID but has social preferences to be with others in grid\n",
    "    * env_make_agents.py -- A module with class MakeAgents\n",
    "        * dm_agents\n",
    "        * dm_env.py -- A module to build and analyze a supply and demand market\n",
    "    * dm_sim_period.py -- A module with class SimPeriod to simulate one period of grid travel and decisions\n",
    "        * dm_bargain\n",
    "        * dm_travel\n",
    "    * dm_process_results.py -- A module with class ProcessResults that gathers results from simulation\n",
    "        * dm_agents\n",
    "        * env_make_agents\n",
    "        \n",
    "## Contracts\n",
    "    \n",
    "> (round, price, buyer, seller, b_cu, b_val, s_cu, s_cos)\n",
    "\n",
    "* b_cu and s_cu are buyer and seller cur unit at time of contract\n",
    "* b_val is buyers current value for unit contracted\n",
    "* s_cos is sellers current cost for unit contracted\n",
    "    \n",
    "    "
   ]
  }
 ],
 "metadata": {
  "kernelspec": {
   "display_name": "Python 3 (ipykernel)",
   "language": "python",
   "name": "python3"
  },
  "language_info": {
   "codemirror_mode": {
    "name": "ipython",
    "version": 3
   },
   "file_extension": ".py",
   "mimetype": "text/x-python",
   "name": "python",
   "nbconvert_exporter": "python",
   "pygments_lexer": "ipython3",
   "version": "3.11.5"
  },
  "toc": {
   "base_numbering": 1,
   "nav_menu": {},
   "number_sections": true,
   "sideBar": true,
   "skip_h1_title": false,
   "title_cell": "Table of Contents",
   "title_sidebar": "Contents",
   "toc_cell": false,
   "toc_position": {},
   "toc_section_display": true,
   "toc_window_display": false
  }
 },
 "nbformat": 4,
 "nbformat_minor": 5
}
