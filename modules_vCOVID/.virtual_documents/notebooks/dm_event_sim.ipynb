import random as rnd
import operator
import os
import time
import copy
import sys

# Data processing
import numpy as np                              # import numpy
import pandas as pd
import json
from scipy.stats import sem

# Plotting
import matplotlib.pyplot as plt                 # import matplotlib
import seaborn as sns
import matplotlib.colors as colors
import matplotlib as mpl
import matplotlib.ticker as tckr

# Custom packages for simulation
# This works only if notebooks folder is in the "modules" parent folder
sys.path.insert(0, '..') # add modules folder (parent folder) into this notebook's path

# Institution modules
import institutions.dm_bargain as dm_bargain
import institutions.dm_travel as dm_travel

# Environment modules
import environment.dm_agents as dm_agents
import environment.dm_env as env
import environment.env_make_agents as make_env

# Simulation modules
import simulations.dm_sim_period as simulate
import simulations.dm_sim as sim_utils

# Utility modules
import dm_utils as dm
import dm_process_results as results


def print_agents(agents):
    for agent in agents:
        print(agent, type(agent))

def change_agents(agents, ratio=1):
    ZIDPR = dm_agents.ZIDPR
    """
    make a copy of agents at current location and change strategy to ZIDPR
    """

    # Pick a random set of agents to mutate (randomly at passed proportion - policy compliance rate)
    rn = np.random.default_rng()
    agent_indecies = list(range(len(agents)))
    complying_num = len(agents)*ratio
    non_int_part = complying_num%1
    add_num = 0
    if non_int_part != 0:
        # Randomly draw against remainder (keeps percetanges work across trials)
        if rn.random() < non_int_part:
            add_num += 1
            
    complying_num = int(complying_num) + add_num
    complying_inds = rn.choice(agent_indecies, size=complying_num)
    
    new_agents = []
    for k, agent in enumerate(agents):
        # change name
        if k in complying_inds: # These ones get Transformed
            name = agent.name
            s1 = name.split('_')
            name = s1[0] + '_' + s1[1] + '_ZIDPR'

            trader_type = agent.type
            payoff = agent.payoff
            money = agent.money
            location = agent.location
            lower_bound = agent.lower_bound
            upper_bound = agent.upper_bound
            move_error_rate = agent.movement_error_rate # Added New
            #cont_flag = agent.contract_this_period
            # make a ZIDPR agent
            new_agent = dm_agents.ZIDPR(name, trader_type, payoff, money, location, 
                                       lower_bound, upper_bound, move_error_rate)

            #new_agent.set_contract_this_period(cont_flag)
            if new_agent.get_type() == "BUYER":
                vals = agent.get_values()
                new_agent.set_values(vals)
            else:
                cos = agent.get_costs()
                new_agent.set_costs(cos)
        else: # These ones do not
            new_agent = copy.deepcopy(agent)
            
        new_agents.append(new_agent)
        
    return new_agents

def change_back_agents(agents):
    
    ZIDPA = dm_agents.ZIDPA
    """Returns agents to type ZIDPA"""
    new_agents = []
    
    for k, agent in enumerate(agents):
        # change name
        name = agent.name
        s1 = name.split('_')
        name = s1[0] + '_' + s1[1] + '_ZIDPA'

        trader_type = agent.type
        payoff = agent.payoff
        money = agent.money
        location = agent.location
        lower_bound = agent.lower_bound
        upper_bound = agent.upper_bound
        cont_flag = agent.contract_this_period
        move_error_rate = agent.movement_error_rate # Added New
        # print('+=+=+= ', cont_flag)
        # make a ZIDPA agent
        new_agent = dm_agents.ZIDPA(name, trader_type, payoff, money, location, 
                                   lower_bound, upper_bound, move_error_rate)
        
        new_agent.set_contract_this_period(cont_flag)

        if new_agent.get_type() == "BUYER":
            vals = agent.get_values()
            new_agent.set_values(vals)
        else:
            cos = agent.get_costs()
            new_agent.set_costs(cos)
        
        new_agents.append(new_agent)
        

    return new_agents


def make_event_sim(sim_name, num_periods, num_weeks,
             event_begin, event_end, market, agents,
             num_rounds, grid_size,
             num_traders, num_units,
             lower_bound, upper_bound,
             trader_objects, movement_error_rate=0, compliance_rate=1, return_df=False):
    """Runs one complete simulation and returns data in
        effs[treatment][trial].  Causes epidemic event from event_begin to event_end
        return_df = True -> return as dataframe
    """ 

    if return_df:
        # Store parameters
        df_cols_param = ['sim_name', 'num_traders', 'num_units', 'num_weeks', 'num_periods', 'num_rounds', 'grid_size', 'lower_bound', 'upper_bound', 'trader_objects', 'movement_error_rate', 'compliance_rate', 
                         'event_bgin', 'event_end']
        # Store results
        df_cols_results = ['week', 'contracts', 'grids', 'eff', 'type_effs']
        df_cols = df_cols_param + df_cols_results
        df_data = []
    
    data = {}
    for week in range(num_weeks):
        
        if week == event_begin:
            agents = change_agents(agents, compliance_rate)
        if week == event_end:
            agents = change_back_agents(agents)
            
        data[week] = {}
        for agent in agents:
            agent.start(None)
        contracts = []
        sim_grids = []
        sim1 = simulate.SimPeriod(sim_name, num_rounds, agents, 
               market, grid_size)
        for period in range(num_periods):
            sim1.run_period()
            # print(week, period, agents[8])
            grid = sim1.get_grid()
            sim_grids.append(grid)
            contracts.extend(sim1.get_contracts())
        
        
        data[week]['contracts'] = contracts
        data[week]['grids'] = sim_grids
        
        # process results
        pr1 = results.ProcessResults(market, sim_name, agents, contracts)
        pr1.calc_efficiency()
        pr1.get_results()
        eff = pr1.get_efficiency()
        type_eff = pr1.get_type_surplus()
        data[week]['eff'] = eff # single item put in list to faciliatate looping through data 
        data[week]['type_effs'] = type_eff

        if return_df:
            week_data = [sim_name, num_traders, num_units, num_weeks, num_periods, num_rounds, grid_size, lower_bound, upper_bound, trader_objects, movement_error_rate, compliance_rate, event_begin, event_end, week, 
                         contracts, sim_grids, eff, type_eff]
            df_data.append(week_data)

    if return_df:
        return pd.DataFrame(data=df_data, columns=df_cols)
    else:
        return data


def make_event_monte_carlo(sim_name, num_trials, num_periods, num_weeks,
                    event_begin, event_end,
                    num_rounds, grid_size,
                    num_traders, num_units,
                    lower_bound, upper_bound,
                    trader_objects, movement_error_rate=0, compliance_rate=1, return_df=False):
    """Runs one complete simulation and returns data in
        effs[treatment][trial]
        compliance_rate = ratio of agents complying with social distancing, e[0, 1]
        movement_error_rate = ratio of FULLY random moves, not employing strategy of movement, e[0, 1]
        return_df = True -> return as dataframe
    """ 

    sim_data = {}
    sim_data['parms'] = {'sim_name': sim_name, 'num_traders': num_traders, 'num_units': num_units,
                         'num_weeks': num_weeks, 'num_periods': num_periods, 'num_rounds': num_rounds,
                         'grid_size': grid_size, 'lower_bound':lower_bound, 'upper_bound': upper_bound,
                         'trader_objects': trader_objects, 'movement_error_rate': movement_error_rate, 'compliance_rate': compliance_rate}

    if return_df:
        # Store parameters
        df_cols_param = ['sim_name', 'num_traders', 'num_units', 'num_weeks', 'num_periods', 'num_rounds', 'grid_size', 'lower_bound', 'upper_bound', 'trader_objects', 'movement_error_rate', 'compliance_rate',
                        'event_begin', 'event_end']
        # Store outputs
        df_cols_results = ['week', 'contracts', 'grids', 'eff', 'type_effs']
        df_cols_trial = ['trial']
        df_cols = df_cols_param + df_cols_results + df_cols_trial
        df_out = pd.DataFrame(columns=df_cols)
        
        
    for trial in range(num_trials):
        
        agent_maker = make_env.MakeAgents(num_traders, trader_objects, num_units, 
                                grid_size, lower_bound, upper_bound, False, movement_error_rate)
        agent_maker.make_agents()
        agent_maker.set_locations(grid_size)
        agents = agent_maker.get_agents()

        # set up market
        agent_maker.make_market(sim_name)
        market = agent_maker.get_market()

        trial_data = make_event_sim(sim_name, num_periods, num_weeks, 
                                    event_begin, event_end, market, agents,
                                    num_rounds, grid_size,
                                    num_traders, num_units,
                                    lower_bound, upper_bound,
                                    trader_objects, movement_error_rate, compliance_rate, return_df)
        
        sim_data[trial]  = trial_data

        if return_df:
            trial_data['trial'] = trial
            if len(df_out) == 0:
                df_out = trial_data
            else:
                df_out = pd.concat([df_out, trial_data])

    if return_df:
        df_out = df_out.reset_index(drop=True)
        return df_out
    else:
        return sim_data


def format_df_for_boxplot(data_df, x_var, y_var, x_range=None):
    """Reformats dataframe to be a matrix of [[y_1, ..., y_n]], [[y_2, ..., y_n]], ...]; length = length of x; indexes correspond to x's; for use in the box-plotting functions
        x_range (iterable): If using non-numeric x, need to specify a custom range for these, as the function cannot otherwise parse the data range.
    """

    matrix_out = []
    
    # If not provided, figure out x-range
    if x_range is None:
        x_min = data_df[x_var].min()
        x_max = data_df[x_var].max()
        x_range = range(x_min, x_max+1)

    # Traverse the dataframe
    for x in x_range:
        x_match = data_df[data_df[x_var]==x]
        y_vals = list(x_match[y_var].values)
        this_row = y_vals
        matrix_out.append(this_row)
    
    return matrix_out


def plot_boxplot_data(boxplot_data, title=None, y_lab=None, x_lab=None, x_ticks=None, x_tick_labs=None):
    fig, ax1 = plt.subplots(figsize=(8, 8))
    fig.canvas.manager.set_window_title('A Boxplot Example')
    fig.subplots_adjust(left=0.075, right=0.95, top=0.9, bottom=0.25)
    
    bp = ax1.boxplot(boxplot_data, notch=True, sym='+', vert=1, whis=1.5)
    plt.setp(bp['boxes'], color='black')
    plt.setp(bp['whiskers'], color='black')
    plt.setp(bp['fliers'], color='red', marker='+')
    
    # Add a horizontal grid to the plot, but make it very light in color
    # so we can use it for reading data values but not be distracting
    ax1.yaxis.grid(True, linestyle='-', which='major', color='lightgrey',
                   alpha=0.5)
    
    ax1.set(
        axisbelow=True,  # Hide the grid behind plot objects
        title="Distribution of Weekly Efficiencies Across Trials",
        xlabel="Weeks",
        ylabel='Efficiency',
    )

    if title is not None:
        ax1.set(title=title)

    if y_lab is not None:
        ax1.set(ylabel=y_lab)

    if x_lab is not None:
        ax1.set(xlabel=x_lab)

    if x_ticks is not None:
        ax1.set_xticks(x_ticks)

    if x_tick_labs is not None:
        ax1.set_xticklabels(x_tick_labs, fontsize=12)

    # Override standard tick labels with provided x_ticks if x_tick_labs not provided
    if x_ticks is not None and x_tick_labs is None:
        ax1.set_xticklabels(x_ticks, fontsize=12)
    
    plt.show()


def avg_df_obs(df_data, x_var, y_var, form="mean", percentiles=None):
    """Return the central tendency of the y_var observations, grouped on the x_var.
        form = mean or median
        percentiles (list) = None or list of percentiles to return
    """

    grouped = df_data[[x_var, y_var]].groupby(x_var)

    # TODO implement mean
    if form == "mean":
        df_out = grouped.mean()
    # Todo implement median
    elif form == "median":
        df_out = grouped.median()
        
    # Todo implement percentile
    if percentiles is not None:
        for perc in percentiles:
            colname = y_var + "_q_" + str(perc)
            perc_frame = grouped.quantile(q=perc)
            perc_frame = perc_frame.rename(columns={y_var: colname})
            print(df_out.head())
            print(perc_frame.head())
            df_out = df_out.join(perc_frame)
    
    return df_out.reset_index()


def compare_graph(dfs, x_var, y_var, form="line", form_type="mean", line_labs=None, title=None, x_ticks=None, x_tick_labs=None):
    """If not line_labs list provided, uses the names of the simulations in the dataframes."""

    if line_labs is None:
        line_labs = []
        for i in range(len(dfs)):
            line_labs.append(dfs[i]["sim_name"].values[0])

    if x_tick_labs is None and x_ticks is not None:
        x_tick_labs = x_ticks

    plt.figure()
    plt.title(title)
    plt.xlabel("Week")
    plt.ylabel("Efficiency")
    plt.xticks(ticks=week_xticks, labels=week_xticks)
    for i in range(len(treat_names)):
        this_lab = treat_names[i]
        this_df = treat_dfs[i]
        mean_df = avg_df_obs(this_df, "week", "eff", form_type)
        plt.plot(mean_df["week"], mean_df["eff"], label=this_lab)
    
    plt.legend()
    plt.show()
    


ZIDPA = dm_agents.ZIDPA
ZID = dm_agents.ZIDPR
trader_objects =[(ZIDPA, 20),(ZID, 0)] # run simulation with just ZID agents
sim_name = "ZIDPA with event MONTE-CARLO"
num_trials = 50
num_periods = 7
num_weeks = 100
event_begin = 48
event_end = 52
num_rounds = 5
grid_size = 15
num_traders = 20
num_units = 8
lower_bound = 200 
upper_bound = 600

data_table = make_event_monte_carlo(sim_name, num_trials, num_periods, num_weeks,
                                  event_begin, event_end,
                                  num_rounds, grid_size,
                                  num_traders, num_units,
                                  lower_bound, upper_bound,
                                  trader_objects)
print(sim_name, 'finished.')


print_data = False
if print_data:
    for trial in range(num_trials):
        trial_data = data_table[trial]
        for week in range(num_weeks):
            print(trial, week, trial_data[week]['eff'])
        
        


eff_avg, std_error, eff_min, eff_max = sim_utils.analyze_eff_data(num_trials, num_weeks, data_table)


x = range(num_weeks)
fig, ax = plt.subplots(figsize=(10, 8))

ax.plot(x, eff_avg, label = 'Average Efficiency', linestyle = 'solid', color='red', lw =3)
ax.errorbar(x, eff_avg, yerr=std_error, fmt='.k')
ax.plot(x, eff_min, label = 'min', linestyle = 'dotted', color='cyan', lw =3)
ax.plot(x, eff_max, label = 'max', linestyle = 'dotted', color='chartreuse', lw =3)

ax.set_xlabel('week', size = 'x-large') 
ax.set_xbound(0, num_weeks)
ax.set_ybound(0, 100)
ax.grid(1)
ax.set_ylabel('efficiency', size = 'x-large') 
ax.set_title(f'ZIDPA with ZIDPR event fpr {num_trials} trials', size = 'x-large')
ax.legend(fontsize='x-large')

plt.show()


box_data = sim_utils.get_trial_week_effs(num_trials, num_weeks, data_table)
fig, ax1 = plt.subplots(figsize=(8, 8))
fig.canvas.manager.set_window_title('A Boxplot Example')
fig.subplots_adjust(left=0.075, right=0.95, top=0.9, bottom=0.25)

bp = ax1.boxplot(box_data, notch=True, sym='+', vert=1, whis=1.5)
plt.setp(bp['boxes'], color='black')
plt.setp(bp['whiskers'], color='black')
plt.setp(bp['fliers'], color='red', marker='+')

# Add a horizontal grid to the plot, but make it very light in color
# so we can use it for reading data values but not be distracting
ax1.yaxis.grid(True, linestyle='-', which='major', color='lightgrey',
               alpha=0.5)

ax1.set(
    axisbelow=True,  # Hide the grid behind plot objects
    title="Distribution of Weekly Efficiencies Across Trials",
    xlabel="Weeks",
    ylabel='Efficiency',
)

ax1.set_xticks([0, 10, 20, 30, 40, 50, 60, 70, 80, 90, 100])
ax1.set_xticklabels([0, 10, 20, 30, 40, 50, 60, 70, 80, 90, 100], fontsize=12)

plt.show()







# Name simulation - baseline: 0.00 error rate, 1.00 compliance rate
sim_name = "sim_e000_c100"

# Common controls
num_trials = 20; num_periods = 7; num_weeks = 100; event_begin = 48; event_end = 52; num_rounds = 5; grid_size = 15; num_traders = 20; num_units = 8; lower_bound = 200; upper_bound = 600
trader_objects =[(ZIDPA, 20),(ZID, 0)]
common_controls = [num_trials, num_periods, num_weeks,
                    event_begin, event_end,
                    num_rounds, grid_size,
                    num_traders, num_units,
                    lower_bound, upper_bound,
                    trader_objects]

# Treatment Variables - four cases for demonstration; many levels for factor analysis
movement_error_rate = 0; compliance_rate = 1
treatment_vars = [movement_error_rate, compliance_rate]

sim_e000_c100 = make_event_monte_carlo(sim_name, *common_controls, *treatment_vars, return_df=True)


mtx_e000_c100 = format_df_for_boxplot(sim_e000_c100, 'week', 'eff')
title="Weekly Efficiencies - Error Rate=0.00, Compliance Rate=1.00"
xlabel="Weeks"
ylabel='Efficiency'
week_xticks = [0, 10, 20, 30, 40, 50, 60, 70, 80, 90, 100]

plot_boxplot_data(mtx_e000_c100, title=title, y_lab=ylabel, x_lab=xlabel, x_ticks=week_xticks)


movement_error_rate = 0.05; compliance_rate = 1
treatment_vars = [movement_error_rate, compliance_rate]

sim_e005_c100 = make_event_monte_carlo("sim_e005_c100", *common_controls, *treatment_vars, return_df=True)


mtx_e005_c100 = format_df_for_boxplot(sim_e005_c100, 'week', 'eff')
title="Weekly Efficiencies - Error Rate=0.05, Compliance Rate=1.00"
plot_boxplot_data(mtx_e005_c100, title=title, y_lab=ylabel, x_lab=xlabel, x_ticks=week_xticks)


movement_error_rate = 0; compliance_rate = 0.75
treatment_vars = [movement_error_rate, compliance_rate]

sim_e000_c075 = make_event_monte_carlo("sim_e000_c075", *common_controls, *treatment_vars, return_df=True)


mtx_e000_c075 = format_df_for_boxplot(sim_e000_c075, 'week', 'eff')
title="Weekly Efficiencies - Error Rate=0.00, Compliance Rate=0.75"
plot_boxplot_data(mtx_e000_c075, title=title, y_lab=ylabel, x_lab=xlabel, x_ticks=week_xticks)


movement_error_rate = 0.05; compliance_rate = 0.75
treatment_vars = [movement_error_rate, compliance_rate]

sim_e005_c075 = make_event_monte_carlo("sim_e005_c075", *common_controls, *treatment_vars, return_df=True)


mtx_e005_c075 = format_df_for_boxplot(sim_e005_c075, 'week', 'eff')
title="Weekly Efficiencies - Error Rate=0.05, Compliance Rate=0.75"
plot_boxplot_data(mtx_e005_c075, title=title, y_lab=ylabel, x_lab=xlabel, x_ticks=week_xticks)





treat_names = ["e=0.00, c=1.00", "e=0.05, c=1.00", "e=0.00, c=0.75", "e=0.05, c=0.75"]
treat_dfs = [sim_e000_c100, sim_e005_c100, sim_e000_c075, sim_e005_c075]
week_xticks = [0, 10, 20, 30, 40, 50, 60, 70, 80, 90, 100]
plt.figure()
plt.title("Cross-Trial Means of Weekly Efficiency Pre- and Post-Event")
plt.xlabel("Week")
plt.ylabel("Efficiency")
plt.xticks(ticks=week_xticks, labels=week_xticks)
for i in range(len(treat_names)):
    this_lab = treat_names[i]
    this_df = treat_dfs[i]
    mean_df = avg_df_obs(this_df, "week", "eff", "mean")
    plt.plot(mean_df["week"], mean_df["eff"], label=this_lab)

plt.legend()
plt.show()
    








# Look closer at compliance rates - with 0.00 movement error rate

# Common controls
num_trials = 20; num_periods = 7; num_weeks = 100; event_begin = 48; event_end = 52; num_rounds = 5; grid_size = 15; num_traders = 20; num_units = 8; lower_bound = 200; upper_bound = 600
trader_objects =[(ZIDPA, 20),(ZID, 0)]
common_controls = [num_trials, num_periods, num_weeks,
                    event_begin, event_end,
                    num_rounds, grid_size,
                    num_traders, num_units,
                    lower_bound, upper_bound,
                    trader_objects]

# Treatment Variables
movement_error_rate = 0; compliance_rate = 1
treatment_vars = [movement_error_rate, compliance_rate]

treat_levels = [1.00, 0.90, 0.80, 0.70, 0.60, 0.50, 0.40, 0.30, 0.20, 0.10, 0.00]
treat_names = ["1.00", "0.90", "0.80", "0.70", "0.60", "0.50", "0.40", "0.30", "0.20", "0.10", "0.00"]
treat_dfs = []
for i in range(len(treat_levels)):
    treat_level = treat_levels[i]
    treat_name = treat_names[i]
    this_sim = make_event_monte_carlo(treat_name, *common_controls, movement_error_rate=0, compliance_rate=treat_level, return_df=True)
    treat_dfs.append(this_sim)


# Graph the above
title = "Cross-Trial Means of Weekly Efficiency Pre- and Post-Event, by Compliance Rate"
week_xticks = [0, 10, 20, 30, 40, 50, 60, 70, 80, 90, 100]
compare_graph(treat_dfs, "week", "eff", form="line", form_type="mean", line_labs=None, title=title, x_ticks=week_xticks, x_tick_labs=None)



# Graph the above
title = "Cross-Trial Medians of Weekly Efficiency Pre- and Post-Event, by Compliance Rate"
week_xticks = [0, 10, 20, 30, 40, 50, 60, 70, 80, 90, 100]
compare_graph(treat_dfs, "week", "eff", form="line", form_type="median", line_labs=None, title=title, x_ticks=week_xticks, x_tick_labs=None)    



# Look closer at error rates - 1.00 compliance as reference

# Common controls
num_trials = 20; num_periods = 7; num_weeks = 100; event_begin = 48; event_end = 52; num_rounds = 5; grid_size = 15; num_traders = 20; num_units = 8; lower_bound = 200; upper_bound = 600
trader_objects =[(ZIDPA, 20),(ZID, 0)]
common_controls = [num_trials, num_periods, num_weeks,
                    event_begin, event_end,
                    num_rounds, grid_size,
                    num_traders, num_units,
                    lower_bound, upper_bound,
                    trader_objects]

# Treatment Variables
movement_error_rate = 0; compliance_rate = 1
treatment_vars = [movement_error_rate, compliance_rate]

treat_levels = [1.00, 0.90, 0.80, 0.70, 0.60, 0.50, 0.40, 0.30, 0.20, 0.10, 0.00]
treat_levels.reverse()
treat_names = ["1.00", "0.90", "0.80", "0.70", "0.60", "0.50", "0.40", "0.30", "0.20", "0.10", "0.00"]
treat_names.reverse()
treat_dfs = []
for i in range(len(treat_levels)):
    treat_level = treat_levels[i]
    treat_name = treat_names[i]
    this_sim = make_event_monte_carlo(treat_name, *common_controls, movement_error_rate=treat_level, compliance_rate=1.00, return_df=True)
    treat_dfs.append(this_sim)


# Graph the above
title = "Cross-Trial Means of Weekly Efficiency Pre- and Post-Event, by Movement Error Rate"
week_xticks = [0, 10, 20, 30, 40, 50, 60, 70, 80, 90, 100]
compare_graph(treat_dfs, "week", "eff", form="line", form_type="mean", line_labs=None, title=title, x_ticks=week_xticks, x_tick_labs=None)


# Ok so we need to use muuuuch smaller error rates - this makes sense as the (1-e)^7 is chance of not moving randomly within the week - the only strange part is the covid thing jumping... not sure about this
# Look closer at error rates - 1.00 compliance as reference

# Common controls
num_trials = 20; num_periods = 7; num_weeks = 100; event_begin = 48; event_end = 52; num_rounds = 5; grid_size = 15; num_traders = 20; num_units = 8; lower_bound = 200; upper_bound = 600
trader_objects =[(ZIDPA, 20),(ZID, 0)]
common_controls = [num_trials, num_periods, num_weeks,
                    event_begin, event_end,
                    num_rounds, grid_size,
                    num_traders, num_units,
                    lower_bound, upper_bound,
                    trader_objects]

# Treatment Variables
movement_error_rate = 0; compliance_rate = 1
treatment_vars = [movement_error_rate, compliance_rate]

treat_levels = [0.10, 0.09, 0.08, 0.07, 0.06, 0.05, 0.04, 0.03, 0.02, 0.01, 0.00]
treat_levels.reverse()
treat_names = ["0.10", "0.09", "0.08", "0.07", "0.06", "0.05", "0.04", "0.03", "0.02", "0.01", "0.00"]
treat_names.reverse()
treat_dfs = []
for i in range(len(treat_levels)):
    treat_level = treat_levels[i]
    treat_name = treat_names[i]
    this_sim = make_event_monte_carlo(treat_name, *common_controls, movement_error_rate=treat_level, compliance_rate=1.00, return_df=True)
    treat_dfs.append(this_sim)


# Graph the above
title = "Cross-Trial Means of Weekly Efficiency Pre- and Post-Event, by Movement Error Rate - Long Term"
week_xticks = [0, 10, 20, 30, 40, 50, 60, 70, 80, 90, 100]
compare_graph(treat_dfs, "week", "eff", form="line", form_type="mean", line_labs=None, title=title, x_ticks=week_xticks, x_tick_labs=None)


# Ok so we need to use muuuuch smaller error rates - this makes sense as the (1-e)^7 is chance of not moving randomly within the week - the only strange part is the covid thing jumping... not sure about this
# Look closer at error rates - 1.00 compliance as reference

# Common controls
num_trials = 20; num_periods = 7; num_weeks = 100; event_begin = 48; event_end = 52; num_rounds = 5; grid_size = 15; num_traders = 20; num_units = 8; lower_bound = 200; upper_bound = 600
trader_objects =[(ZIDPA, 20),(ZID, 0)]
common_controls = [num_trials, num_periods, num_weeks,
                    event_begin, event_end,
                    num_rounds, grid_size,
                    num_traders, num_units,
                    lower_bound, upper_bound,
                    trader_objects]

# Treatment Variables
movement_error_rate = 0; compliance_rate = 1
treatment_vars = [movement_error_rate, compliance_rate]

treat_levels = [0.010, 0.009, 0.008, 0.007, 0.006, 0.005, 0.004, 0.003, 0.002, 0.001, 0.000]
treat_levels.reverse()
treat_names = ["0.010", "0.009", "0.008", "0.007", "0.006", "0.005", "0.004", "0.003", "0.002", "0.001", "0.000"]
treat_names.reverse()
treat_dfs = []
for i in range(len(treat_levels)):
    treat_level = treat_levels[i]
    treat_name = treat_names[i]
    this_sim = make_event_monte_carlo(treat_name, *common_controls, movement_error_rate=treat_level, compliance_rate=1.00, return_df=True)
    treat_dfs.append(this_sim)


# Graph the above
title = "Cross-Trial Means of Weekly Efficiency Pre- and Post-Event, by Movement Error Rate - Long Term"
week_xticks = [0, 10, 20, 30, 40, 50, 60, 70, 80, 90, 100]
compare_graph(treat_dfs, "week", "eff", form="line", form_type="mean", line_labs=None, title=title, x_ticks=week_xticks, x_tick_labs=None)


# Look closer at error rates - 1.00 compliance as reference

# Common controls
num_trials = 20; num_periods = 7; num_weeks = 100; event_begin = 48; event_end = 52; num_rounds = 5; grid_size = 15; num_traders = 20; num_units = 8; lower_bound = 200; upper_bound = 600
trader_objects =[(ZIDPA, 20),(ZID, 0)]
common_controls = [num_trials, num_periods, num_weeks,
                    event_begin, event_end,
                    num_rounds, grid_size,
                    num_traders, num_units,
                    lower_bound, upper_bound,
                    trader_objects]

# Treatment Variables
movement_error_rate = 0; compliance_rate = 1
treatment_vars = [movement_error_rate, compliance_rate]

treat_levels = [1.00, 0.90, 0.80, 0.70, 0.60, 0.50, 0.40, 0.30, 0.20, 0.10, 0.00]
treat_levels.reverse()
treat_names = ["1.00", "0.90", "0.80", "0.70", "0.60", "0.50", "0.40", "0.30", "0.20", "0.10", "0.00"]
treat_names.reverse()
treat_dfs = []
for i in range(len(treat_levels)):
    treat_level = treat_levels[i]
    treat_name = treat_names[i]
    this_sim = make_event_monte_carlo(treat_name, *common_controls, movement_error_rate=treat_level, compliance_rate=1.00, return_df=True)
    treat_dfs.append(this_sim)


# Graph the above
title = "Cross-Trial Means of Weekly Efficiency Pre- and Post-Event, by Movement Error Rate - Long Term"
week_xticks = [0, 10, 20, 30, 40, 50, 60, 70, 80, 90, 100]
compare_graph(treat_dfs, "week", "eff", form="line", form_type="mean", line_labs=None, title=title, x_ticks=week_xticks, x_tick_labs=None)



