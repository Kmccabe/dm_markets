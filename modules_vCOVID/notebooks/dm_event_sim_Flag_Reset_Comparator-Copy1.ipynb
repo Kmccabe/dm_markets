{
 "cells": [
  {
   "cell_type": "code",
   "execution_count": 1,
   "id": "c440396b",
   "metadata": {},
   "outputs": [],
   "source": [
    "import random as rnd\n",
    "import operator\n",
    "import os\n",
    "import time\n",
    "import copy\n",
    "import sys\n",
    "\n",
    "# Data processing\n",
    "import numpy as np                              # import numpy\n",
    "import pandas as pd\n",
    "import json\n",
    "from scipy.stats import sem\n",
    "\n",
    "# Plotting\n",
    "import matplotlib.pyplot as plt                 # import matplotlib\n",
    "import seaborn as sns\n",
    "import matplotlib.colors as colors\n",
    "import matplotlib as mpl\n",
    "import matplotlib.ticker as tckr\n",
    "\n",
    "# Custom packages for simulation\n",
    "# This works only if notebooks folder is in the \"modules\" parent folder\n",
    "sys.path.insert(0, '..') # add modules folder (parent folder) into this notebook's path\n",
    "\n",
    "# Institution modules\n",
    "import institutions.dm_bargain as dm_bargain\n",
    "import institutions.dm_travel as dm_travel\n",
    "\n",
    "# Environment modules\n",
    "import environment.dm_agents as dm_agents\n",
    "import environment.dm_env as env\n",
    "import environment.env_make_agents as make_env\n",
    "\n",
    "# Simulation modules\n",
    "import simulations.dm_sim_period as simulate\n",
    "import simulations.dm_sim as sim_utils\n",
    "\n",
    "# Utility modules\n",
    "import dm_utils as dm\n",
    "import dm_process_results as results\n",
    "\n",
    "# Latex module\n",
    "import pylatex\n",
    "\n",
    "def print_agents(agents):\n",
    "    for agent in agents:\n",
    "        print(agent, type(agent))\n",
    "\n",
    "def change_agents(agents, ratio=1):\n",
    "    ZIDPR = dm_agents.ZIDPR\n",
    "    \"\"\"\n",
    "    make a copy of agents at current location and change strategy to ZIDPR\n",
    "    \"\"\"\n",
    "\n",
    "    # Pick a random set of agents to mutate (randomly at passed proportion - policy compliance rate)\n",
    "    rn = np.random.default_rng()\n",
    "    agent_indecies = list(range(len(agents)))\n",
    "    complying_num = len(agents)*ratio\n",
    "    non_int_part = complying_num%1\n",
    "    add_num = 0\n",
    "    if non_int_part != 0:\n",
    "        # Randomly draw against remainder (keeps percetanges work across trials)\n",
    "        if rn.random() < non_int_part:\n",
    "            add_num += 1\n",
    "            \n",
    "    complying_num = int(complying_num) + add_num\n",
    "    complying_inds = rn.choice(agent_indecies, size=complying_num)\n",
    "    \n",
    "    new_agents = []\n",
    "    for k, agent in enumerate(agents):\n",
    "        # change name\n",
    "        if k in complying_inds: # These ones get Transformed\n",
    "            name = agent.name\n",
    "            s1 = name.split('_')\n",
    "            name = s1[0] + '_' + s1[1] + '_ZIDPR'\n",
    "\n",
    "            trader_type = agent.type\n",
    "            payoff = agent.payoff\n",
    "            money = agent.money\n",
    "            location = agent.location\n",
    "            lower_bound = agent.lower_bound\n",
    "            upper_bound = agent.upper_bound\n",
    "            move_error_rate = agent.movement_error_rate \n",
    "            # Added New\n",
    "            #cont_flag = agent.contract_this_period\n",
    "            reset_flag_frequency = agent.reset_flag_frequency\n",
    "            reset_flag_min_agents = agent.reset_flag_min_agents\n",
    "            reset_flag_on_random = agent.reset_flag_on_random\n",
    "            reset_flag_window = agent.reset_flag_window\n",
    "            reset_flag_min_trades = agent.reset_flag_min_trades\n",
    "            # make a ZIDPR agent\n",
    "            new_agent = dm_agents.ZIDPR(name, trader_type, payoff, money, location, \n",
    "                                   lower_bound, upper_bound, move_error_rate, reset_flag_frequency, reset_flag_min_agents,\n",
    "                                    reset_flag_on_random, reset_flag_window, reset_flag_min_trades)\n",
    "\n",
    "            #new_agent.set_contract_this_period(cont_flag)\n",
    "            if new_agent.get_type() == \"BUYER\":\n",
    "                vals = agent.get_values()\n",
    "                new_agent.set_values(vals)\n",
    "            else:\n",
    "                cos = agent.get_costs()\n",
    "                new_agent.set_costs(cos)\n",
    "        else: # These ones do not\n",
    "            new_agent = copy.deepcopy(agent)\n",
    "            \n",
    "        new_agents.append(new_agent)\n",
    "        \n",
    "    return new_agents\n",
    "\n",
    "def change_back_agents(agents):\n",
    "    \n",
    "    ZIDPA = dm_agents.ZIDPA\n",
    "    \"\"\"Returns agents to type ZIDPA\"\"\"\n",
    "    new_agents = []\n",
    "    \n",
    "    for k, agent in enumerate(agents):\n",
    "        # change name\n",
    "        name = agent.name\n",
    "        s1 = name.split('_')\n",
    "        name = s1[0] + '_' + s1[1] + '_ZIDPA'\n",
    "\n",
    "        trader_type = agent.type\n",
    "        payoff = agent.payoff\n",
    "        money = agent.money\n",
    "        location = agent.location\n",
    "        lower_bound = agent.lower_bound\n",
    "        upper_bound = agent.upper_bound\n",
    "        cont_flag = agent.contract_this_period\n",
    "        move_error_rate = agent.movement_error_rate \n",
    "        # Added New\n",
    "        # print('+=+=+= ', cont_flag)\n",
    "        reset_flag_frequency = agent.reset_flag_frequency\n",
    "        reset_flag_min_agents = agent.reset_flag_min_agents\n",
    "        reset_flag_on_random = agent.reset_flag_on_random\n",
    "        reset_flag_window = agent.reset_flag_window\n",
    "        reset_flag_min_trades = agent.reset_flag_min_trades\n",
    "        # make a ZIDPA agent\n",
    "        new_agent = dm_agents.ZIDPA(name, trader_type, payoff, money, location, \n",
    "                                   lower_bound, upper_bound, move_error_rate, reset_flag_frequency, reset_flag_min_agents,\n",
    "                                    reset_flag_on_random, reset_flag_window, reset_flag_min_trades)\n",
    "        \n",
    "        new_agent.set_contract_this_period(cont_flag)\n",
    "\n",
    "        if new_agent.get_type() == \"BUYER\":\n",
    "            vals = agent.get_values()\n",
    "            new_agent.set_values(vals)\n",
    "        else:\n",
    "            cos = agent.get_costs()\n",
    "            new_agent.set_costs(cos)\n",
    "        \n",
    "        new_agents.append(new_agent)\n",
    "        \n",
    "    return new_agents\n",
    "\n",
    "\n",
    "def make_event_sim(sim_name, num_periods, num_weeks,\n",
    "             event_begin, event_end, market, agents,\n",
    "             num_rounds, grid_size,\n",
    "             num_traders, num_units,\n",
    "             lower_bound, upper_bound,\n",
    "             trader_objects, movement_error_rate=0, compliance_rate=1, return_df=False, return_period_df=False, reset_flag_frequency=None, reset_flag_min_agents=None,\n",
    "             reset_flag_on_random=False, reset_flag_window=None, reset_flag_min_trades=1):\n",
    "    \"\"\"Runs one complete simulation and returns data in\n",
    "        effs[treatment][trial].  Causes epidemic event from event_begin to event_end\n",
    "        return_df = True -> return as dataframe\n",
    "    \"\"\" \n",
    "\n",
    "    if return_df:\n",
    "        # Store parameters\n",
    "        df_cols_param = ['sim_name', 'num_traders', 'num_units', 'num_weeks', 'num_periods', 'num_rounds', 'grid_size', 'lower_bound', 'upper_bound', 'trader_objects', 'movement_error_rate', 'compliance_rate', \n",
    "                         'event_bgin', 'event_end']\n",
    "        # Store results\n",
    "        df_cols_results = ['week', 'contracts', 'grids', 'eff', 'type_effs']\n",
    "        df_cols = df_cols_param + df_cols_results\n",
    "        df_data = []\n",
    "\n",
    "    if return_period_df:\n",
    "        if return_df:\n",
    "            df_period_cols = df_cols + ['period'] + ['period_locs']\n",
    "            df_period_data = []\n",
    "        else:\n",
    "            raise ValueError(\"Need to pass return_df=True with return_period_df=True\")\n",
    "    \n",
    "    data = {}\n",
    "    for week in range(num_weeks):\n",
    "        \n",
    "        if week == event_begin:\n",
    "            agents = change_agents(agents, compliance_rate)\n",
    "        if week == event_end:\n",
    "            agents = change_back_agents(agents)\n",
    "            \n",
    "        data[week] = {}\n",
    "        for agent in agents:\n",
    "            agent.start(None)\n",
    "        contracts = []\n",
    "        sim_grids = []\n",
    "        sim1 = simulate.SimPeriod(sim_name, num_rounds, agents, \n",
    "               market, grid_size)\n",
    "        \n",
    "        for period in range(num_periods):\n",
    "            sim1.run_period()\n",
    "            grid = sim1.get_grid()\n",
    "            sim_grids.append(grid)\n",
    "            contracts.extend(sim1.get_contracts())\n",
    "\n",
    "            if return_period_df:\n",
    "                period_data = [sim_name, num_traders, num_units, num_weeks, num_periods, num_rounds, grid_size, lower_bound, upper_bound, trader_objects, movement_error_rate, compliance_rate, event_begin, event_end, week, \n",
    "                         sim1.get_contracts(), grid, None, None, period, copy.deepcopy(grid)]\n",
    "                df_period_data.append(period_data)\n",
    "\n",
    "                if week == 0 and period == 0:\n",
    "                    period_data = [sim_name, num_traders, num_units, num_weeks, num_periods, num_rounds, grid_size, lower_bound, upper_bound, trader_objects, movement_error_rate, compliance_rate, event_begin, event_end, -1, \n",
    "                             None, copy.deepcopy(sim1.get_initial_grid()), None, None, -1, copy.deepcopy(sim1.get_initial_grid())]\n",
    "                    df_period_data.append(period_data)\n",
    "        \n",
    "        data[week]['contracts'] = contracts\n",
    "        data[week]['grids'] = sim_grids\n",
    "        \n",
    "        # process results\n",
    "        pr1 = results.ProcessResults(market, sim_name, agents, contracts)\n",
    "        pr1.calc_efficiency()\n",
    "        pr1.get_results()\n",
    "        eff = pr1.get_efficiency()\n",
    "        type_eff = pr1.get_type_surplus()\n",
    "        data[week]['eff'] = eff # single item put in list to faciliatate looping through data \n",
    "        data[week]['type_effs'] = type_eff\n",
    "\n",
    "        if return_df:\n",
    "            week_data = [sim_name, num_traders, num_units, num_weeks, num_periods, num_rounds, grid_size, lower_bound, upper_bound, trader_objects, movement_error_rate, compliance_rate, event_begin, event_end, week, \n",
    "                         contracts, sim_grids, eff, type_eff]\n",
    "            df_data.append(week_data)\n",
    "\n",
    "    if return_df:\n",
    "        df_out = pd.DataFrame(data=df_data, columns=df_cols)\n",
    "        if return_period_df:\n",
    "            period_df_out = pd.DataFrame(data=df_period_data, columns=df_period_cols)\n",
    "            return df_out, period_df_out\n",
    "        else:\n",
    "            return df_out\n",
    "    else:\n",
    "        return data\n",
    "\n",
    "\n",
    "def make_event_monte_carlo(sim_name, num_trials, num_periods, num_weeks,\n",
    "                    event_begin, event_end,\n",
    "                    num_rounds, grid_size,\n",
    "                    num_traders, num_units,\n",
    "                    lower_bound, upper_bound,\n",
    "                    trader_objects, movement_error_rate=0, compliance_rate=1, return_df=False, return_period_df=False, reset_flag_frequency=None, reset_flag_min_agents=None,\n",
    "                    reset_flag_on_random=False, reset_flag_window=None, reset_flag_min_trades=1):\n",
    "    \"\"\"Runs one complete simulation and returns data in\n",
    "        effs[treatment][trial]\n",
    "        compliance_rate = ratio of agents complying with social distancing, e[0, 1]\n",
    "        movement_error_rate = ratio of FULLY random moves, not employing strategy of movement, e[0, 1]\n",
    "        return_df = True -> return as dataframe\n",
    "    \"\"\" \n",
    "\n",
    "    sim_data = {}\n",
    "    sim_data['parms'] = {'sim_name': sim_name, 'num_traders': num_traders, 'num_units': num_units,\n",
    "                         'num_weeks': num_weeks, 'num_periods': num_periods, 'num_rounds': num_rounds,\n",
    "                         'grid_size': grid_size, 'lower_bound':lower_bound, 'upper_bound': upper_bound,\n",
    "                         'trader_objects': trader_objects, 'movement_error_rate': movement_error_rate, 'compliance_rate': compliance_rate}\n",
    "\n",
    "    if return_df:\n",
    "        # Store parameters\n",
    "        df_cols_param = ['sim_name', 'num_traders', 'num_units', 'num_weeks', 'num_periods', 'num_rounds', 'grid_size', 'lower_bound', 'upper_bound', 'trader_objects', 'movement_error_rate', 'compliance_rate',\n",
    "                        'event_begin', 'event_end']\n",
    "        # Store outputs\n",
    "        df_cols_results = ['week', 'contracts', 'grids', 'eff', 'type_effs']\n",
    "        df_cols_trial = ['trial']\n",
    "        df_cols = df_cols_param + df_cols_results + df_cols_trial\n",
    "        df_out = pd.DataFrame(columns=df_cols)\n",
    "\n",
    "    if return_period_df:\n",
    "        if return_df:\n",
    "            period_out_df = pd.DataFrame(columns=df_out.columns)\n",
    "        else:\n",
    "            raise ValueError(\"Need to be in return_df=True mode to get period details\")\n",
    "        \n",
    "    # Run n trials of this setup\n",
    "    for trial in range(num_trials):\n",
    "\n",
    "        agent_maker = make_env.MakeAgents(num_traders, trader_objects, num_units, \n",
    "                                            grid_size, lower_bound, upper_bound, False, movement_error_rate, reset_flag_frequency=reset_flag_frequency, \n",
    "                                            reset_flag_min_agents=reset_flag_min_agents, reset_flag_on_random=reset_flag_on_random, reset_flag_window=reset_flag_window, \n",
    "                                          reset_flag_min_trades=reset_flag_min_trades)\n",
    "        agent_maker.make_agents()\n",
    "        agent_maker.set_locations(grid_size)\n",
    "        agents = agent_maker.get_agents()\n",
    "\n",
    "        # set up market\n",
    "        agent_maker.make_market(sim_name)\n",
    "        market = agent_maker.get_market()\n",
    "\n",
    "        if not return_period_df:\n",
    "            trial_data = make_event_sim(sim_name, num_periods, num_weeks, \n",
    "                                        event_begin, event_end, market, agents,\n",
    "                                        num_rounds, grid_size,\n",
    "                                        num_traders, num_units,\n",
    "                                        lower_bound, upper_bound,\n",
    "                                        trader_objects, movement_error_rate, compliance_rate, return_df, reset_flag_frequency=reset_flag_frequency, \n",
    "                                            reset_flag_min_agents=reset_flag_min_agents, reset_flag_on_random=reset_flag_on_random, reset_flag_window=reset_flag_window, \n",
    "                                        reset_flag_min_trades=reset_flag_min_trades)\n",
    "        else:\n",
    "            trial_data, trial_period_data = make_event_sim(sim_name, num_periods, num_weeks, \n",
    "                            event_begin, event_end, market, agents,\n",
    "                            num_rounds, grid_size,\n",
    "                            num_traders, num_units,\n",
    "                            lower_bound, upper_bound,\n",
    "                            trader_objects, movement_error_rate, compliance_rate, return_df, return_period_df, reset_flag_frequency=reset_flag_frequency, \n",
    "                                            reset_flag_min_agents=reset_flag_min_agents, reset_flag_on_random=reset_flag_on_random, reset_flag_window=reset_flag_window, \n",
    "                                                           reset_flag_min_trades=reset_flag_min_trades)\n",
    "            \n",
    "        sim_data[trial] = trial_data\n",
    "\n",
    "        if return_df:\n",
    "            trial_data['trial'] = trial\n",
    "            if len(df_out) == 0:\n",
    "                df_out = trial_data\n",
    "            else:\n",
    "                df_out = pd.concat([df_out, trial_data])\n",
    "                \n",
    "        if return_period_df:\n",
    "            trial_period_data['trial'] = trial\n",
    "            if len(period_out_df) == 0:\n",
    "                period_out_df = trial_period_data\n",
    "            else:\n",
    "                period_out_df = pd.concat([period_out_df, trial_period_data])\n",
    "    \n",
    "    if return_df:\n",
    "        df_out = df_out.reset_index(drop=True)\n",
    "        df_out['num_trials'] = num_trials\n",
    "        if return_period_df:\n",
    "            period_out_df = period_out_df.reset_index(drop=True)\n",
    "            period_out_df['num_trials'] = num_trials\n",
    "            return df_out, period_out_df\n",
    "        else:\n",
    "            return df_out\n",
    "    else:\n",
    "        return sim_data\n",
    "\n",
    "\n",
    "def format_df_for_boxplot(data_df, x_var, y_var, x_range=None):\n",
    "    \"\"\"Reformats dataframe to be a matrix of [[y_1, ..., y_n]], [[y_2, ..., y_n]], ...]; length = length of x; indexes correspond to x's; for use in the box-plotting functions\n",
    "        x_range (iterable): If using non-numeric x, need to specify a custom range for these, as the function cannot otherwise parse the data range.\n",
    "    \"\"\"\n",
    "\n",
    "    matrix_out = []\n",
    "    \n",
    "    # If not provided, figure out x-range\n",
    "    if x_range is None:\n",
    "        x_min = data_df[x_var].min()\n",
    "        x_max = data_df[x_var].max()\n",
    "        x_range = range(x_min, x_max+1)\n",
    "\n",
    "    # Traverse the dataframe\n",
    "    for x in x_range:\n",
    "        x_match = data_df[data_df[x_var]==x]\n",
    "        y_vals = list(x_match[y_var].values)\n",
    "        this_row = y_vals\n",
    "        matrix_out.append(this_row)\n",
    "    \n",
    "    return matrix_out"
   ]
  },
  {
   "cell_type": "code",
   "execution_count": 33,
   "id": "16c0ac64-c79b-47d7-aeae-9e3e0632dae2",
   "metadata": {},
   "outputs": [],
   "source": [
    "def plot_boxplot_data(boxplot_data, title=None, y_lab=None, x_lab=None, x_ticks=None, x_tick_labs=None, rbars=None, savename=None):\n",
    "    fig, ax1 = plt.subplots(figsize=(8, 8))\n",
    "    fig.canvas.manager.set_window_title('A Boxplot Example')\n",
    "    fig.subplots_adjust(left=0.075, right=0.95, top=0.9, bottom=0.25)\n",
    "    \n",
    "    bp = ax1.boxplot(boxplot_data, notch=True, sym='+', vert=1, whis=1.5)\n",
    "    plt.setp(bp['boxes'], color='black')\n",
    "    plt.setp(bp['whiskers'], color='black')\n",
    "    plt.setp(bp['fliers'], color='red', marker='+')\n",
    "    \n",
    "    # Add a horizontal grid to the plot, but make it very light in color\n",
    "    # so we can use it for reading data values but not be distracting\n",
    "    ax1.yaxis.grid(True, linestyle='-', which='major', color='lightgrey',\n",
    "                   alpha=0.5)\n",
    "    \n",
    "    ax1.set(\n",
    "        axisbelow=True,  # Hide the grid behind plot objects\n",
    "        title=\"Distribution of Weekly Efficiencies Across Trials\",\n",
    "        xlabel=\"Weeks\",\n",
    "        ylabel='Efficiency',\n",
    "    )\n",
    "\n",
    "    if title is not None:\n",
    "        ax1.set(title=title)\n",
    "\n",
    "    if y_lab is not None:\n",
    "        ax1.set(ylabel=y_lab)\n",
    "\n",
    "    if x_lab is not None:\n",
    "        ax1.set(xlabel=x_lab)\n",
    "\n",
    "    if x_ticks is not None:\n",
    "        ax1.set_xticks(x_ticks)\n",
    "\n",
    "    if x_tick_labs is not None:\n",
    "        ax1.set_xticklabels(x_tick_labs, fontsize=12)\n",
    "\n",
    "    # Override standard tick labels with provided x_ticks if x_tick_labs not provided\n",
    "    if x_ticks is not None and x_tick_labs is None:\n",
    "        ax1.set_xticklabels(x_ticks, fontsize=12)\n",
    "\n",
    "    if rbars is not None:\n",
    "        plt.axvspan(rbars[0], rbars[1], color=\"grey\", alpha=0.3)\n",
    "\n",
    "    if savename is not None:\n",
    "        plt.savefig(savename)\n",
    "        plt.clf()\n",
    "    \n",
    "    plt.show()\n",
    "    \n",
    "    "
   ]
  },
  {
   "cell_type": "code",
   "execution_count": 3,
   "id": "c10a65c4-c233-4630-bb32-dbc47eb20f95",
   "metadata": {},
   "outputs": [],
   "source": [
    "def avg_df_obs(df_data, x_var, y_var, form=\"mean\", percentiles=None):\n",
    "    \"\"\"Return the central tendency of the y_var observations, grouped on the x_var.\n",
    "        form = mean or median\n",
    "        percentiles (list) = None or list of percentiles to return\n",
    "    \"\"\"\n",
    "\n",
    "    grouped = df_data[[x_var, y_var]].groupby(x_var)\n",
    "\n",
    "    # TODO implement mean\n",
    "    if form == \"mean\":\n",
    "        df_out = grouped.mean()\n",
    "    # Todo implement median\n",
    "    elif form == \"median\":\n",
    "        df_out = grouped.median()\n",
    "        \n",
    "    # Todo implement percentile\n",
    "    if percentiles is not None:\n",
    "        for perc in percentiles:\n",
    "            colname = y_var + \"_q_\" + str(perc)\n",
    "            perc_frame = grouped.quantile(q=perc)\n",
    "            perc_frame = perc_frame.rename(columns={y_var: colname})\n",
    "            print(df_out.head())\n",
    "            print(perc_frame.head())\n",
    "            df_out = df_out.join(perc_frame)\n",
    "    \n",
    "    return df_out.reset_index()"
   ]
  },
  {
   "cell_type": "code",
   "execution_count": 4,
   "id": "fa472c5e-5497-4a75-bf40-c5356643313c",
   "metadata": {},
   "outputs": [],
   "source": [
    "def compare_graph(dfs, x_var, y_var, form=\"line\", form_type=\"mean\", line_labs=None, title=None, x_ticks=None, x_tick_labs=None):\n",
    "    \"\"\"If not line_labs list provided, uses the names of the simulations in the dataframes.\"\"\"\n",
    "\n",
    "    if line_labs is None:\n",
    "        line_labs = []\n",
    "        for i in range(len(dfs)):\n",
    "            line_labs.append(dfs[i][\"sim_name\"].values[0])\n",
    "\n",
    "    if x_tick_labs is None and x_ticks is not None:\n",
    "        x_tick_labs = x_ticks\n",
    "\n",
    "    plt.figure()\n",
    "    plt.title(title)\n",
    "    plt.xlabel(\"Week\")\n",
    "    plt.ylabel(\"Efficiency\")\n",
    "    plt.xticks(ticks=week_xticks, labels=week_xticks)\n",
    "    for i in range(len(treat_names)):\n",
    "        this_lab = treat_names[i]\n",
    "        this_df = treat_dfs[i]\n",
    "        mean_df = avg_df_obs(this_df, \"week\", \"eff\", form_type)\n",
    "        plt.plot(mean_df[\"week\"], mean_df[\"eff\"], label=this_lab)\n",
    "    \n",
    "    plt.legend()\n",
    "    plt.show()\n",
    "    "
   ]
  },
  {
   "cell_type": "code",
   "execution_count": 5,
   "id": "693eef2f-2dae-48ae-8d78-0015a851bad7",
   "metadata": {},
   "outputs": [],
   "source": [
    "def three_d_grid(grid_size):\n",
    "    \"\"\"Transforms a grid size into a projected-vector 3d grid - represented as a nm and mn vectors\"\"\"    \n",
    "    # create dimmensions - currently only for square grid of nXn\n",
    "    colnames = ['D1', 'D2']\n",
    "    grid_base = []\n",
    "    n = np.arange(grid_size)\n",
    "    m = np.arange(grid_size)\n",
    "    for n1 in n:\n",
    "        for m1 in m:\n",
    "            grid_base.append([n1, m1])\n",
    "\n",
    "    grid_df = pd.DataFrame(data=grid_base, columns=colnames)\n",
    "    return grid_df\n",
    "\n",
    "def plottable_locs(locs, grid_df, investigated=\"Agents\"):\n",
    "    \"\"\"Plots a location-agents dictionary onto a 3d grid based projects vectors\"\"\"\n",
    "    grid_new = grid_df.copy()\n",
    "    grid_new[investigated] = 0\n",
    "    for loc in locs.keys():\n",
    "        agent_at_key = len(locs[loc])\n",
    "        d1 = loc[0]\n",
    "        d2 = loc[1]\n",
    "        spot_ind = grid_new[(grid_new['D1'] == d1) & (grid_new['D2'] == d2)].index\n",
    "        grid_new[investigated].iloc[spot_ind] = agent_at_key\n",
    "    return grid_new\n",
    "\n",
    "def collate_loc_plots(sim_df, investigated=\"Agents\"):\n",
    "    \"\"\"Create large stacked DF with agent locations for every trial, week, and period\n",
    "        sim_df: dataframe of results\n",
    "        investigated: the value to report in the collated plotted grid df\n",
    "        \n",
    "        returns:\n",
    "            dataframe of stacked form with the grid and observed vars at the points per trial, week, period\n",
    "    \"\"\"\n",
    "    num_trials = sim_df['num_trials'].loc[0]\n",
    "    num_weeks = sim_df['num_weeks'].loc[0]\n",
    "    num_periods = sim_df['num_periods'].loc[0]\n",
    "    num_rounds = sim_df['num_rounds'].loc[0]\n",
    "    grid_size = sim_df['grid_size'].loc[0]\n",
    "    num_traders = sim_df['grid_size'].loc[0]\n",
    "\n",
    "    grd = three_d_grid(grid_size)\n",
    "    \n",
    "    control_cols = ['num_trials', 'num_weeks', 'num_periods', 'num_rounds', 'grid_size', 'num_traders', 'num_units', 'lower_bound', 'upper_bound']\n",
    "    rel_df = sim_df[list(set(sim_df.columns) - set(control_cols))]\n",
    "\n",
    "    out_df = pd.DataFrame()\n",
    "\n",
    "    # Traverse the simulation df and save stacked plots\n",
    "    for trial in range(num_trials):\n",
    "        trial_df = rel_df[rel_df['trial']==trial]\n",
    "        init_ind = trial_df[(trial_df['week']==-1) & (trial_df['period']==-1)].index\n",
    "        init_loc = trial_df['period_locs'].loc[init_ind].values[0]\n",
    "        init_plot = plottable_locs(init_loc, grd)\n",
    "        init_plot['trial'] = trial\n",
    "        init_plot['week'] = -1\n",
    "        init_plot['period'] = -1\n",
    "        out_df = pd.concat([out_df, init_plot])\n",
    "        for week in range(num_weeks):\n",
    "            week_df = trial_df[trial_df['week']==week]\n",
    "            for period in range(num_periods):\n",
    "                per_ind = week_df[week_df['period']==period].index\n",
    "                per_loc = week_df['period_locs'].loc[per_ind].values[0]\n",
    "                per_plot = plottable_locs(per_loc, grd)\n",
    "                per_plot['trial'] = trial\n",
    "                per_plot['week'] = week\n",
    "                per_plot['period'] = period\n",
    "                out_df = pd.concat([out_df, per_plot])\n",
    "\n",
    "    return out_df\n",
    "\n",
    "def graph_plotted(plotted, title_val=None, hue_val=\"Agents\", hue_norm_val=(0, 1), size_val=\"Agent\", size_norm_val=(0, 1), legend=False, palette=\"hot_r\",\n",
    "                 integer_bar=True, subtitle=False):\n",
    "    \"\"\"Visualize the data on a 2D grid to show the locations and values of the investigated value\"\"\"\n",
    "    \n",
    "    g = sns.relplot(\n",
    "        data=plotted,\n",
    "        x=\"D1\", y=\"D2\", hue=hue_val, size=\"Agents\",\n",
    "        palette=palette, hue_norm=hue_norm_val, edgecolor=\".7\",\n",
    "        height=10, sizes=(35, 400), size_norm=size_norm_val, legend=False\n",
    "    )\n",
    "\n",
    "    if not subtitle:\n",
    "        subtitle = \"\"\n",
    "    \n",
    "    # Tweak the figure to finalize\n",
    "    g.set(xlabel=subtitle, ylabel=\"\", aspect=\"equal\", xticks=[], yticks=[], xticklabels=[], yticklabels=[], title=title_val)\n",
    "    g.despine(left=True, bottom=True)\n",
    "    g.ax.margins(.03)\n",
    "    plt.grid()\n",
    "\n",
    "    if legend:\n",
    "        bar = g.figure.colorbar(mpl.cm.ScalarMappable(norm=hue_norm_val, cmap=palette),\n",
    "             ax=plt.gca(), label=hue_val, aspect=100, shrink=0.8)\n",
    "        \n",
    "        if integer_bar:\n",
    "            bar.locator = tckr.MaxNLocator(integer=True)\n",
    "        \n",
    "\n",
    "    return g\n",
    "\n",
    "import warnings\n",
    "import moviepy.video.io.ImageSequenceClip\n",
    "from PIL import Image, ImageFile\n",
    "# import PIL and PIL.ImageFile\n",
    "ImageFile.LOAD_TRUNCATED_IMAGES = True\n",
    "\n",
    "default_movie_stem = \"loc_movie\"\n",
    "default_graph_folder = \"loc_plots\"\n",
    "if not os.path.isdir(default_graph_folder):\n",
    "    os.mkdir(default_graph_folder)\n",
    "\n",
    "def to_len_str(number, str_len):\n",
    "    base_str = str(number)\n",
    "    new_str = '0'*(str_len-len(base_str)) + base_str\n",
    "    return new_str\n",
    "\n",
    "def movie_plotted(collated_plotted, movie_name=None, graph_folder=None, title_val=None, hue_val=\"Agents\", size_val=\"Agents\", scale=\"relative\", hue_max=None, \n",
    "                  size_max=None, week_max=None, period_max=None, include_init=True, fps=1, subtitle=True):\n",
    "    \"\"\"\n",
    "    collated_plotted: one trial (or an average of trials) plotted using \n",
    "    movie_name: The name to save the movie under (if not provided - uses default for the notebook + timestamp)\n",
    "    graph_folder: The name of the folder to save the graphs in (if not provided - uses default for the notebook + new folder timestamp)\n",
    "    title_val: what title to use\n",
    "    hue_val: what to place the hue on\n",
    "    size_val: what to place size on\n",
    "    scale: the way in which normalization will be applied to graph hues and sizes\n",
    "    hue_max: used for normalization of hue in absolute scale case\n",
    "    size_max: used for normalization of size in absolute scale case\n",
    "    \"\"\"\n",
    "    timestamp = int(time.time()*1000000) # integer to not have issues with os\n",
    "    if graph_folder is None:\n",
    "        graph_folder = default_graph_folder + \"/plots_\" + str(timestamp)\n",
    "    else:\n",
    "        graph_folder = default_graph_folder + \"/\" + graph_folder\n",
    "        \n",
    "    if movie_name is None:\n",
    "        movie_name = graph_folder + \"/movie.mp4\"\n",
    "    else:\n",
    "        movie_name = graph_folder + \"/\" + movie_name\n",
    "        \n",
    "    if scale == \"absolute\":\n",
    "        if hue_max is None:\n",
    "            raise ValueError(\"Hue max must be defined for absolute scaling\")\n",
    "        if size_max is None:\n",
    "            raise ValueError(\"Size max must be defined for absolute scaling\")\n",
    "    elif scale == \"relative\":\n",
    "        hue_max = np.max(collated_plotted[hue_val])\n",
    "        size_max = np.max(collated_plotted[size_val])\n",
    "        \n",
    "    hue_norm = colors.Normalize(vmin=0, vmax=hue_max)\n",
    "    size_norm = colors.Normalize(vmin=0, vmax=size_max)\n",
    "    \n",
    "    # Check if directories exists\n",
    "    if not os.path.isdir(graph_folder):\n",
    "        os.mkdir(graph_folder)\n",
    "\n",
    "    if os.path.isfile(movie_name):\n",
    "        warnings.warn(\"Movie name already used\")\n",
    "        return\n",
    "        # raise ValueError(\"Movie name already used\")\n",
    "\n",
    "    if week_max is None:\n",
    "        week_max = np.max(collated_plotted['week'])\n",
    "\n",
    "    week_digits = len(str(week_max))\n",
    "\n",
    "    if period_max is None:\n",
    "        period_max = np.max(collated_plotted['period'])\n",
    "\n",
    "    period_digits = len(str(week_max))\n",
    "\n",
    "    img_names = []\n",
    "    if include_init:\n",
    "        init_plot = collated_plotted[(collated_plotted['week']==-1) & (collated_plotted['period']==-1)]\n",
    "        init_name = graph_folder + \"/init_plot.png\"\n",
    "        img_names.append(init_name)\n",
    "        if subtitle:\n",
    "                subtitle = \"Initial Position\"\n",
    "        init_graph = graph_plotted(init_plot, title_val=title_val, hue_val=hue_val, hue_norm_val=hue_norm, size_val=size_val, size_norm_val=size_norm, \n",
    "                                   legend=True, subtitle=subtitle)\n",
    "        plt.savefig(init_name)\n",
    "        plt.close()\n",
    "    \n",
    "    for week in range(0, week_max+1):\n",
    "        for period in range(0, period_max+1):\n",
    "            this_plot = collated_plotted[(collated_plotted['week']==week) & (collated_plotted['period']==period)]\n",
    "            weekstr = to_len_str(week, week_digits)\n",
    "            prdstr = to_len_str(period, period_digits)\n",
    "            this_image_name = graph_folder + \"/w\" + weekstr + \"p\" + prdstr + \"_plot.png\"\n",
    "            img_names.append(this_image_name)\n",
    "            if subtitle:\n",
    "                subtitle = \"Week: \"+weekstr+\"; Period: \"+prdstr\n",
    "            \n",
    "            this_graph = graph_plotted(this_plot, title_val=title_val, hue_val=hue_val, hue_norm_val=hue_norm, size_val=size_val, size_norm_val=size_norm,\n",
    "                                      legend=True, subtitle=subtitle)\n",
    "            plt.savefig(this_image_name)\n",
    "            plt.close()\n",
    "            \n",
    "\n",
    "    # Create movie out of plotted graphs\n",
    "    fps = fps\n",
    "    clip = moviepy.video.io.ImageSequenceClip.ImageSequenceClip(img_names, fps=fps)\n",
    "    clip.write_videofile(movie_name)\n",
    "\n"
   ]
  },
  {
   "cell_type": "code",
   "execution_count": 38,
   "id": "fb46e049-ac37-4626-9520-a56ea2b1f7a5",
   "metadata": {},
   "outputs": [],
   "source": [
    "def compare_flags(num_weeks=100, movement_error_rate=0, compliance_rate=1, reset_freq=None, flag_specific=None, on_random=False, \n",
    "                 event_begin=48, event_end=52, title_prepend=None, folder=\"flag_reset_comparison\"):\n",
    "    min_agents = 2\n",
    "    window_size = 7\n",
    "    min_trades = 1\n",
    "    if reset_freq == \"MIN_AGENTS\" and flag_specific is not None:\n",
    "        min_agents = flag_specific\n",
    "    elif reset_freq == \"WEEK\" and flag_specific is not None:\n",
    "        min_trades = flag_specific\n",
    "    elif reset_freq == \"WINDOW\" and flag_specific is not None:\n",
    "        window_size = flag_specific[0]\n",
    "        min_trades = flag_specific[1]\n",
    "\n",
    "    tlt_append = \"\"\n",
    "    fn_append = \"\"\n",
    "    if movement_error_rate > 0:\n",
    "        tlt_append = f\"\\nFlagOnRandom: {on_random}\"\n",
    "        fn_append = f\"_fr_{str(on_random)[0]}\"\n",
    "    \n",
    "    if reset_freq is None or reset_freq == \"START\" or reset_freq == \"PERIOD\":\n",
    "        tlt = f\"FlagRule: {reset_freq}.\\nMoveErrorRate: {movement_error_rate}. ComplianceRate: {compliance_rate}.\" + tlt_append\n",
    "        fn_1 = f\"fr_{reset_freq}_er_{movement_error_rate}_cr_{compliance_rate}_t1\" + fn_append + \".png\"\n",
    "        fn_10 = f\"fr_{reset_freq}_er_{movement_error_rate}_cr_{compliance_rate}_t10\" + fn_append + \".png\"\n",
    "    elif reset_freq == \"MIN_AGENTS\":\n",
    "        tlt = f\"FlagRule: {reset_freq}. MinAgents: {min_agents}.\\nMoveErrorRate: {movement_error_rate}. ComplianceRate: {compliance_rate}.\" + tlt_append\n",
    "        fn_1 = f\"fr_{reset_freq}_ma_{min_agents}_er_{movement_error_rate}_cr_{compliance_rate}_t1\" + fn_append + \".png\"\n",
    "        fn_10 = f\"fr_{reset_freq}_ma_{min_agents}_er_{movement_error_rate}_cr_{compliance_rate}_t10\" + fn_append + \".png\"\n",
    "    elif reset_freq == \"WEEK\":\n",
    "        tlt = f\"FlagRule: {reset_freq}. MinTrades: {min_trades}.\\nMoveErrorRate: {movement_error_rate}. ComplianceRate: {compliance_rate}.\" + tlt_append\n",
    "        fn_1 = f\"fr_{reset_freq}_mt_{min_trades}_er_{movement_error_rate}_cr_{compliance_rate}_t1\" + fn_append + \".png\"\n",
    "        fn_10 = f\"fr_{reset_freq}_mt_{min_trades}_er_{movement_error_rate}_cr_{compliance_rate}_t10\" + fn_append + \".png\"\n",
    "    elif reset_freq == \"WINDOW\":\n",
    "        window_size = flag_specific[0]\n",
    "        min_trades = flag_specific[1]\n",
    "        tlt = f\"FlagRule: {reset_freq}. MinTrades: {min_trades}. Window: {window_size}.\\nMoveErrorRate: {movement_error_rate}. ComplianceRate: {compliance_rate}.\" + tlt_append\n",
    "        fn_1 = f\"fr_{reset_freq}_mt_{min_trades}_ws_{window_size}_er_{movement_error_rate}_cr_{compliance_rate}_t1\" + fn_append + \".png\"\n",
    "        fn_10 = f\"fr_{reset_freq}_mt_{min_trades}_ws_{window_size}_er_{movement_error_rate}_cr_{compliance_rate}_t10\" + fn_append + \".png\"\n",
    "\n",
    "    if title_prepend is not None:\n",
    "        fn_1 = title_prepend + fn_1\n",
    "        fn_10 = title_prepend + fn_10\n",
    "\n",
    "    num_trials = 1\n",
    "    num_periods = 7\n",
    "    \n",
    "    num_rounds = 5; grid_size = 15; num_traders = 20; num_units = 8; lower_bound = 200; upper_bound = 600\n",
    "    trader_objects =[(ZIDPA, 20),(ZID, 0)]\n",
    "    common_controls = [event_begin, event_end,\n",
    "                        num_rounds, grid_size,\n",
    "                        num_traders, num_units,\n",
    "                        lower_bound, upper_bound,\n",
    "                        trader_objects]\n",
    "    \n",
    "    trial_1 = make_event_monte_carlo(\"test1\", num_trials, num_periods, num_weeks, *common_controls, movement_error_rate, compliance_rate, return_df=True, \n",
    "                                     reset_flag_frequency=reset_freq, reset_flag_min_agents=min_agents, reset_flag_on_random=on_random,\n",
    "                                     reset_flag_window=window_size, reset_flag_min_trades=min_trades)\n",
    "    plt.plot(trial_1['eff'])\n",
    "    plt.axvspan(event_begin-0.5, event_end+0.5, color=\"grey\", alpha=0.3)\n",
    "    plt.title(tlt)\n",
    "    plt.xlabel(\"Week\")\n",
    "    plt.ylabel(\"Efficiency\")\n",
    "    plt.savefig(folder+\"/\"+fn_1)\n",
    "    plt.clf()\n",
    "\n",
    "    num_trials = 10\n",
    "\n",
    "    trial_10 = make_event_monte_carlo(\"test10\", num_trials, num_periods, num_weeks, *common_controls, movement_error_rate, compliance_rate, return_df=True, \n",
    "                                      reset_flag_frequency=reset_freq, reset_flag_min_agents=min_agents, reset_flag_on_random=on_random,\n",
    "                                      reset_flag_window=window_size, reset_flag_min_trades=min_trades)\n",
    "    \n",
    "    td_boxplot = format_df_for_boxplot(trial_10, 'week', 'eff')\n",
    "    \n",
    "    #plt.axvspan(event_begin, event_end, color=\"grey\", alpha=0.3)\n",
    "\n",
    "    incr = 10\n",
    "    if num_weeks == 500:\n",
    "        incr = 40\n",
    "\n",
    "    svn = folder+\"/\"+fn_10\n",
    "    plot_boxplot_data(td_boxplot, title=tlt, y_lab=\"Efficiency\", x_lab=\"Week\", x_ticks=np.arange(0, num_weeks+1, incr), rbars=(event_begin-0.5, event_end+0.5),\n",
    "                     savename=svn)\n"
   ]
  },
  {
   "cell_type": "code",
   "execution_count": 25,
   "id": "47a24765-7c91-4f35-a763-cc5bbe58647c",
   "metadata": {},
   "outputs": [],
   "source": [
    "def prepend_str(prepend_int):\n",
    "    bs_str = str(prepend_int)\n",
    "    if len(bs_str) == 1:\n",
    "        r_str = \"000\" + bs_str\n",
    "    elif len(bs_str) == 2:\n",
    "        r_str = \"00\" + bs_str\n",
    "    elif len(bs_str) == 3:\n",
    "        r_str = \"0\" + bs_str\n",
    "    else:\n",
    "        r_str = bs_str\n",
    "        \n",
    "    return r_str"
   ]
  },
  {
   "cell_type": "code",
   "execution_count": 39,
   "id": "cb8020af-928d-4253-97c0-77e32e534b86",
   "metadata": {
    "scrolled": true
   },
   "outputs": [
    {
     "data": {
      "text/plain": [
       "<Figure size 640x480 with 0 Axes>"
      ]
     },
     "metadata": {},
     "output_type": "display_data"
    },
    {
     "data": {
      "text/plain": [
       "<Figure size 800x800 with 0 Axes>"
      ]
     },
     "metadata": {},
     "output_type": "display_data"
    },
    {
     "data": {
      "text/plain": [
       "<Figure size 640x480 with 0 Axes>"
      ]
     },
     "metadata": {},
     "output_type": "display_data"
    },
    {
     "data": {
      "text/plain": [
       "<Figure size 800x800 with 0 Axes>"
      ]
     },
     "metadata": {},
     "output_type": "display_data"
    },
    {
     "data": {
      "text/plain": [
       "<Figure size 640x480 with 0 Axes>"
      ]
     },
     "metadata": {},
     "output_type": "display_data"
    },
    {
     "data": {
      "text/plain": [
       "<Figure size 800x800 with 0 Axes>"
      ]
     },
     "metadata": {},
     "output_type": "display_data"
    },
    {
     "data": {
      "text/plain": [
       "<Figure size 640x480 with 0 Axes>"
      ]
     },
     "metadata": {},
     "output_type": "display_data"
    },
    {
     "data": {
      "text/plain": [
       "<Figure size 800x800 with 0 Axes>"
      ]
     },
     "metadata": {},
     "output_type": "display_data"
    },
    {
     "data": {
      "text/plain": [
       "<Figure size 640x480 with 0 Axes>"
      ]
     },
     "metadata": {},
     "output_type": "display_data"
    },
    {
     "data": {
      "text/plain": [
       "<Figure size 800x800 with 0 Axes>"
      ]
     },
     "metadata": {},
     "output_type": "display_data"
    },
    {
     "data": {
      "text/plain": [
       "<Figure size 640x480 with 0 Axes>"
      ]
     },
     "metadata": {},
     "output_type": "display_data"
    },
    {
     "data": {
      "text/plain": [
       "<Figure size 800x800 with 0 Axes>"
      ]
     },
     "metadata": {},
     "output_type": "display_data"
    },
    {
     "data": {
      "text/plain": [
       "<Figure size 640x480 with 0 Axes>"
      ]
     },
     "metadata": {},
     "output_type": "display_data"
    },
    {
     "data": {
      "text/plain": [
       "<Figure size 800x800 with 0 Axes>"
      ]
     },
     "metadata": {},
     "output_type": "display_data"
    },
    {
     "data": {
      "text/plain": [
       "<Figure size 640x480 with 0 Axes>"
      ]
     },
     "metadata": {},
     "output_type": "display_data"
    },
    {
     "data": {
      "text/plain": [
       "<Figure size 800x800 with 0 Axes>"
      ]
     },
     "metadata": {},
     "output_type": "display_data"
    },
    {
     "data": {
      "text/plain": [
       "<Figure size 640x480 with 0 Axes>"
      ]
     },
     "metadata": {},
     "output_type": "display_data"
    },
    {
     "data": {
      "text/plain": [
       "<Figure size 800x800 with 0 Axes>"
      ]
     },
     "metadata": {},
     "output_type": "display_data"
    },
    {
     "data": {
      "text/plain": [
       "<Figure size 640x480 with 0 Axes>"
      ]
     },
     "metadata": {},
     "output_type": "display_data"
    },
    {
     "data": {
      "text/plain": [
       "<Figure size 800x800 with 0 Axes>"
      ]
     },
     "metadata": {},
     "output_type": "display_data"
    },
    {
     "data": {
      "text/plain": [
       "<Figure size 640x480 with 0 Axes>"
      ]
     },
     "metadata": {},
     "output_type": "display_data"
    },
    {
     "data": {
      "text/plain": [
       "<Figure size 800x800 with 0 Axes>"
      ]
     },
     "metadata": {},
     "output_type": "display_data"
    },
    {
     "data": {
      "text/plain": [
       "<Figure size 640x480 with 0 Axes>"
      ]
     },
     "metadata": {},
     "output_type": "display_data"
    },
    {
     "data": {
      "text/plain": [
       "<Figure size 800x800 with 0 Axes>"
      ]
     },
     "metadata": {},
     "output_type": "display_data"
    },
    {
     "data": {
      "text/plain": [
       "<Figure size 640x480 with 0 Axes>"
      ]
     },
     "metadata": {},
     "output_type": "display_data"
    },
    {
     "data": {
      "text/plain": [
       "<Figure size 800x800 with 0 Axes>"
      ]
     },
     "metadata": {},
     "output_type": "display_data"
    },
    {
     "data": {
      "text/plain": [
       "<Figure size 640x480 with 0 Axes>"
      ]
     },
     "metadata": {},
     "output_type": "display_data"
    },
    {
     "data": {
      "text/plain": [
       "<Figure size 800x800 with 0 Axes>"
      ]
     },
     "metadata": {},
     "output_type": "display_data"
    },
    {
     "data": {
      "text/plain": [
       "<Figure size 640x480 with 0 Axes>"
      ]
     },
     "metadata": {},
     "output_type": "display_data"
    },
    {
     "data": {
      "text/plain": [
       "<Figure size 800x800 with 0 Axes>"
      ]
     },
     "metadata": {},
     "output_type": "display_data"
    },
    {
     "data": {
      "text/plain": [
       "<Figure size 640x480 with 0 Axes>"
      ]
     },
     "metadata": {},
     "output_type": "display_data"
    },
    {
     "data": {
      "text/plain": [
       "<Figure size 800x800 with 0 Axes>"
      ]
     },
     "metadata": {},
     "output_type": "display_data"
    },
    {
     "data": {
      "text/plain": [
       "<Figure size 640x480 with 0 Axes>"
      ]
     },
     "metadata": {},
     "output_type": "display_data"
    },
    {
     "data": {
      "text/plain": [
       "<Figure size 800x800 with 0 Axes>"
      ]
     },
     "metadata": {},
     "output_type": "display_data"
    },
    {
     "data": {
      "text/plain": [
       "<Figure size 640x480 with 0 Axes>"
      ]
     },
     "metadata": {},
     "output_type": "display_data"
    },
    {
     "data": {
      "text/plain": [
       "<Figure size 800x800 with 0 Axes>"
      ]
     },
     "metadata": {},
     "output_type": "display_data"
    },
    {
     "data": {
      "text/plain": [
       "<Figure size 640x480 with 0 Axes>"
      ]
     },
     "metadata": {},
     "output_type": "display_data"
    },
    {
     "data": {
      "text/plain": [
       "<Figure size 800x800 with 0 Axes>"
      ]
     },
     "metadata": {},
     "output_type": "display_data"
    },
    {
     "data": {
      "text/plain": [
       "<Figure size 640x480 with 0 Axes>"
      ]
     },
     "metadata": {},
     "output_type": "display_data"
    },
    {
     "data": {
      "text/plain": [
       "<Figure size 800x800 with 0 Axes>"
      ]
     },
     "metadata": {},
     "output_type": "display_data"
    },
    {
     "data": {
      "text/plain": [
       "<Figure size 640x480 with 0 Axes>"
      ]
     },
     "metadata": {},
     "output_type": "display_data"
    },
    {
     "data": {
      "text/plain": [
       "<Figure size 800x800 with 0 Axes>"
      ]
     },
     "metadata": {},
     "output_type": "display_data"
    },
    {
     "data": {
      "text/plain": [
       "<Figure size 640x480 with 0 Axes>"
      ]
     },
     "metadata": {},
     "output_type": "display_data"
    },
    {
     "data": {
      "text/plain": [
       "<Figure size 800x800 with 0 Axes>"
      ]
     },
     "metadata": {},
     "output_type": "display_data"
    },
    {
     "data": {
      "text/plain": [
       "<Figure size 640x480 with 0 Axes>"
      ]
     },
     "metadata": {},
     "output_type": "display_data"
    },
    {
     "data": {
      "text/plain": [
       "<Figure size 800x800 with 0 Axes>"
      ]
     },
     "metadata": {},
     "output_type": "display_data"
    },
    {
     "data": {
      "text/plain": [
       "<Figure size 640x480 with 0 Axes>"
      ]
     },
     "metadata": {},
     "output_type": "display_data"
    },
    {
     "data": {
      "text/plain": [
       "<Figure size 800x800 with 0 Axes>"
      ]
     },
     "metadata": {},
     "output_type": "display_data"
    },
    {
     "data": {
      "text/plain": [
       "<Figure size 640x480 with 0 Axes>"
      ]
     },
     "metadata": {},
     "output_type": "display_data"
    },
    {
     "data": {
      "text/plain": [
       "<Figure size 800x800 with 0 Axes>"
      ]
     },
     "metadata": {},
     "output_type": "display_data"
    },
    {
     "data": {
      "text/plain": [
       "<Figure size 640x480 with 0 Axes>"
      ]
     },
     "metadata": {},
     "output_type": "display_data"
    },
    {
     "data": {
      "text/plain": [
       "<Figure size 800x800 with 0 Axes>"
      ]
     },
     "metadata": {},
     "output_type": "display_data"
    },
    {
     "data": {
      "text/plain": [
       "<Figure size 640x480 with 0 Axes>"
      ]
     },
     "metadata": {},
     "output_type": "display_data"
    },
    {
     "data": {
      "text/plain": [
       "<Figure size 800x800 with 0 Axes>"
      ]
     },
     "metadata": {},
     "output_type": "display_data"
    },
    {
     "data": {
      "text/plain": [
       "<Figure size 640x480 with 0 Axes>"
      ]
     },
     "metadata": {},
     "output_type": "display_data"
    },
    {
     "data": {
      "text/plain": [
       "<Figure size 800x800 with 0 Axes>"
      ]
     },
     "metadata": {},
     "output_type": "display_data"
    },
    {
     "data": {
      "text/plain": [
       "<Figure size 640x480 with 0 Axes>"
      ]
     },
     "metadata": {},
     "output_type": "display_data"
    },
    {
     "data": {
      "text/plain": [
       "<Figure size 800x800 with 0 Axes>"
      ]
     },
     "metadata": {},
     "output_type": "display_data"
    },
    {
     "data": {
      "text/plain": [
       "<Figure size 640x480 with 0 Axes>"
      ]
     },
     "metadata": {},
     "output_type": "display_data"
    },
    {
     "data": {
      "text/plain": [
       "<Figure size 800x800 with 0 Axes>"
      ]
     },
     "metadata": {},
     "output_type": "display_data"
    },
    {
     "data": {
      "text/plain": [
       "<Figure size 640x480 with 0 Axes>"
      ]
     },
     "metadata": {},
     "output_type": "display_data"
    },
    {
     "data": {
      "text/plain": [
       "<Figure size 800x800 with 0 Axes>"
      ]
     },
     "metadata": {},
     "output_type": "display_data"
    },
    {
     "data": {
      "text/plain": [
       "<Figure size 640x480 with 0 Axes>"
      ]
     },
     "metadata": {},
     "output_type": "display_data"
    },
    {
     "data": {
      "text/plain": [
       "<Figure size 800x800 with 0 Axes>"
      ]
     },
     "metadata": {},
     "output_type": "display_data"
    },
    {
     "data": {
      "text/plain": [
       "<Figure size 640x480 with 0 Axes>"
      ]
     },
     "metadata": {},
     "output_type": "display_data"
    },
    {
     "data": {
      "text/plain": [
       "<Figure size 800x800 with 0 Axes>"
      ]
     },
     "metadata": {},
     "output_type": "display_data"
    },
    {
     "data": {
      "text/plain": [
       "<Figure size 640x480 with 0 Axes>"
      ]
     },
     "metadata": {},
     "output_type": "display_data"
    },
    {
     "data": {
      "text/plain": [
       "<Figure size 800x800 with 0 Axes>"
      ]
     },
     "metadata": {},
     "output_type": "display_data"
    },
    {
     "data": {
      "text/plain": [
       "<Figure size 640x480 with 0 Axes>"
      ]
     },
     "metadata": {},
     "output_type": "display_data"
    },
    {
     "data": {
      "text/plain": [
       "<Figure size 800x800 with 0 Axes>"
      ]
     },
     "metadata": {},
     "output_type": "display_data"
    },
    {
     "data": {
      "text/plain": [
       "<Figure size 640x480 with 0 Axes>"
      ]
     },
     "metadata": {},
     "output_type": "display_data"
    },
    {
     "data": {
      "text/plain": [
       "<Figure size 800x800 with 0 Axes>"
      ]
     },
     "metadata": {},
     "output_type": "display_data"
    },
    {
     "data": {
      "text/plain": [
       "<Figure size 640x480 with 0 Axes>"
      ]
     },
     "metadata": {},
     "output_type": "display_data"
    },
    {
     "data": {
      "text/plain": [
       "<Figure size 800x800 with 0 Axes>"
      ]
     },
     "metadata": {},
     "output_type": "display_data"
    },
    {
     "data": {
      "text/plain": [
       "<Figure size 640x480 with 0 Axes>"
      ]
     },
     "metadata": {},
     "output_type": "display_data"
    },
    {
     "data": {
      "text/plain": [
       "<Figure size 800x800 with 0 Axes>"
      ]
     },
     "metadata": {},
     "output_type": "display_data"
    },
    {
     "data": {
      "text/plain": [
       "<Figure size 640x480 with 0 Axes>"
      ]
     },
     "metadata": {},
     "output_type": "display_data"
    },
    {
     "data": {
      "text/plain": [
       "<Figure size 800x800 with 0 Axes>"
      ]
     },
     "metadata": {},
     "output_type": "display_data"
    },
    {
     "data": {
      "text/plain": [
       "<Figure size 640x480 with 0 Axes>"
      ]
     },
     "metadata": {},
     "output_type": "display_data"
    },
    {
     "data": {
      "text/plain": [
       "<Figure size 800x800 with 0 Axes>"
      ]
     },
     "metadata": {},
     "output_type": "display_data"
    },
    {
     "data": {
      "text/plain": [
       "<Figure size 640x480 with 0 Axes>"
      ]
     },
     "metadata": {},
     "output_type": "display_data"
    },
    {
     "data": {
      "text/plain": [
       "<Figure size 800x800 with 0 Axes>"
      ]
     },
     "metadata": {},
     "output_type": "display_data"
    },
    {
     "data": {
      "text/plain": [
       "<Figure size 640x480 with 0 Axes>"
      ]
     },
     "metadata": {},
     "output_type": "display_data"
    },
    {
     "data": {
      "text/plain": [
       "<Figure size 800x800 with 0 Axes>"
      ]
     },
     "metadata": {},
     "output_type": "display_data"
    },
    {
     "data": {
      "text/plain": [
       "<Figure size 640x480 with 0 Axes>"
      ]
     },
     "metadata": {},
     "output_type": "display_data"
    },
    {
     "data": {
      "text/plain": [
       "<Figure size 800x800 with 0 Axes>"
      ]
     },
     "metadata": {},
     "output_type": "display_data"
    },
    {
     "data": {
      "text/plain": [
       "<Figure size 640x480 with 0 Axes>"
      ]
     },
     "metadata": {},
     "output_type": "display_data"
    },
    {
     "data": {
      "text/plain": [
       "<Figure size 800x800 with 0 Axes>"
      ]
     },
     "metadata": {},
     "output_type": "display_data"
    },
    {
     "data": {
      "text/plain": [
       "<Figure size 640x480 with 0 Axes>"
      ]
     },
     "metadata": {},
     "output_type": "display_data"
    },
    {
     "data": {
      "text/plain": [
       "<Figure size 800x800 with 0 Axes>"
      ]
     },
     "metadata": {},
     "output_type": "display_data"
    },
    {
     "data": {
      "text/plain": [
       "<Figure size 640x480 with 0 Axes>"
      ]
     },
     "metadata": {},
     "output_type": "display_data"
    },
    {
     "data": {
      "text/plain": [
       "<Figure size 800x800 with 0 Axes>"
      ]
     },
     "metadata": {},
     "output_type": "display_data"
    },
    {
     "data": {
      "text/plain": [
       "<Figure size 640x480 with 0 Axes>"
      ]
     },
     "metadata": {},
     "output_type": "display_data"
    },
    {
     "data": {
      "text/plain": [
       "<Figure size 800x800 with 0 Axes>"
      ]
     },
     "metadata": {},
     "output_type": "display_data"
    },
    {
     "data": {
      "text/plain": [
       "<Figure size 640x480 with 0 Axes>"
      ]
     },
     "metadata": {},
     "output_type": "display_data"
    },
    {
     "data": {
      "text/plain": [
       "<Figure size 800x800 with 0 Axes>"
      ]
     },
     "metadata": {},
     "output_type": "display_data"
    },
    {
     "data": {
      "text/plain": [
       "<Figure size 640x480 with 0 Axes>"
      ]
     },
     "metadata": {},
     "output_type": "display_data"
    },
    {
     "data": {
      "text/plain": [
       "<Figure size 800x800 with 0 Axes>"
      ]
     },
     "metadata": {},
     "output_type": "display_data"
    },
    {
     "data": {
      "text/plain": [
       "<Figure size 640x480 with 0 Axes>"
      ]
     },
     "metadata": {},
     "output_type": "display_data"
    },
    {
     "data": {
      "text/plain": [
       "<Figure size 800x800 with 0 Axes>"
      ]
     },
     "metadata": {},
     "output_type": "display_data"
    },
    {
     "data": {
      "text/plain": [
       "<Figure size 640x480 with 0 Axes>"
      ]
     },
     "metadata": {},
     "output_type": "display_data"
    },
    {
     "data": {
      "text/plain": [
       "<Figure size 800x800 with 0 Axes>"
      ]
     },
     "metadata": {},
     "output_type": "display_data"
    },
    {
     "data": {
      "text/plain": [
       "<Figure size 640x480 with 0 Axes>"
      ]
     },
     "metadata": {},
     "output_type": "display_data"
    },
    {
     "data": {
      "text/plain": [
       "<Figure size 800x800 with 0 Axes>"
      ]
     },
     "metadata": {},
     "output_type": "display_data"
    },
    {
     "data": {
      "text/plain": [
       "<Figure size 640x480 with 0 Axes>"
      ]
     },
     "metadata": {},
     "output_type": "display_data"
    },
    {
     "data": {
      "text/plain": [
       "<Figure size 800x800 with 0 Axes>"
      ]
     },
     "metadata": {},
     "output_type": "display_data"
    },
    {
     "data": {
      "text/plain": [
       "<Figure size 640x480 with 0 Axes>"
      ]
     },
     "metadata": {},
     "output_type": "display_data"
    },
    {
     "data": {
      "text/plain": [
       "<Figure size 800x800 with 0 Axes>"
      ]
     },
     "metadata": {},
     "output_type": "display_data"
    },
    {
     "data": {
      "text/plain": [
       "<Figure size 640x480 with 0 Axes>"
      ]
     },
     "metadata": {},
     "output_type": "display_data"
    },
    {
     "data": {
      "text/plain": [
       "<Figure size 800x800 with 0 Axes>"
      ]
     },
     "metadata": {},
     "output_type": "display_data"
    },
    {
     "data": {
      "text/plain": [
       "<Figure size 640x480 with 0 Axes>"
      ]
     },
     "metadata": {},
     "output_type": "display_data"
    },
    {
     "data": {
      "text/plain": [
       "<Figure size 800x800 with 0 Axes>"
      ]
     },
     "metadata": {},
     "output_type": "display_data"
    },
    {
     "data": {
      "text/plain": [
       "<Figure size 640x480 with 0 Axes>"
      ]
     },
     "metadata": {},
     "output_type": "display_data"
    },
    {
     "data": {
      "text/plain": [
       "<Figure size 800x800 with 0 Axes>"
      ]
     },
     "metadata": {},
     "output_type": "display_data"
    },
    {
     "data": {
      "text/plain": [
       "<Figure size 640x480 with 0 Axes>"
      ]
     },
     "metadata": {},
     "output_type": "display_data"
    },
    {
     "data": {
      "text/plain": [
       "<Figure size 800x800 with 0 Axes>"
      ]
     },
     "metadata": {},
     "output_type": "display_data"
    },
    {
     "data": {
      "text/plain": [
       "<Figure size 640x480 with 0 Axes>"
      ]
     },
     "metadata": {},
     "output_type": "display_data"
    },
    {
     "data": {
      "text/plain": [
       "<Figure size 800x800 with 0 Axes>"
      ]
     },
     "metadata": {},
     "output_type": "display_data"
    },
    {
     "data": {
      "text/plain": [
       "<Figure size 640x480 with 0 Axes>"
      ]
     },
     "metadata": {},
     "output_type": "display_data"
    },
    {
     "data": {
      "text/plain": [
       "<Figure size 800x800 with 0 Axes>"
      ]
     },
     "metadata": {},
     "output_type": "display_data"
    },
    {
     "data": {
      "text/plain": [
       "<Figure size 640x480 with 0 Axes>"
      ]
     },
     "metadata": {},
     "output_type": "display_data"
    },
    {
     "data": {
      "text/plain": [
       "<Figure size 800x800 with 0 Axes>"
      ]
     },
     "metadata": {},
     "output_type": "display_data"
    },
    {
     "data": {
      "text/plain": [
       "<Figure size 640x480 with 0 Axes>"
      ]
     },
     "metadata": {},
     "output_type": "display_data"
    },
    {
     "data": {
      "text/plain": [
       "<Figure size 800x800 with 0 Axes>"
      ]
     },
     "metadata": {},
     "output_type": "display_data"
    },
    {
     "data": {
      "text/plain": [
       "<Figure size 640x480 with 0 Axes>"
      ]
     },
     "metadata": {},
     "output_type": "display_data"
    },
    {
     "data": {
      "text/plain": [
       "<Figure size 800x800 with 0 Axes>"
      ]
     },
     "metadata": {},
     "output_type": "display_data"
    },
    {
     "data": {
      "text/plain": [
       "<Figure size 640x480 with 0 Axes>"
      ]
     },
     "metadata": {},
     "output_type": "display_data"
    },
    {
     "data": {
      "text/plain": [
       "<Figure size 800x800 with 0 Axes>"
      ]
     },
     "metadata": {},
     "output_type": "display_data"
    },
    {
     "data": {
      "text/plain": [
       "<Figure size 640x480 with 0 Axes>"
      ]
     },
     "metadata": {},
     "output_type": "display_data"
    },
    {
     "data": {
      "text/plain": [
       "<Figure size 800x800 with 0 Axes>"
      ]
     },
     "metadata": {},
     "output_type": "display_data"
    },
    {
     "data": {
      "text/plain": [
       "<Figure size 640x480 with 0 Axes>"
      ]
     },
     "metadata": {},
     "output_type": "display_data"
    },
    {
     "data": {
      "text/plain": [
       "<Figure size 800x800 with 0 Axes>"
      ]
     },
     "metadata": {},
     "output_type": "display_data"
    },
    {
     "data": {
      "text/plain": [
       "<Figure size 640x480 with 0 Axes>"
      ]
     },
     "metadata": {},
     "output_type": "display_data"
    },
    {
     "data": {
      "text/plain": [
       "<Figure size 800x800 with 0 Axes>"
      ]
     },
     "metadata": {},
     "output_type": "display_data"
    },
    {
     "data": {
      "text/plain": [
       "<Figure size 640x480 with 0 Axes>"
      ]
     },
     "metadata": {},
     "output_type": "display_data"
    },
    {
     "data": {
      "text/plain": [
       "<Figure size 800x800 with 0 Axes>"
      ]
     },
     "metadata": {},
     "output_type": "display_data"
    },
    {
     "data": {
      "text/plain": [
       "<Figure size 640x480 with 0 Axes>"
      ]
     },
     "metadata": {},
     "output_type": "display_data"
    },
    {
     "data": {
      "text/plain": [
       "<Figure size 800x800 with 0 Axes>"
      ]
     },
     "metadata": {},
     "output_type": "display_data"
    },
    {
     "data": {
      "text/plain": [
       "<Figure size 640x480 with 0 Axes>"
      ]
     },
     "metadata": {},
     "output_type": "display_data"
    },
    {
     "data": {
      "text/plain": [
       "<Figure size 800x800 with 0 Axes>"
      ]
     },
     "metadata": {},
     "output_type": "display_data"
    },
    {
     "data": {
      "text/plain": [
       "<Figure size 640x480 with 0 Axes>"
      ]
     },
     "metadata": {},
     "output_type": "display_data"
    },
    {
     "data": {
      "text/plain": [
       "<Figure size 800x800 with 0 Axes>"
      ]
     },
     "metadata": {},
     "output_type": "display_data"
    },
    {
     "data": {
      "text/plain": [
       "<Figure size 640x480 with 0 Axes>"
      ]
     },
     "metadata": {},
     "output_type": "display_data"
    },
    {
     "data": {
      "text/plain": [
       "<Figure size 800x800 with 0 Axes>"
      ]
     },
     "metadata": {},
     "output_type": "display_data"
    },
    {
     "data": {
      "text/plain": [
       "<Figure size 640x480 with 0 Axes>"
      ]
     },
     "metadata": {},
     "output_type": "display_data"
    },
    {
     "data": {
      "text/plain": [
       "<Figure size 800x800 with 0 Axes>"
      ]
     },
     "metadata": {},
     "output_type": "display_data"
    },
    {
     "data": {
      "text/plain": [
       "<Figure size 640x480 with 0 Axes>"
      ]
     },
     "metadata": {},
     "output_type": "display_data"
    },
    {
     "data": {
      "text/plain": [
       "<Figure size 800x800 with 0 Axes>"
      ]
     },
     "metadata": {},
     "output_type": "display_data"
    },
    {
     "data": {
      "text/plain": [
       "<Figure size 640x480 with 0 Axes>"
      ]
     },
     "metadata": {},
     "output_type": "display_data"
    },
    {
     "data": {
      "text/plain": [
       "<Figure size 800x800 with 0 Axes>"
      ]
     },
     "metadata": {},
     "output_type": "display_data"
    },
    {
     "data": {
      "text/plain": [
       "<Figure size 640x480 with 0 Axes>"
      ]
     },
     "metadata": {},
     "output_type": "display_data"
    },
    {
     "data": {
      "text/plain": [
       "<Figure size 800x800 with 0 Axes>"
      ]
     },
     "metadata": {},
     "output_type": "display_data"
    },
    {
     "data": {
      "text/plain": [
       "<Figure size 640x480 with 0 Axes>"
      ]
     },
     "metadata": {},
     "output_type": "display_data"
    },
    {
     "data": {
      "text/plain": [
       "<Figure size 800x800 with 0 Axes>"
      ]
     },
     "metadata": {},
     "output_type": "display_data"
    },
    {
     "data": {
      "text/plain": [
       "<Figure size 640x480 with 0 Axes>"
      ]
     },
     "metadata": {},
     "output_type": "display_data"
    },
    {
     "data": {
      "text/plain": [
       "<Figure size 800x800 with 0 Axes>"
      ]
     },
     "metadata": {},
     "output_type": "display_data"
    },
    {
     "data": {
      "text/plain": [
       "<Figure size 640x480 with 0 Axes>"
      ]
     },
     "metadata": {},
     "output_type": "display_data"
    },
    {
     "data": {
      "text/plain": [
       "<Figure size 800x800 with 0 Axes>"
      ]
     },
     "metadata": {},
     "output_type": "display_data"
    },
    {
     "data": {
      "text/plain": [
       "<Figure size 640x480 with 0 Axes>"
      ]
     },
     "metadata": {},
     "output_type": "display_data"
    },
    {
     "data": {
      "text/plain": [
       "<Figure size 800x800 with 0 Axes>"
      ]
     },
     "metadata": {},
     "output_type": "display_data"
    },
    {
     "data": {
      "text/plain": [
       "<Figure size 640x480 with 0 Axes>"
      ]
     },
     "metadata": {},
     "output_type": "display_data"
    },
    {
     "data": {
      "text/plain": [
       "<Figure size 800x800 with 0 Axes>"
      ]
     },
     "metadata": {},
     "output_type": "display_data"
    },
    {
     "data": {
      "text/plain": [
       "<Figure size 640x480 with 0 Axes>"
      ]
     },
     "metadata": {},
     "output_type": "display_data"
    },
    {
     "data": {
      "text/plain": [
       "<Figure size 800x800 with 0 Axes>"
      ]
     },
     "metadata": {},
     "output_type": "display_data"
    },
    {
     "data": {
      "text/plain": [
       "<Figure size 640x480 with 0 Axes>"
      ]
     },
     "metadata": {},
     "output_type": "display_data"
    },
    {
     "data": {
      "text/plain": [
       "<Figure size 800x800 with 0 Axes>"
      ]
     },
     "metadata": {},
     "output_type": "display_data"
    },
    {
     "data": {
      "text/plain": [
       "<Figure size 640x480 with 0 Axes>"
      ]
     },
     "metadata": {},
     "output_type": "display_data"
    },
    {
     "data": {
      "text/plain": [
       "<Figure size 800x800 with 0 Axes>"
      ]
     },
     "metadata": {},
     "output_type": "display_data"
    },
    {
     "data": {
      "text/plain": [
       "<Figure size 640x480 with 0 Axes>"
      ]
     },
     "metadata": {},
     "output_type": "display_data"
    },
    {
     "data": {
      "text/plain": [
       "<Figure size 800x800 with 0 Axes>"
      ]
     },
     "metadata": {},
     "output_type": "display_data"
    },
    {
     "data": {
      "text/plain": [
       "<Figure size 640x480 with 0 Axes>"
      ]
     },
     "metadata": {},
     "output_type": "display_data"
    },
    {
     "data": {
      "text/plain": [
       "<Figure size 800x800 with 0 Axes>"
      ]
     },
     "metadata": {},
     "output_type": "display_data"
    },
    {
     "data": {
      "text/plain": [
       "<Figure size 640x480 with 0 Axes>"
      ]
     },
     "metadata": {},
     "output_type": "display_data"
    },
    {
     "data": {
      "text/plain": [
       "<Figure size 800x800 with 0 Axes>"
      ]
     },
     "metadata": {},
     "output_type": "display_data"
    },
    {
     "data": {
      "text/plain": [
       "<Figure size 640x480 with 0 Axes>"
      ]
     },
     "metadata": {},
     "output_type": "display_data"
    },
    {
     "data": {
      "text/plain": [
       "<Figure size 800x800 with 0 Axes>"
      ]
     },
     "metadata": {},
     "output_type": "display_data"
    },
    {
     "data": {
      "text/plain": [
       "<Figure size 640x480 with 0 Axes>"
      ]
     },
     "metadata": {},
     "output_type": "display_data"
    },
    {
     "data": {
      "text/plain": [
       "<Figure size 800x800 with 0 Axes>"
      ]
     },
     "metadata": {},
     "output_type": "display_data"
    },
    {
     "data": {
      "text/plain": [
       "<Figure size 640x480 with 0 Axes>"
      ]
     },
     "metadata": {},
     "output_type": "display_data"
    },
    {
     "data": {
      "text/plain": [
       "<Figure size 800x800 with 0 Axes>"
      ]
     },
     "metadata": {},
     "output_type": "display_data"
    },
    {
     "data": {
      "text/plain": [
       "<Figure size 640x480 with 0 Axes>"
      ]
     },
     "metadata": {},
     "output_type": "display_data"
    },
    {
     "data": {
      "text/plain": [
       "<Figure size 800x800 with 0 Axes>"
      ]
     },
     "metadata": {},
     "output_type": "display_data"
    },
    {
     "data": {
      "text/plain": [
       "<Figure size 640x480 with 0 Axes>"
      ]
     },
     "metadata": {},
     "output_type": "display_data"
    },
    {
     "data": {
      "text/plain": [
       "<Figure size 800x800 with 0 Axes>"
      ]
     },
     "metadata": {},
     "output_type": "display_data"
    },
    {
     "data": {
      "text/plain": [
       "<Figure size 640x480 with 0 Axes>"
      ]
     },
     "metadata": {},
     "output_type": "display_data"
    },
    {
     "data": {
      "text/plain": [
       "<Figure size 800x800 with 0 Axes>"
      ]
     },
     "metadata": {},
     "output_type": "display_data"
    },
    {
     "data": {
      "text/plain": [
       "<Figure size 640x480 with 0 Axes>"
      ]
     },
     "metadata": {},
     "output_type": "display_data"
    },
    {
     "data": {
      "text/plain": [
       "<Figure size 800x800 with 0 Axes>"
      ]
     },
     "metadata": {},
     "output_type": "display_data"
    },
    {
     "data": {
      "text/plain": [
       "<Figure size 640x480 with 0 Axes>"
      ]
     },
     "metadata": {},
     "output_type": "display_data"
    },
    {
     "data": {
      "text/plain": [
       "<Figure size 800x800 with 0 Axes>"
      ]
     },
     "metadata": {},
     "output_type": "display_data"
    },
    {
     "data": {
      "text/plain": [
       "<Figure size 640x480 with 0 Axes>"
      ]
     },
     "metadata": {},
     "output_type": "display_data"
    },
    {
     "data": {
      "text/plain": [
       "<Figure size 800x800 with 0 Axes>"
      ]
     },
     "metadata": {},
     "output_type": "display_data"
    },
    {
     "data": {
      "text/plain": [
       "<Figure size 640x480 with 0 Axes>"
      ]
     },
     "metadata": {},
     "output_type": "display_data"
    },
    {
     "data": {
      "text/plain": [
       "<Figure size 800x800 with 0 Axes>"
      ]
     },
     "metadata": {},
     "output_type": "display_data"
    },
    {
     "data": {
      "text/plain": [
       "<Figure size 640x480 with 0 Axes>"
      ]
     },
     "metadata": {},
     "output_type": "display_data"
    },
    {
     "data": {
      "text/plain": [
       "<Figure size 800x800 with 0 Axes>"
      ]
     },
     "metadata": {},
     "output_type": "display_data"
    },
    {
     "data": {
      "text/plain": [
       "<Figure size 640x480 with 0 Axes>"
      ]
     },
     "metadata": {},
     "output_type": "display_data"
    },
    {
     "data": {
      "text/plain": [
       "<Figure size 800x800 with 0 Axes>"
      ]
     },
     "metadata": {},
     "output_type": "display_data"
    },
    {
     "data": {
      "text/plain": [
       "<Figure size 640x480 with 0 Axes>"
      ]
     },
     "metadata": {},
     "output_type": "display_data"
    },
    {
     "data": {
      "text/plain": [
       "<Figure size 800x800 with 0 Axes>"
      ]
     },
     "metadata": {},
     "output_type": "display_data"
    },
    {
     "data": {
      "text/plain": [
       "<Figure size 640x480 with 0 Axes>"
      ]
     },
     "metadata": {},
     "output_type": "display_data"
    },
    {
     "data": {
      "text/plain": [
       "<Figure size 800x800 with 0 Axes>"
      ]
     },
     "metadata": {},
     "output_type": "display_data"
    },
    {
     "data": {
      "text/plain": [
       "<Figure size 640x480 with 0 Axes>"
      ]
     },
     "metadata": {},
     "output_type": "display_data"
    },
    {
     "data": {
      "text/plain": [
       "<Figure size 800x800 with 0 Axes>"
      ]
     },
     "metadata": {},
     "output_type": "display_data"
    },
    {
     "data": {
      "text/plain": [
       "<Figure size 640x480 with 0 Axes>"
      ]
     },
     "metadata": {},
     "output_type": "display_data"
    },
    {
     "data": {
      "text/plain": [
       "<Figure size 800x800 with 0 Axes>"
      ]
     },
     "metadata": {},
     "output_type": "display_data"
    },
    {
     "data": {
      "text/plain": [
       "<Figure size 640x480 with 0 Axes>"
      ]
     },
     "metadata": {},
     "output_type": "display_data"
    },
    {
     "data": {
      "text/plain": [
       "<Figure size 800x800 with 0 Axes>"
      ]
     },
     "metadata": {},
     "output_type": "display_data"
    },
    {
     "data": {
      "text/plain": [
       "<Figure size 640x480 with 0 Axes>"
      ]
     },
     "metadata": {},
     "output_type": "display_data"
    },
    {
     "data": {
      "text/plain": [
       "<Figure size 800x800 with 0 Axes>"
      ]
     },
     "metadata": {},
     "output_type": "display_data"
    },
    {
     "data": {
      "text/plain": [
       "<Figure size 640x480 with 0 Axes>"
      ]
     },
     "metadata": {},
     "output_type": "display_data"
    },
    {
     "data": {
      "text/plain": [
       "<Figure size 800x800 with 0 Axes>"
      ]
     },
     "metadata": {},
     "output_type": "display_data"
    },
    {
     "data": {
      "text/plain": [
       "<Figure size 640x480 with 0 Axes>"
      ]
     },
     "metadata": {},
     "output_type": "display_data"
    },
    {
     "data": {
      "text/plain": [
       "<Figure size 800x800 with 0 Axes>"
      ]
     },
     "metadata": {},
     "output_type": "display_data"
    },
    {
     "data": {
      "text/plain": [
       "<Figure size 640x480 with 0 Axes>"
      ]
     },
     "metadata": {},
     "output_type": "display_data"
    },
    {
     "data": {
      "text/plain": [
       "<Figure size 800x800 with 0 Axes>"
      ]
     },
     "metadata": {},
     "output_type": "display_data"
    },
    {
     "data": {
      "text/plain": [
       "<Figure size 640x480 with 0 Axes>"
      ]
     },
     "metadata": {},
     "output_type": "display_data"
    },
    {
     "data": {
      "text/plain": [
       "<Figure size 800x800 with 0 Axes>"
      ]
     },
     "metadata": {},
     "output_type": "display_data"
    },
    {
     "data": {
      "text/plain": [
       "<Figure size 640x480 with 0 Axes>"
      ]
     },
     "metadata": {},
     "output_type": "display_data"
    },
    {
     "data": {
      "text/plain": [
       "<Figure size 800x800 with 0 Axes>"
      ]
     },
     "metadata": {},
     "output_type": "display_data"
    },
    {
     "data": {
      "text/plain": [
       "<Figure size 640x480 with 0 Axes>"
      ]
     },
     "metadata": {},
     "output_type": "display_data"
    },
    {
     "data": {
      "text/plain": [
       "<Figure size 800x800 with 0 Axes>"
      ]
     },
     "metadata": {},
     "output_type": "display_data"
    },
    {
     "data": {
      "text/plain": [
       "<Figure size 640x480 with 0 Axes>"
      ]
     },
     "metadata": {},
     "output_type": "display_data"
    },
    {
     "data": {
      "text/plain": [
       "<Figure size 800x800 with 0 Axes>"
      ]
     },
     "metadata": {},
     "output_type": "display_data"
    }
   ],
   "source": [
    "# Treatment names\n",
    "reset_freq_s = [None, \"START\", \"PERIOD\", \"MIN_AGENTS\", \"WEEK\", \"WINDOW\"]\n",
    "\n",
    "movement_error_rate_s = [0, 0.05, 0.005, 0.0005]\n",
    "compliance_rate_s = [1]\n",
    "\n",
    "min_agents_s = [2]\n",
    "on_random_s = [False, True]\n",
    "window_size_s = [7, 14, 21]\n",
    "min_trades_s = [1, 2, 3]\n",
    "\n",
    "num_weeks_s = [100, 500, 500]\n",
    "prep_int_s = [0, 1000, 2000]\n",
    "event_begin_s = [48, 48, 48*5]\n",
    "event_end_s = [52, 52, 52*5]\n",
    "\n",
    "for i in [2]: #range(len(num_weeks_s)):\n",
    "    prep_int = prep_int_s[i]\n",
    "    n_wk = num_weeks_s[i]\n",
    "    evnt_bgn = event_begin_s[i]\n",
    "    evnt_end = event_end_s[i]\n",
    "    for er in movement_error_rate_s:\n",
    "        for cr in compliance_rate_s:\n",
    "            for rf in [None, \"START\", \"PERIOD\", \"MIN_AGENTS\"]:\n",
    "                if er > 0:\n",
    "                    for ors in on_random_s:\n",
    "                        str_prep = prepend_str(prep_int)\n",
    "                        compare_flags(num_weeks=n_wk, movement_error_rate=er, compliance_rate=cr, reset_freq=rf, flag_specific=None, on_random=ors, \n",
    "                                      event_begin=evnt_bgn, event_end=evnt_end, title_prepend=str_prep, folder=\"flag_reset_comparison\")\n",
    "                        prep_int += 1\n",
    "                else:\n",
    "                    str_prep = prepend_str(prep_int)\n",
    "                    compare_flags(num_weeks=n_wk, movement_error_rate=er, compliance_rate=cr, reset_freq=rf, flag_specific=None, on_random=False, \n",
    "                        event_begin=evnt_bgn, event_end=evnt_end, title_prepend=str_prep, folder=\"flag_reset_comparison\")\n",
    "                    prep_int += 1\n",
    "                    \n",
    "    for rf in [\"WEEK\"]:\n",
    "        for er in movement_error_rate_s:\n",
    "            for cr in compliance_rate_s:\n",
    "                for mt in min_trades_s:\n",
    "                    if er > 0:\n",
    "                        for ors in on_random_s:\n",
    "                            str_prep = prepend_str(prep_int)\n",
    "                            compare_flags(num_weeks=n_wk, movement_error_rate=er, compliance_rate=cr, reset_freq=rf, flag_specific=mt, on_random=ors, \n",
    "                                          event_begin=evnt_bgn, event_end=evnt_end, title_prepend=str_prep, folder=\"flag_reset_comparison\")\n",
    "                            prep_int += 1\n",
    "                    else:\n",
    "                        str_prep = prepend_str(prep_int)\n",
    "                        compare_flags(num_weeks=n_wk, movement_error_rate=er, compliance_rate=cr, reset_freq=rf, flag_specific=mt, on_random=False, \n",
    "                            event_begin=evnt_bgn, event_end=evnt_end, title_prepend=str_prep, folder=\"flag_reset_comparison\")\n",
    "                        prep_int += 1\n",
    "    \n",
    "    for rf in [\"WINDOW\"]:\n",
    "        for er in movement_error_rate_s:\n",
    "            for cr in compliance_rate_s:\n",
    "                for mt in min_trades_s:\n",
    "                    for ws in window_size_s:\n",
    "                        fs = (ws, mt)\n",
    "                        if er > 0:\n",
    "                            for ors in on_random_s:\n",
    "                                str_prep = prepend_str(prep_int)\n",
    "                                compare_flags(num_weeks=n_wk, movement_error_rate=er, compliance_rate=cr, reset_freq=rf, flag_specific=fs, on_random=ors, \n",
    "                                              event_begin=evnt_bgn, event_end=evnt_end, title_prepend=str_prep, folder=\"flag_reset_comparison\")\n",
    "                                prep_int += 1\n",
    "                        else:\n",
    "                            str_prep = prepend_str(prep_int)\n",
    "                            compare_flags(num_weeks=n_wk, movement_error_rate=er, compliance_rate=cr, reset_freq=rf, flag_specific=fs, on_random=False, \n",
    "                                event_begin=evnt_bgn, event_end=evnt_end, title_prepend=str_prep, folder=\"flag_reset_comparison\")\n",
    "                            prep_int += 1\n",
    "    \n",
    "    \n"
   ]
  },
  {
   "cell_type": "code",
   "execution_count": 40,
   "id": "e24b9c84-f077-4b2c-96f4-584c6b6f057b",
   "metadata": {},
   "outputs": [],
   "source": [
    "def create_fname(num_weeks, movement_error_rate, compliance_rate, reset_freq, flag_specific, on_random, \n",
    "                                          event_begin, event_end, title_prepend, folder=\"flag_reset_comparison\"):\n",
    "    min_agents = 2\n",
    "    window_size = 7\n",
    "    min_trades = 1\n",
    "    if reset_freq == \"MIN_AGENTS\" and flag_specific is not None:\n",
    "        min_agents = flag_specific\n",
    "    elif reset_freq == \"WEEK\" and flag_specific is not None:\n",
    "        min_trades = flag_specific\n",
    "    elif reset_freq == \"WINDOW\" and flag_specific is not None:\n",
    "        window_size = flag_specific[0]\n",
    "        min_trades = flag_specific[1]\n",
    "\n",
    "    tlt_append = \"\"\n",
    "    fn_append = \"\"\n",
    "    if movement_error_rate > 0:\n",
    "        tlt_append = f\"\\nFlagOnRandom: {on_random}\"\n",
    "        fn_append = f\"_fr_{str(on_random)[0]}\"\n",
    "    \n",
    "    if reset_freq is None or reset_freq == \"START\" or reset_freq == \"PERIOD\":\n",
    "        fn_1 = f\"fr_{reset_freq}_er_{movement_error_rate}_cr_{compliance_rate}_t1\" + fn_append + \".png\"\n",
    "        fn_10 = f\"fr_{reset_freq}_er_{movement_error_rate}_cr_{compliance_rate}_t10\" + fn_append + \".png\"\n",
    "    elif reset_freq == \"MIN_AGENTS\":\n",
    "        fn_1 = f\"fr_{reset_freq}_ma_{min_agents}_er_{movement_error_rate}_cr_{compliance_rate}_t1\" + fn_append + \".png\"\n",
    "        fn_10 = f\"fr_{reset_freq}_ma_{min_agents}_er_{movement_error_rate}_cr_{compliance_rate}_t10\" + fn_append + \".png\"\n",
    "    elif reset_freq == \"WEEK\":\n",
    "        fn_1 = f\"fr_{reset_freq}_mt_{min_trades}_er_{movement_error_rate}_cr_{compliance_rate}_t1\" + fn_append + \".png\"\n",
    "        fn_10 = f\"fr_{reset_freq}_mt_{min_trades}_er_{movement_error_rate}_cr_{compliance_rate}_t10\" + fn_append + \".png\"\n",
    "    elif reset_freq == \"WINDOW\":\n",
    "        window_size = flag_specific[0]\n",
    "        min_trades = flag_specific[1]\n",
    "        fn_1 = f\"fr_{reset_freq}_mt_{min_trades}_ws_{window_size}_er_{movement_error_rate}_cr_{compliance_rate}_t1\" + fn_append + \".png\"\n",
    "        fn_10 = f\"fr_{reset_freq}_mt_{min_trades}_ws_{window_size}_er_{movement_error_rate}_cr_{compliance_rate}_t10\" + fn_append + \".png\"\n",
    "\n",
    "    if title_prepend is not None:\n",
    "        fn_1 = title_prepend + fn_1\n",
    "        fn_10 = title_prepend + fn_10\n",
    "\n",
    "    return fn_1, fn_10\n",
    "    "
   ]
  },
  {
   "cell_type": "code",
   "execution_count": 42,
   "id": "8f922b87-9774-47ee-a563-06eba56ffb21",
   "metadata": {},
   "outputs": [],
   "source": [
    "# Generate dataframe mapping configuration to filename\n",
    "cols_in = ['flag_rule', 'trials', 'num_weeks', 'num_periods', 'event_begin', 'event_end', 'num_rounds', 'grid_size', 'num_traders', 'trader_objects', \n",
    "          'num_units', 'lower_bound', 'upper_bound', 'movement_error_rate', 'compliance_rate', 'min_agents', 'on_random', 'window_size', 'min_trades',\n",
    "          'prep_int', 'file_name']\n",
    "data_in = []\n",
    "\n",
    "# Treatment names\n",
    "reset_freq_s = [None, \"START\", \"PERIOD\", \"MIN_AGENTS\", \"WEEK\", \"WINDOW\"]\n",
    "\n",
    "num_trials = 1\n",
    "num_weeks_s = [100, 500, 500]\n",
    "num_periods = 7\n",
    "\n",
    "event_begin_s = [48, 48, 48*5]\n",
    "event_end_s = [52, 52, 52*5]\n",
    "\n",
    "num_rounds = 5; grid_size = 15; num_traders = 20; num_units = 8; lower_bound = 200; upper_bound = 600\n",
    "trader_objects =[(ZIDPA, 20),(ZID, 0)]\n",
    "\n",
    "movement_error_rate_s = [0, 0.05, 0.005, 0.0005]\n",
    "compliance_rate_s = [1]\n",
    "\n",
    "min_agents_s = [2]\n",
    "on_random_s = [False, True]\n",
    "window_size_s = [7, 14, 21]\n",
    "min_trades_s = [1, 2, 3]\n",
    "\n",
    "prep_int_s = [0, 1000, 2000]\n",
    "\n",
    "for i in range(len(num_weeks_s)):\n",
    "    prep_int = prep_int_s[i]\n",
    "    n_wk = num_weeks_s[i]\n",
    "    evnt_bgn = event_begin_s[i]\n",
    "    evnt_end = event_end_s[i]\n",
    "    for er in movement_error_rate_s:\n",
    "        for cr in compliance_rate_s:\n",
    "            for rf in [None, \"START\", \"PERIOD\", \"MIN_AGENTS\"]:\n",
    "                if er > 0:\n",
    "                    for ors in on_random_s:\n",
    "                        str_prep = prepend_str(prep_int)\n",
    "                        fn1, fn10 = create_fname(n_wk, er, cr, rf, 2, ors, \n",
    "                                          evnt_bgn, evnt_end, str_prep, folder=\"flag_reset_comparison\")\n",
    "                        if rf == \"MIN_AGENTS\":\n",
    "                            min_ag = 2\n",
    "                        else:\n",
    "                            min_ag = None\n",
    "                        data_in.append([rf, 1, n_wk, num_periods, evnt_bgn, evnt_end, num_rounds, grid_size, num_traders, str(trader_objects), \n",
    "                            num_units, lower_bound, upper_bound, er, cr, min_ag, ors, None, None, prep_int, fn1])\n",
    "                        data_in.append([rf, 10, n_wk, num_periods, evnt_bgn, evnt_end, num_rounds, grid_size, num_traders, str(trader_objects), \n",
    "                            num_units, lower_bound, upper_bound, er, cr, min_ag, ors, None, None, prep_int, fn10])\n",
    "                        prep_int += 1\n",
    "                else:\n",
    "                    str_prep = prepend_str(prep_int)\n",
    "                    fn1, fn10 = create_fname(n_wk, er, cr, rf, 2, False,\n",
    "                                    evnt_bgn, evnt_end, str_prep, folder=\"flag_reset_comparison\")\n",
    "                    if rf == \"MIN_AGENTS\":\n",
    "                        min_ag = 2\n",
    "                    else:\n",
    "                        min_ag = None\n",
    "                    data_in.append([rf, 1, n_wk, num_periods, evnt_bgn, evnt_end, num_rounds, grid_size, num_traders, str(trader_objects), \n",
    "                        num_units, lower_bound, upper_bound, er, cr, min_ag, False, None, None, prep_int, fn1])\n",
    "                    data_in.append([rf, 10, n_wk, num_periods, evnt_bgn, evnt_end, num_rounds, grid_size, num_traders, str(trader_objects), \n",
    "                        num_units, lower_bound, upper_bound, er, cr, min_ag, False, None, None, prep_int, fn10])\n",
    "                    prep_int += 1\n",
    "                    \n",
    "    for rf in [\"WEEK\"]:\n",
    "        for er in movement_error_rate_s:\n",
    "            for cr in compliance_rate_s:\n",
    "                for mt in min_trades_s:\n",
    "                    if er > 0:\n",
    "                        for ors in on_random_s:\n",
    "                            str_prep = prepend_str(prep_int)\n",
    "                            fn1, fn10 = create_fname(n_wk, er, cr, rf, mt, ors, \n",
    "                                            evnt_bgn, evnt_end, str_prep, folder=\"flag_reset_comparison\")\n",
    "                            data_in.append([rf, 1, n_wk, num_periods, evnt_bgn, evnt_end, num_rounds, grid_size, num_traders, str(trader_objects), \n",
    "                                num_units, lower_bound, upper_bound, er, cr, None, ors, None, mt, prep_int, fn1])\n",
    "                            data_in.append([rf, 10, n_wk, num_periods, evnt_bgn, evnt_end, num_rounds, grid_size, num_traders, str(trader_objects), \n",
    "                                num_units, lower_bound, upper_bound, er, cr, None, ors, None, mt, prep_int, fn10])\n",
    "                            prep_int += 1\n",
    "                    else:\n",
    "                        str_prep = prepend_str(prep_int)\n",
    "                        fn1, fn10 = create_fname(n_wk, er, cr, rf, mt, False, \n",
    "                                        evnt_bgn, evnt_end, str_prep, folder=\"flag_reset_comparison\")\n",
    "                        data_in.append([rf, 1, n_wk, num_periods, evnt_bgn, evnt_end, num_rounds, grid_size, num_traders, str(trader_objects), \n",
    "                            num_units, lower_bound, upper_bound, er, cr, None, False, None, mt, prep_int, fn1])\n",
    "                        data_in.append([rf, 10, n_wk, num_periods, evnt_bgn, evnt_end, num_rounds, grid_size, num_traders, str(trader_objects), \n",
    "                            num_units, lower_bound, upper_bound, er, cr, None, False, None, mt, prep_int, fn10])\n",
    "                        prep_int += 1\n",
    "    \n",
    "    for rf in [\"WINDOW\"]:\n",
    "        for er in movement_error_rate_s:\n",
    "            for cr in compliance_rate_s:\n",
    "                for mt in min_trades_s:\n",
    "                    for ws in window_size_s:\n",
    "                        fs = (ws, mt)\n",
    "                        if er > 0:\n",
    "                            for ors in on_random_s:\n",
    "                                str_prep = prepend_str(prep_int)\n",
    "                                fn1, fn10 = create_fname(n_wk, er, cr, rf, fs, ors, \n",
    "                                            evnt_bgn, evnt_end, str_prep, folder=\"flag_reset_comparison\")\n",
    "                                data_in.append([rf, 1, n_wk, num_periods, evnt_bgn, evnt_end, num_rounds, grid_size, num_traders, str(trader_objects), \n",
    "                                    num_units, lower_bound, upper_bound, er, cr, None, ors, ws, mt, prep_int, fn1])\n",
    "                                data_in.append([rf, 10, n_wk, num_periods, evnt_bgn, evnt_end, num_rounds, grid_size, num_traders, str(trader_objects), \n",
    "                                    num_units, lower_bound, upper_bound, er, cr, None, ors, ws, mt, prep_int, fn10])\n",
    "                                prep_int += 1\n",
    "                        else:\n",
    "                            str_prep = prepend_str(prep_int)\n",
    "                            fn1, fn10 = create_fname(n_wk, er, cr, rf, fs, False, \n",
    "                                        evnt_bgn, evnt_end, str_prep, folder=\"flag_reset_comparison\")\n",
    "                            data_in.append([rf, 1, n_wk, num_periods, evnt_bgn, evnt_end, num_rounds, grid_size, num_traders, str(trader_objects), \n",
    "                                num_units, lower_bound, upper_bound, er, cr, None, False, ws, mt, prep_int, fn1])\n",
    "                            data_in.append([rf, 10, n_wk, num_periods, evnt_bgn, evnt_end, num_rounds, grid_size, num_traders, str(trader_objects), \n",
    "                                num_units, lower_bound, upper_bound, er, cr, None, False, ws, mt, prep_int, fn10])\n",
    "                            prep_int += 1\n",
    "\n",
    "name_frame = pd.DataFrame(columns=cols_in, data=data_in)"
   ]
  },
  {
   "cell_type": "code",
   "execution_count": 47,
   "id": "fda347a1-16dc-4c67-b664-5a24ab03c59f",
   "metadata": {},
   "outputs": [],
   "source": [
    "import pylatex as ptx"
   ]
  },
  {
   "cell_type": "code",
   "execution_count": 85,
   "id": "bb45cac8-b0b3-4391-b414-4467eec381db",
   "metadata": {},
   "outputs": [],
   "source": [
    "def exp_fp(fpath, fld_path=\"flag_reset_comparison\"):\n",
    "    return os.path.join(fld_path, fpath)"
   ]
  },
  {
   "cell_type": "code",
   "execution_count": 63,
   "id": "d301a346-0784-4993-b257-ae3b917982aa",
   "metadata": {},
   "outputs": [],
   "source": [
    "name_frame2 = name_frame[(name_frame['on_random']==True)|(name_frame['movement_error_rate']==0)]\n",
    "name_frame2['flag_rule'] = name_frame2['flag_rule'].apply(str)\n",
    "name_frame2_n = name_frame2[name_frame2['flag_rule']=='None']\n",
    "name_frame2_n.head()"
   ]
  },
  {
   "cell_type": "code",
   "execution_count": 123,
   "id": "56ce3972-2b02-4467-8338-1efe19116ae0",
   "metadata": {
    "scrolled": true
   },
   "outputs": [
    {
     "name": "stderr",
     "output_type": "stream",
     "text": [
      "/var/folders/y8/s398ykts1ddg413yl8k1x0xr0000gn/T/ipykernel_98683/1270262538.py:36: SettingWithCopyWarning: \n",
      "A value is trying to be set on a copy of a slice from a DataFrame.\n",
      "Try using .loc[row_indexer,col_indexer] = value instead\n",
      "\n",
      "See the caveats in the documentation: https://pandas.pydata.org/pandas-docs/stable/user_guide/indexing.html#returning-a-view-versus-a-copy\n",
      "  name_frame2['flag_rule'] = name_frame2['flag_rule'].apply(str)\n",
      "/var/folders/y8/s398ykts1ddg413yl8k1x0xr0000gn/T/ipykernel_98683/1270262538.py:37: SettingWithCopyWarning: \n",
      "A value is trying to be set on a copy of a slice from a DataFrame.\n",
      "Try using .loc[row_indexer,col_indexer] = value instead\n",
      "\n",
      "See the caveats in the documentation: https://pandas.pydata.org/pandas-docs/stable/user_guide/indexing.html#returning-a-view-versus-a-copy\n",
      "  name_frame2['file_name'] = name_frame2['file_name'].apply(str)\n"
     ]
    }
   ],
   "source": [
    "# Put the generated images into a LaTeX document\n",
    "\n",
    "# Test the pylatex\n",
    "# import pylatex\n",
    "\n",
    "# image_filename = os.path.join(os.path.dirname(__file__), 'kitten.jpg')\n",
    "\n",
    "\n",
    "doc = ptx.Document(default_filepath=os.path.join('flag_reset_comparison', 'flag_comparator'))\n",
    "\n",
    "# Treatment names\n",
    "reset_freq_s = [None, \"START\", \"PERIOD\", \"MIN_AGENTS\", \"WEEK\", \"WINDOW\"]\n",
    "\n",
    "num_trials = 1\n",
    "num_weeks_s = [100, 500, 500]\n",
    "num_periods = 7\n",
    "\n",
    "event_begin_s = [48, 48, 48*5]\n",
    "event_end_s = [52, 52, 52*5]\n",
    "\n",
    "num_rounds = 5; grid_size = 15; num_traders = 20; num_units = 8; lower_bound = 200; upper_bound = 600\n",
    "trader_objects =[(ZIDPA, 20),(ZID, 0)]\n",
    "\n",
    "movement_error_rate_s = [0.0000, 0.05, 0.005, 0.0005]\n",
    "compliance_rate_s = [1]\n",
    "\n",
    "min_agents_s = [2]\n",
    "on_random_s = [False, True]\n",
    "window_size_s = [7, 14, 21]\n",
    "min_trades_s = [1, 2, 3]\n",
    "\n",
    "prep_int_s = [0, 1000, 2000]\n",
    "\n",
    "\n",
    "name_frame2 = name_frame[(name_frame['on_random']==True)|(name_frame['movement_error_rate']==0)]\n",
    "name_frame2['flag_rule'] = name_frame2['flag_rule'].apply(str)\n",
    "name_frame2['file_name'] = name_frame2['file_name'].apply(str)\n",
    "# Record common conditions\n",
    "with doc.create(ptx.Section('Results of Different Flag Resetting Rules for Traded Flag (i.e. \"should move\" rules)')):\n",
    "    doc.append('Number of Trials: 1 (line), 10 (boxplot)\\n')\n",
    "    doc.append('Number of Weeks: 100 or 500\\n')\n",
    "    doc.append('Event Period: 48 to 52, or 240 to 260\\n')\n",
    "    doc.append(f'Number of Periods (Week Length): {num_periods}\\n')\n",
    "    doc.append(f'Number of Trading Rounds (In Period): {num_rounds}\\n')\n",
    "    doc.append(f'Grid Size: {grid_size}\\n')\n",
    "    doc.append(f'Number of Traders: {num_traders}\\n')\n",
    "    doc.append(f'Number of Units: {num_units}\\n')\n",
    "    doc.append(f'Unit Valuation Range (uniform, symmetric): {lower_bound} to {upper_bound}\\n')\n",
    "    doc.append('Trader Types: ZIDPA (non-even), ZIDPR (event)\\n')\n",
    "    doc.append('Event Compliance (Transformation) Rate: 100%\\n')\n",
    "    doc.append('Reset Flag on Movement Error (Random Move): True\\n')\n",
    "    doc.append(ptx.NoEscape(\"\\clearpage\"))\n",
    "    \n",
    "    with doc.create(ptx.Subsection('Flag Reset Rule None - If Trade Once, Stay Forever')):\n",
    "        name_frame2_n = name_frame2[name_frame2['flag_rule']=='None']\n",
    "        for er in movement_error_rate_s:\n",
    "            nm_wk_s = [100, 500, 500]; evnt_strt_s = [48, 48, 48*5]; evnt_end_s = [52, 52, 52*5]\n",
    "            for i in range(len(nm_wk_s)):\n",
    "                nm_wk = nm_wk_s[i]; evnt_strt = evnt_strt_s[i]; evnt_end = evnt_end_s[i]\n",
    "                name_frame2_e = name_frame2_n[name_frame2_n['movement_error_rate']==er]\n",
    "                img1 = name_frame2_e['file_name'].values[0+2*i]\n",
    "                img10 = name_frame2_e['file_name'].values[1+2*i]\n",
    "                with doc.create(ptx.Figure(position='!htb')) as figs:\n",
    "                    with doc.create(ptx.SubFigure(\n",
    "                            position='b',\n",
    "                            width=ptx.NoEscape(r'0.45\\linewidth'))) as left_fig:\n",
    "                                left_fig.add_image(img1, width=ptx.NoEscape(r'\\linewidth'))\n",
    "                                left_fig.add_caption('One Trial')\n",
    "                    with doc.create(ptx.SubFigure(\n",
    "                            position='b',\n",
    "                            width=ptx.NoEscape(r'0.45\\linewidth'))) as right_fig:\n",
    "                                right_fig.append(ptx.StandAloneGraphic(\n",
    "                                    image_options=ptx.base_classes.command.Options('clip', width=ptx.NoEscape(r'\\linewidth'), trim='0 4cm 0 0'),\n",
    "                                    filename=ptx.utils.fix_filename(img10)))\n",
    "                                right_fig.add_caption('10 Trials')\n",
    "                    figs.add_caption(f\"{nm_wk} Weeks, Event {evnt_strt}-{evnt_end}, Movement Error Rate {er}\")\n",
    "                    \n",
    "    doc.append(ptx.NoEscape(\"\\clearpage\"))\n",
    "    with doc.create(ptx.Subsection('Flag Reset Rule START - Each new week, start with traded=False')):\n",
    "        name_frame2_n = name_frame2[name_frame2['flag_rule']=='START']\n",
    "        for er in movement_error_rate_s:\n",
    "            nm_wk_s = [100, 500, 500]; evnt_strt_s = [48, 48, 48*5]; evnt_end_s = [52, 52, 52*5]\n",
    "            for i in range(len(nm_wk_s)):\n",
    "                nm_wk = nm_wk_s[i]; evnt_strt = evnt_strt_s[i]; evnt_end = evnt_end_s[i]\n",
    "                name_frame2_e = name_frame2_n[name_frame2_n['movement_error_rate']==er]\n",
    "                img1 = name_frame2_e['file_name'].values[0+2*i]\n",
    "                img10 = name_frame2_e['file_name'].values[1+2*i]\n",
    "                with doc.create(ptx.Figure(position='!htb')) as figs:\n",
    "                    with doc.create(ptx.SubFigure(\n",
    "                            position='b',\n",
    "                            width=ptx.NoEscape(r'0.45\\linewidth'))) as left_fig:\n",
    "                                left_fig.add_image(img1, width=ptx.NoEscape(r'\\linewidth'))\n",
    "                                left_fig.add_caption('One Trial')\n",
    "                    with doc.create(ptx.SubFigure(\n",
    "                            position='b',\n",
    "                            width=ptx.NoEscape(r'0.45\\linewidth'))) as right_fig:\n",
    "                                right_fig.append(ptx.StandAloneGraphic(\n",
    "                                    image_options=ptx.base_classes.command.Options('clip', width=ptx.NoEscape(r'\\linewidth'), trim='0 4cm 0 0'),\n",
    "                                    filename=ptx.utils.fix_filename(img10)))\n",
    "                                right_fig.add_caption('10 Trials')\n",
    "                    figs.add_caption(f\"{nm_wk} Weeks, Event {evnt_strt}-{evnt_end}, Movement Error Rate {er}\")\n",
    "\n",
    "    doc.append(ptx.NoEscape(\"\\clearpage\"))\n",
    "    mn_agnt = 2\n",
    "    with doc.create(ptx.Subsection('Flag Reset Rule MIN_AGENTS - If less than minimium agents (2) at location, set traded=False')):\n",
    "        name_frame2_n = name_frame2[name_frame2['flag_rule']=='MIN_AGENTS']\n",
    "        for er in movement_error_rate_s:\n",
    "            nm_wk_s = [100, 500, 500]; evnt_strt_s = [48, 48, 48*5]; evnt_end_s = [52, 52, 52*5]\n",
    "            for i in range(len(nm_wk_s)):\n",
    "                nm_wk = nm_wk_s[i]; evnt_strt = evnt_strt_s[i]; evnt_end = evnt_end_s[i]\n",
    "                name_frame2_e = name_frame2_n[name_frame2_n['movement_error_rate']==er]\n",
    "                img1 = name_frame2_e['file_name'].values[0+2*i]\n",
    "                img10 = name_frame2_e['file_name'].values[1+2*i]\n",
    "                with doc.create(ptx.Figure(position='!htb')) as figs:\n",
    "                    with doc.create(ptx.SubFigure(\n",
    "                            position='b',\n",
    "                            width=ptx.NoEscape(r'0.45\\linewidth'))) as left_fig:\n",
    "                                left_fig.add_image(img1, width=ptx.NoEscape(r'\\linewidth'))\n",
    "                                left_fig.add_caption('One Trial')\n",
    "                    with doc.create(ptx.SubFigure(\n",
    "                            position='b',\n",
    "                            width=ptx.NoEscape(r'0.45\\linewidth'))) as right_fig:\n",
    "                                right_fig.append(ptx.StandAloneGraphic(\n",
    "                                    image_options=ptx.base_classes.command.Options('clip', width=ptx.NoEscape(r'\\linewidth'), trim='0 4cm 0 0'),\n",
    "                                    filename=ptx.utils.fix_filename(img10)))\n",
    "                                right_fig.add_caption('10 Trials')\n",
    "                    figs.add_caption(f\"{nm_wk} Weeks, Event {evnt_strt}-{evnt_end}, Movement Error Rate {er}, Min Agents {mn_agnt}\")\n",
    "\n",
    "        doc.append(ptx.NoEscape(\"\\clearpage\"))\n",
    "        with doc.create(ptx.Subsection('Flag Reset Rule WEEK - Each new week, stay if reached min number of trades LAST week; record number of trades this week')):\n",
    "            doc.append('Iterates over minimum of 1, 2, or 3 trades in One Week (7-periods, non-rolling)')\n",
    "            name_frame2_n = name_frame2[name_frame2['flag_rule']=='WEEK']\n",
    "            for mt in min_trades_s:\n",
    "                name_frame2_g = name_frame2_n[name_frame2_n['min_trades']==mt]\n",
    "                for er in movement_error_rate_s:\n",
    "                    nm_wk_s = [100, 500, 500]; evnt_strt_s = [48, 48, 48*5]; evnt_end_s = [52, 52, 52*5]\n",
    "                    for i in range(len(nm_wk_s)):\n",
    "                        nm_wk = nm_wk_s[i]; evnt_strt = evnt_strt_s[i]; evnt_end = evnt_end_s[i]\n",
    "                        name_frame2_e = name_frame2_g[name_frame2_g['movement_error_rate']==er]\n",
    "                        img1 = name_frame2_e['file_name'].values[0+2*i]\n",
    "                        img10 = name_frame2_e['file_name'].values[1+2*i]\n",
    "                        with doc.create(ptx.Figure(position='!htb')) as figs:\n",
    "                            with doc.create(ptx.SubFigure(\n",
    "                                    position='b',\n",
    "                                    width=ptx.NoEscape(r'0.45\\linewidth'))) as left_fig:\n",
    "                                        left_fig.add_image(img1, width=ptx.NoEscape(r'\\linewidth'))\n",
    "                                        left_fig.add_caption('One Trial')\n",
    "                            with doc.create(ptx.SubFigure(\n",
    "                                    position='b',\n",
    "                                    width=ptx.NoEscape(r'0.45\\linewidth'))) as right_fig:\n",
    "                                        right_fig.append(ptx.StandAloneGraphic(\n",
    "                                            image_options=ptx.base_classes.command.Options('clip', width=ptx.NoEscape(r'\\linewidth'), trim='0 4cm 0 0'),\n",
    "                                            filename=ptx.utils.fix_filename(img10)))\n",
    "                                        right_fig.add_caption('10 Trials')\n",
    "                            figs.add_caption(f\"{nm_wk} Weeks, Event {evnt_strt}-{evnt_end}, Movement Error Rate {er}, Min Trades {mt}\")\n",
    "\n",
    "        doc.append(ptx.NoEscape(\"\\clearpage\"))\n",
    "        with doc.create(ptx.Subsection('Flag Reset Rule WINDOW - Stay if reached min number of trades in a rolling window')):\n",
    "            doc.append('Iterates over minimum of 1, 2, or 3 trades in each window. Window sizes: 7, 14, 21 periods.')\n",
    "            name_frame2_n = name_frame2[name_frame2['flag_rule']=='WINDOW']\n",
    "            for ws in window_size_s:\n",
    "                name_frame2_d = name_frame2_n[name_frame2_n['window_size']==ws]\n",
    "                with doc.create(ptx.Subsection(f'Window size {ws}')):\n",
    "                    for mt in min_trades_s:\n",
    "                        name_frame2_g = name_frame2_d[name_frame2_d['min_trades']==mt]\n",
    "                        for er in movement_error_rate_s:\n",
    "                            nm_wk_s = [100, 500, 500]; evnt_strt_s = [48, 48, 48*5]; evnt_end_s = [52, 52, 52*5]\n",
    "                            for i in range(len(nm_wk_s)):\n",
    "                                nm_wk = nm_wk_s[i]; evnt_strt = evnt_strt_s[i]; evnt_end = evnt_end_s[i]\n",
    "                                name_frame2_e = name_frame2_g[name_frame2_g['movement_error_rate']==er]\n",
    "                                img1 = name_frame2_e['file_name'].values[0+2*i]\n",
    "                                img10 = name_frame2_e['file_name'].values[1+2*i]\n",
    "                                with doc.create(ptx.Figure(position='!htb')) as figs:\n",
    "                                    with doc.create(ptx.SubFigure(\n",
    "                                            position='b',\n",
    "                                            width=ptx.NoEscape(r'0.45\\linewidth'))) as left_fig:\n",
    "                                                left_fig.add_image(img1, width=ptx.NoEscape(r'\\linewidth'))\n",
    "                                                left_fig.add_caption('One Trial')\n",
    "                                    with doc.create(ptx.SubFigure(\n",
    "                                            position='b',\n",
    "                                            width=ptx.NoEscape(r'0.45\\linewidth'))) as right_fig:\n",
    "                                                right_fig.append(ptx.StandAloneGraphic(\n",
    "                                                    image_options=ptx.base_classes.command.Options('clip', width=ptx.NoEscape(r'\\linewidth'), trim='0 4cm 0 0'),\n",
    "                                                    filename=ptx.utils.fix_filename(img10)))\n",
    "                                                right_fig.add_caption('10 Trials')\n",
    "                                    figs.add_caption(f\"{nm_wk} Weeks, Event {evnt_strt}-{evnt_end}, Movement Error Rate {er}, Min Trades {mt}, Window Size {ws}\")\n",
    "                    doc.append(ptx.NoEscape(\"\\clearpage\"))\n",
    "        \n",
    "doc.generate_pdf(clean_tex=False)"
   ]
  },
  {
   "cell_type": "code",
   "execution_count": 120,
   "id": "249196c9-0343-4601-b1c0-ce91d9920154",
   "metadata": {
    "scrolled": true
   },
   "outputs": [
    {
     "name": "stdout",
     "output_type": "stream",
     "text": [
      "[1. 2. 3.]\n",
      "   flag_rule  trials  num_weeks  num_periods  event_begin  event_end  \\\n",
      "98    WINDOW       1        100            7           48         52   \n",
      "\n",
      "    num_rounds  grid_size  num_traders  \\\n",
      "98           5         15           20   \n",
      "\n",
      "                                       trader_objects  ...  lower_bound  \\\n",
      "98  [(<class 'environment.dm_agents.ZIDPA'>, 20), ...  ...          200   \n",
      "\n",
      "    upper_bound  movement_error_rate  compliance_rate  min_agents  on_random  \\\n",
      "98          600                  0.0                1         NaN      False   \n",
      "\n",
      "    window_size  min_trades  prep_int  \\\n",
      "98          7.0         1.0        49   \n",
      "\n",
      "                                   file_name  \n",
      "98  0049fr_WINDOW_mt_1_ws_7_er_0_cr_1_t1.png  \n",
      "\n",
      "[1 rows x 21 columns]\n",
      "WS 7; MT 1; ER 0.0\n",
      "    flag_rule  trials  num_weeks  num_periods  event_begin  event_end  \\\n",
      "118    WINDOW       1        100            7           48         52   \n",
      "\n",
      "     num_rounds  grid_size  num_traders  \\\n",
      "118           5         15           20   \n",
      "\n",
      "                                        trader_objects  ...  lower_bound  \\\n",
      "118  [(<class 'environment.dm_agents.ZIDPA'>, 20), ...  ...          200   \n",
      "\n",
      "     upper_bound  movement_error_rate  compliance_rate  min_agents  on_random  \\\n",
      "118          600                 0.05                1         NaN       True   \n",
      "\n",
      "     window_size  min_trades  prep_int  \\\n",
      "118          7.0         1.0        59   \n",
      "\n",
      "                                            file_name  \n",
      "118  0059fr_WINDOW_mt_1_ws_7_er_0.05_cr_1_t1_fr_T.png  \n",
      "\n",
      "[1 rows x 21 columns]\n",
      "WS 7; MT 1; ER 0.05\n",
      "    flag_rule  trials  num_weeks  num_periods  event_begin  event_end  \\\n",
      "154    WINDOW       1        100            7           48         52   \n",
      "\n",
      "     num_rounds  grid_size  num_traders  \\\n",
      "154           5         15           20   \n",
      "\n",
      "                                        trader_objects  ...  lower_bound  \\\n",
      "154  [(<class 'environment.dm_agents.ZIDPA'>, 20), ...  ...          200   \n",
      "\n",
      "     upper_bound  movement_error_rate  compliance_rate  min_agents  on_random  \\\n",
      "154          600                0.005                1         NaN       True   \n",
      "\n",
      "     window_size  min_trades  prep_int  \\\n",
      "154          7.0         1.0        77   \n",
      "\n",
      "                                             file_name  \n",
      "154  0077fr_WINDOW_mt_1_ws_7_er_0.005_cr_1_t1_fr_T.png  \n",
      "\n",
      "[1 rows x 21 columns]\n",
      "WS 7; MT 1; ER 0.005\n",
      "    flag_rule  trials  num_weeks  num_periods  event_begin  event_end  \\\n",
      "190    WINDOW       1        100            7           48         52   \n",
      "\n",
      "     num_rounds  grid_size  num_traders  \\\n",
      "190           5         15           20   \n",
      "\n",
      "                                        trader_objects  ...  lower_bound  \\\n",
      "190  [(<class 'environment.dm_agents.ZIDPA'>, 20), ...  ...          200   \n",
      "\n",
      "     upper_bound  movement_error_rate  compliance_rate  min_agents  on_random  \\\n",
      "190          600               0.0005                1         NaN       True   \n",
      "\n",
      "     window_size  min_trades  prep_int  \\\n",
      "190          7.0         1.0        95   \n",
      "\n",
      "                                             file_name  \n",
      "190  0095fr_WINDOW_mt_1_ws_7_er_0.0005_cr_1_t1_fr_T...  \n",
      "\n",
      "[1 rows x 21 columns]\n",
      "WS 7; MT 1; ER 0.0005\n",
      "    flag_rule  trials  num_weeks  num_periods  event_begin  event_end  \\\n",
      "104    WINDOW       1        100            7           48         52   \n",
      "\n",
      "     num_rounds  grid_size  num_traders  \\\n",
      "104           5         15           20   \n",
      "\n",
      "                                        trader_objects  ...  lower_bound  \\\n",
      "104  [(<class 'environment.dm_agents.ZIDPA'>, 20), ...  ...          200   \n",
      "\n",
      "     upper_bound  movement_error_rate  compliance_rate  min_agents  on_random  \\\n",
      "104          600                  0.0                1         NaN      False   \n",
      "\n",
      "     window_size  min_trades  prep_int  \\\n",
      "104          7.0         2.0        52   \n",
      "\n",
      "                                    file_name  \n",
      "104  0052fr_WINDOW_mt_2_ws_7_er_0_cr_1_t1.png  \n",
      "\n",
      "[1 rows x 21 columns]\n",
      "WS 7; MT 2; ER 0.0\n",
      "    flag_rule  trials  num_weeks  num_periods  event_begin  event_end  \\\n",
      "130    WINDOW       1        100            7           48         52   \n",
      "\n",
      "     num_rounds  grid_size  num_traders  \\\n",
      "130           5         15           20   \n",
      "\n",
      "                                        trader_objects  ...  lower_bound  \\\n",
      "130  [(<class 'environment.dm_agents.ZIDPA'>, 20), ...  ...          200   \n",
      "\n",
      "     upper_bound  movement_error_rate  compliance_rate  min_agents  on_random  \\\n",
      "130          600                 0.05                1         NaN       True   \n",
      "\n",
      "     window_size  min_trades  prep_int  \\\n",
      "130          7.0         2.0        65   \n",
      "\n",
      "                                            file_name  \n",
      "130  0065fr_WINDOW_mt_2_ws_7_er_0.05_cr_1_t1_fr_T.png  \n",
      "\n",
      "[1 rows x 21 columns]\n",
      "WS 7; MT 2; ER 0.05\n",
      "    flag_rule  trials  num_weeks  num_periods  event_begin  event_end  \\\n",
      "166    WINDOW       1        100            7           48         52   \n",
      "\n",
      "     num_rounds  grid_size  num_traders  \\\n",
      "166           5         15           20   \n",
      "\n",
      "                                        trader_objects  ...  lower_bound  \\\n",
      "166  [(<class 'environment.dm_agents.ZIDPA'>, 20), ...  ...          200   \n",
      "\n",
      "     upper_bound  movement_error_rate  compliance_rate  min_agents  on_random  \\\n",
      "166          600                0.005                1         NaN       True   \n",
      "\n",
      "     window_size  min_trades  prep_int  \\\n",
      "166          7.0         2.0        83   \n",
      "\n",
      "                                             file_name  \n",
      "166  0083fr_WINDOW_mt_2_ws_7_er_0.005_cr_1_t1_fr_T.png  \n",
      "\n",
      "[1 rows x 21 columns]\n",
      "WS 7; MT 2; ER 0.005\n",
      "    flag_rule  trials  num_weeks  num_periods  event_begin  event_end  \\\n",
      "202    WINDOW       1        100            7           48         52   \n",
      "\n",
      "     num_rounds  grid_size  num_traders  \\\n",
      "202           5         15           20   \n",
      "\n",
      "                                        trader_objects  ...  lower_bound  \\\n",
      "202  [(<class 'environment.dm_agents.ZIDPA'>, 20), ...  ...          200   \n",
      "\n",
      "     upper_bound  movement_error_rate  compliance_rate  min_agents  on_random  \\\n",
      "202          600               0.0005                1         NaN       True   \n",
      "\n",
      "     window_size  min_trades  prep_int  \\\n",
      "202          7.0         2.0       101   \n",
      "\n",
      "                                             file_name  \n",
      "202  0101fr_WINDOW_mt_2_ws_7_er_0.0005_cr_1_t1_fr_T...  \n",
      "\n",
      "[1 rows x 21 columns]\n",
      "WS 7; MT 2; ER 0.0005\n",
      "    flag_rule  trials  num_weeks  num_periods  event_begin  event_end  \\\n",
      "110    WINDOW       1        100            7           48         52   \n",
      "\n",
      "     num_rounds  grid_size  num_traders  \\\n",
      "110           5         15           20   \n",
      "\n",
      "                                        trader_objects  ...  lower_bound  \\\n",
      "110  [(<class 'environment.dm_agents.ZIDPA'>, 20), ...  ...          200   \n",
      "\n",
      "     upper_bound  movement_error_rate  compliance_rate  min_agents  on_random  \\\n",
      "110          600                  0.0                1         NaN      False   \n",
      "\n",
      "     window_size  min_trades  prep_int  \\\n",
      "110          7.0         3.0        55   \n",
      "\n",
      "                                    file_name  \n",
      "110  0055fr_WINDOW_mt_3_ws_7_er_0_cr_1_t1.png  \n",
      "\n",
      "[1 rows x 21 columns]\n",
      "WS 7; MT 3; ER 0.0\n",
      "    flag_rule  trials  num_weeks  num_periods  event_begin  event_end  \\\n",
      "142    WINDOW       1        100            7           48         52   \n",
      "\n",
      "     num_rounds  grid_size  num_traders  \\\n",
      "142           5         15           20   \n",
      "\n",
      "                                        trader_objects  ...  lower_bound  \\\n",
      "142  [(<class 'environment.dm_agents.ZIDPA'>, 20), ...  ...          200   \n",
      "\n",
      "     upper_bound  movement_error_rate  compliance_rate  min_agents  on_random  \\\n",
      "142          600                 0.05                1         NaN       True   \n",
      "\n",
      "     window_size  min_trades  prep_int  \\\n",
      "142          7.0         3.0        71   \n",
      "\n",
      "                                            file_name  \n",
      "142  0071fr_WINDOW_mt_3_ws_7_er_0.05_cr_1_t1_fr_T.png  \n",
      "\n",
      "[1 rows x 21 columns]\n",
      "WS 7; MT 3; ER 0.05\n",
      "    flag_rule  trials  num_weeks  num_periods  event_begin  event_end  \\\n",
      "178    WINDOW       1        100            7           48         52   \n",
      "\n",
      "     num_rounds  grid_size  num_traders  \\\n",
      "178           5         15           20   \n",
      "\n",
      "                                        trader_objects  ...  lower_bound  \\\n",
      "178  [(<class 'environment.dm_agents.ZIDPA'>, 20), ...  ...          200   \n",
      "\n",
      "     upper_bound  movement_error_rate  compliance_rate  min_agents  on_random  \\\n",
      "178          600                0.005                1         NaN       True   \n",
      "\n",
      "     window_size  min_trades  prep_int  \\\n",
      "178          7.0         3.0        89   \n",
      "\n",
      "                                             file_name  \n",
      "178  0089fr_WINDOW_mt_3_ws_7_er_0.005_cr_1_t1_fr_T.png  \n",
      "\n",
      "[1 rows x 21 columns]\n",
      "WS 7; MT 3; ER 0.005\n",
      "    flag_rule  trials  num_weeks  num_periods  event_begin  event_end  \\\n",
      "214    WINDOW       1        100            7           48         52   \n",
      "\n",
      "     num_rounds  grid_size  num_traders  \\\n",
      "214           5         15           20   \n",
      "\n",
      "                                        trader_objects  ...  lower_bound  \\\n",
      "214  [(<class 'environment.dm_agents.ZIDPA'>, 20), ...  ...          200   \n",
      "\n",
      "     upper_bound  movement_error_rate  compliance_rate  min_agents  on_random  \\\n",
      "214          600               0.0005                1         NaN       True   \n",
      "\n",
      "     window_size  min_trades  prep_int  \\\n",
      "214          7.0         3.0       107   \n",
      "\n",
      "                                             file_name  \n",
      "214  0107fr_WINDOW_mt_3_ws_7_er_0.0005_cr_1_t1_fr_T...  \n",
      "\n",
      "[1 rows x 21 columns]\n",
      "WS 7; MT 3; ER 0.0005\n",
      "[1. 2. 3.]\n",
      "    flag_rule  trials  num_weeks  num_periods  event_begin  event_end  \\\n",
      "100    WINDOW       1        100            7           48         52   \n",
      "\n",
      "     num_rounds  grid_size  num_traders  \\\n",
      "100           5         15           20   \n",
      "\n",
      "                                        trader_objects  ...  lower_bound  \\\n",
      "100  [(<class 'environment.dm_agents.ZIDPA'>, 20), ...  ...          200   \n",
      "\n",
      "     upper_bound  movement_error_rate  compliance_rate  min_agents  on_random  \\\n",
      "100          600                  0.0                1         NaN      False   \n",
      "\n",
      "     window_size  min_trades  prep_int  \\\n",
      "100         14.0         1.0        50   \n",
      "\n",
      "                                     file_name  \n",
      "100  0050fr_WINDOW_mt_1_ws_14_er_0_cr_1_t1.png  \n",
      "\n",
      "[1 rows x 21 columns]\n",
      "WS 14; MT 1; ER 0.0\n",
      "    flag_rule  trials  num_weeks  num_periods  event_begin  event_end  \\\n",
      "122    WINDOW       1        100            7           48         52   \n",
      "\n",
      "     num_rounds  grid_size  num_traders  \\\n",
      "122           5         15           20   \n",
      "\n",
      "                                        trader_objects  ...  lower_bound  \\\n",
      "122  [(<class 'environment.dm_agents.ZIDPA'>, 20), ...  ...          200   \n",
      "\n",
      "     upper_bound  movement_error_rate  compliance_rate  min_agents  on_random  \\\n",
      "122          600                 0.05                1         NaN       True   \n",
      "\n",
      "     window_size  min_trades  prep_int  \\\n",
      "122         14.0         1.0        61   \n",
      "\n",
      "                                             file_name  \n",
      "122  0061fr_WINDOW_mt_1_ws_14_er_0.05_cr_1_t1_fr_T.png  \n",
      "\n",
      "[1 rows x 21 columns]\n",
      "WS 14; MT 1; ER 0.05\n",
      "    flag_rule  trials  num_weeks  num_periods  event_begin  event_end  \\\n",
      "158    WINDOW       1        100            7           48         52   \n",
      "\n",
      "     num_rounds  grid_size  num_traders  \\\n",
      "158           5         15           20   \n",
      "\n",
      "                                        trader_objects  ...  lower_bound  \\\n",
      "158  [(<class 'environment.dm_agents.ZIDPA'>, 20), ...  ...          200   \n",
      "\n",
      "     upper_bound  movement_error_rate  compliance_rate  min_agents  on_random  \\\n",
      "158          600                0.005                1         NaN       True   \n",
      "\n",
      "     window_size  min_trades  prep_int  \\\n",
      "158         14.0         1.0        79   \n",
      "\n",
      "                                             file_name  \n",
      "158  0079fr_WINDOW_mt_1_ws_14_er_0.005_cr_1_t1_fr_T...  \n",
      "\n",
      "[1 rows x 21 columns]\n",
      "WS 14; MT 1; ER 0.005\n",
      "    flag_rule  trials  num_weeks  num_periods  event_begin  event_end  \\\n",
      "194    WINDOW       1        100            7           48         52   \n",
      "\n",
      "     num_rounds  grid_size  num_traders  \\\n",
      "194           5         15           20   \n",
      "\n",
      "                                        trader_objects  ...  lower_bound  \\\n",
      "194  [(<class 'environment.dm_agents.ZIDPA'>, 20), ...  ...          200   \n",
      "\n",
      "     upper_bound  movement_error_rate  compliance_rate  min_agents  on_random  \\\n",
      "194          600               0.0005                1         NaN       True   \n",
      "\n",
      "     window_size  min_trades  prep_int  \\\n",
      "194         14.0         1.0        97   \n",
      "\n",
      "                                             file_name  \n",
      "194  0097fr_WINDOW_mt_1_ws_14_er_0.0005_cr_1_t1_fr_...  \n",
      "\n",
      "[1 rows x 21 columns]\n",
      "WS 14; MT 1; ER 0.0005\n",
      "    flag_rule  trials  num_weeks  num_periods  event_begin  event_end  \\\n",
      "106    WINDOW       1        100            7           48         52   \n",
      "\n",
      "     num_rounds  grid_size  num_traders  \\\n",
      "106           5         15           20   \n",
      "\n",
      "                                        trader_objects  ...  lower_bound  \\\n",
      "106  [(<class 'environment.dm_agents.ZIDPA'>, 20), ...  ...          200   \n",
      "\n",
      "     upper_bound  movement_error_rate  compliance_rate  min_agents  on_random  \\\n",
      "106          600                  0.0                1         NaN      False   \n",
      "\n",
      "     window_size  min_trades  prep_int  \\\n",
      "106         14.0         2.0        53   \n",
      "\n",
      "                                     file_name  \n",
      "106  0053fr_WINDOW_mt_2_ws_14_er_0_cr_1_t1.png  \n",
      "\n",
      "[1 rows x 21 columns]\n",
      "WS 14; MT 2; ER 0.0\n",
      "    flag_rule  trials  num_weeks  num_periods  event_begin  event_end  \\\n",
      "134    WINDOW       1        100            7           48         52   \n",
      "\n",
      "     num_rounds  grid_size  num_traders  \\\n",
      "134           5         15           20   \n",
      "\n",
      "                                        trader_objects  ...  lower_bound  \\\n",
      "134  [(<class 'environment.dm_agents.ZIDPA'>, 20), ...  ...          200   \n",
      "\n",
      "     upper_bound  movement_error_rate  compliance_rate  min_agents  on_random  \\\n",
      "134          600                 0.05                1         NaN       True   \n",
      "\n",
      "     window_size  min_trades  prep_int  \\\n",
      "134         14.0         2.0        67   \n",
      "\n",
      "                                             file_name  \n",
      "134  0067fr_WINDOW_mt_2_ws_14_er_0.05_cr_1_t1_fr_T.png  \n",
      "\n",
      "[1 rows x 21 columns]\n",
      "WS 14; MT 2; ER 0.05\n",
      "    flag_rule  trials  num_weeks  num_periods  event_begin  event_end  \\\n",
      "170    WINDOW       1        100            7           48         52   \n",
      "\n",
      "     num_rounds  grid_size  num_traders  \\\n",
      "170           5         15           20   \n",
      "\n",
      "                                        trader_objects  ...  lower_bound  \\\n",
      "170  [(<class 'environment.dm_agents.ZIDPA'>, 20), ...  ...          200   \n",
      "\n",
      "     upper_bound  movement_error_rate  compliance_rate  min_agents  on_random  \\\n",
      "170          600                0.005                1         NaN       True   \n",
      "\n",
      "     window_size  min_trades  prep_int  \\\n",
      "170         14.0         2.0        85   \n",
      "\n",
      "                                             file_name  \n",
      "170  0085fr_WINDOW_mt_2_ws_14_er_0.005_cr_1_t1_fr_T...  \n",
      "\n",
      "[1 rows x 21 columns]\n",
      "WS 14; MT 2; ER 0.005\n",
      "    flag_rule  trials  num_weeks  num_periods  event_begin  event_end  \\\n",
      "206    WINDOW       1        100            7           48         52   \n",
      "\n",
      "     num_rounds  grid_size  num_traders  \\\n",
      "206           5         15           20   \n",
      "\n",
      "                                        trader_objects  ...  lower_bound  \\\n",
      "206  [(<class 'environment.dm_agents.ZIDPA'>, 20), ...  ...          200   \n",
      "\n",
      "     upper_bound  movement_error_rate  compliance_rate  min_agents  on_random  \\\n",
      "206          600               0.0005                1         NaN       True   \n",
      "\n",
      "     window_size  min_trades  prep_int  \\\n",
      "206         14.0         2.0       103   \n",
      "\n",
      "                                             file_name  \n",
      "206  0103fr_WINDOW_mt_2_ws_14_er_0.0005_cr_1_t1_fr_...  \n",
      "\n",
      "[1 rows x 21 columns]\n",
      "WS 14; MT 2; ER 0.0005\n",
      "    flag_rule  trials  num_weeks  num_periods  event_begin  event_end  \\\n",
      "112    WINDOW       1        100            7           48         52   \n",
      "\n",
      "     num_rounds  grid_size  num_traders  \\\n",
      "112           5         15           20   \n",
      "\n",
      "                                        trader_objects  ...  lower_bound  \\\n",
      "112  [(<class 'environment.dm_agents.ZIDPA'>, 20), ...  ...          200   \n",
      "\n",
      "     upper_bound  movement_error_rate  compliance_rate  min_agents  on_random  \\\n",
      "112          600                  0.0                1         NaN      False   \n",
      "\n",
      "     window_size  min_trades  prep_int  \\\n",
      "112         14.0         3.0        56   \n",
      "\n",
      "                                     file_name  \n",
      "112  0056fr_WINDOW_mt_3_ws_14_er_0_cr_1_t1.png  \n",
      "\n",
      "[1 rows x 21 columns]\n",
      "WS 14; MT 3; ER 0.0\n",
      "    flag_rule  trials  num_weeks  num_periods  event_begin  event_end  \\\n",
      "146    WINDOW       1        100            7           48         52   \n",
      "\n",
      "     num_rounds  grid_size  num_traders  \\\n",
      "146           5         15           20   \n",
      "\n",
      "                                        trader_objects  ...  lower_bound  \\\n",
      "146  [(<class 'environment.dm_agents.ZIDPA'>, 20), ...  ...          200   \n",
      "\n",
      "     upper_bound  movement_error_rate  compliance_rate  min_agents  on_random  \\\n",
      "146          600                 0.05                1         NaN       True   \n",
      "\n",
      "     window_size  min_trades  prep_int  \\\n",
      "146         14.0         3.0        73   \n",
      "\n",
      "                                             file_name  \n",
      "146  0073fr_WINDOW_mt_3_ws_14_er_0.05_cr_1_t1_fr_T.png  \n",
      "\n",
      "[1 rows x 21 columns]\n",
      "WS 14; MT 3; ER 0.05\n",
      "    flag_rule  trials  num_weeks  num_periods  event_begin  event_end  \\\n",
      "182    WINDOW       1        100            7           48         52   \n",
      "\n",
      "     num_rounds  grid_size  num_traders  \\\n",
      "182           5         15           20   \n",
      "\n",
      "                                        trader_objects  ...  lower_bound  \\\n",
      "182  [(<class 'environment.dm_agents.ZIDPA'>, 20), ...  ...          200   \n",
      "\n",
      "     upper_bound  movement_error_rate  compliance_rate  min_agents  on_random  \\\n",
      "182          600                0.005                1         NaN       True   \n",
      "\n",
      "     window_size  min_trades  prep_int  \\\n",
      "182         14.0         3.0        91   \n",
      "\n",
      "                                             file_name  \n",
      "182  0091fr_WINDOW_mt_3_ws_14_er_0.005_cr_1_t1_fr_T...  \n",
      "\n",
      "[1 rows x 21 columns]\n",
      "WS 14; MT 3; ER 0.005\n",
      "    flag_rule  trials  num_weeks  num_periods  event_begin  event_end  \\\n",
      "218    WINDOW       1        100            7           48         52   \n",
      "\n",
      "     num_rounds  grid_size  num_traders  \\\n",
      "218           5         15           20   \n",
      "\n",
      "                                        trader_objects  ...  lower_bound  \\\n",
      "218  [(<class 'environment.dm_agents.ZIDPA'>, 20), ...  ...          200   \n",
      "\n",
      "     upper_bound  movement_error_rate  compliance_rate  min_agents  on_random  \\\n",
      "218          600               0.0005                1         NaN       True   \n",
      "\n",
      "     window_size  min_trades  prep_int  \\\n",
      "218         14.0         3.0       109   \n",
      "\n",
      "                                             file_name  \n",
      "218  0109fr_WINDOW_mt_3_ws_14_er_0.0005_cr_1_t1_fr_...  \n",
      "\n",
      "[1 rows x 21 columns]\n",
      "WS 14; MT 3; ER 0.0005\n",
      "[1. 2. 3.]\n",
      "    flag_rule  trials  num_weeks  num_periods  event_begin  event_end  \\\n",
      "102    WINDOW       1        100            7           48         52   \n",
      "\n",
      "     num_rounds  grid_size  num_traders  \\\n",
      "102           5         15           20   \n",
      "\n",
      "                                        trader_objects  ...  lower_bound  \\\n",
      "102  [(<class 'environment.dm_agents.ZIDPA'>, 20), ...  ...          200   \n",
      "\n",
      "     upper_bound  movement_error_rate  compliance_rate  min_agents  on_random  \\\n",
      "102          600                  0.0                1         NaN      False   \n",
      "\n",
      "     window_size  min_trades  prep_int  \\\n",
      "102         21.0         1.0        51   \n",
      "\n",
      "                                     file_name  \n",
      "102  0051fr_WINDOW_mt_1_ws_21_er_0_cr_1_t1.png  \n",
      "\n",
      "[1 rows x 21 columns]\n",
      "WS 21; MT 1; ER 0.0\n",
      "    flag_rule  trials  num_weeks  num_periods  event_begin  event_end  \\\n",
      "126    WINDOW       1        100            7           48         52   \n",
      "\n",
      "     num_rounds  grid_size  num_traders  \\\n",
      "126           5         15           20   \n",
      "\n",
      "                                        trader_objects  ...  lower_bound  \\\n",
      "126  [(<class 'environment.dm_agents.ZIDPA'>, 20), ...  ...          200   \n",
      "\n",
      "     upper_bound  movement_error_rate  compliance_rate  min_agents  on_random  \\\n",
      "126          600                 0.05                1         NaN       True   \n",
      "\n",
      "     window_size  min_trades  prep_int  \\\n",
      "126         21.0         1.0        63   \n",
      "\n",
      "                                             file_name  \n",
      "126  0063fr_WINDOW_mt_1_ws_21_er_0.05_cr_1_t1_fr_T.png  \n",
      "\n",
      "[1 rows x 21 columns]\n",
      "WS 21; MT 1; ER 0.05\n",
      "    flag_rule  trials  num_weeks  num_periods  event_begin  event_end  \\\n",
      "162    WINDOW       1        100            7           48         52   \n",
      "\n",
      "     num_rounds  grid_size  num_traders  \\\n",
      "162           5         15           20   \n",
      "\n",
      "                                        trader_objects  ...  lower_bound  \\\n",
      "162  [(<class 'environment.dm_agents.ZIDPA'>, 20), ...  ...          200   \n",
      "\n",
      "     upper_bound  movement_error_rate  compliance_rate  min_agents  on_random  \\\n",
      "162          600                0.005                1         NaN       True   \n",
      "\n",
      "     window_size  min_trades  prep_int  \\\n",
      "162         21.0         1.0        81   \n",
      "\n",
      "                                             file_name  \n",
      "162  0081fr_WINDOW_mt_1_ws_21_er_0.005_cr_1_t1_fr_T...  \n",
      "\n",
      "[1 rows x 21 columns]\n",
      "WS 21; MT 1; ER 0.005\n",
      "    flag_rule  trials  num_weeks  num_periods  event_begin  event_end  \\\n",
      "198    WINDOW       1        100            7           48         52   \n",
      "\n",
      "     num_rounds  grid_size  num_traders  \\\n",
      "198           5         15           20   \n",
      "\n",
      "                                        trader_objects  ...  lower_bound  \\\n",
      "198  [(<class 'environment.dm_agents.ZIDPA'>, 20), ...  ...          200   \n",
      "\n",
      "     upper_bound  movement_error_rate  compliance_rate  min_agents  on_random  \\\n",
      "198          600               0.0005                1         NaN       True   \n",
      "\n",
      "     window_size  min_trades  prep_int  \\\n",
      "198         21.0         1.0        99   \n",
      "\n",
      "                                             file_name  \n",
      "198  0099fr_WINDOW_mt_1_ws_21_er_0.0005_cr_1_t1_fr_...  \n",
      "\n",
      "[1 rows x 21 columns]\n",
      "WS 21; MT 1; ER 0.0005\n",
      "    flag_rule  trials  num_weeks  num_periods  event_begin  event_end  \\\n",
      "108    WINDOW       1        100            7           48         52   \n",
      "\n",
      "     num_rounds  grid_size  num_traders  \\\n",
      "108           5         15           20   \n",
      "\n",
      "                                        trader_objects  ...  lower_bound  \\\n",
      "108  [(<class 'environment.dm_agents.ZIDPA'>, 20), ...  ...          200   \n",
      "\n",
      "     upper_bound  movement_error_rate  compliance_rate  min_agents  on_random  \\\n",
      "108          600                  0.0                1         NaN      False   \n",
      "\n",
      "     window_size  min_trades  prep_int  \\\n",
      "108         21.0         2.0        54   \n",
      "\n",
      "                                     file_name  \n",
      "108  0054fr_WINDOW_mt_2_ws_21_er_0_cr_1_t1.png  \n",
      "\n",
      "[1 rows x 21 columns]\n",
      "WS 21; MT 2; ER 0.0\n",
      "    flag_rule  trials  num_weeks  num_periods  event_begin  event_end  \\\n",
      "138    WINDOW       1        100            7           48         52   \n",
      "\n",
      "     num_rounds  grid_size  num_traders  \\\n",
      "138           5         15           20   \n",
      "\n",
      "                                        trader_objects  ...  lower_bound  \\\n",
      "138  [(<class 'environment.dm_agents.ZIDPA'>, 20), ...  ...          200   \n",
      "\n",
      "     upper_bound  movement_error_rate  compliance_rate  min_agents  on_random  \\\n",
      "138          600                 0.05                1         NaN       True   \n",
      "\n",
      "     window_size  min_trades  prep_int  \\\n",
      "138         21.0         2.0        69   \n",
      "\n",
      "                                             file_name  \n",
      "138  0069fr_WINDOW_mt_2_ws_21_er_0.05_cr_1_t1_fr_T.png  \n",
      "\n",
      "[1 rows x 21 columns]\n",
      "WS 21; MT 2; ER 0.05\n",
      "    flag_rule  trials  num_weeks  num_periods  event_begin  event_end  \\\n",
      "174    WINDOW       1        100            7           48         52   \n",
      "\n",
      "     num_rounds  grid_size  num_traders  \\\n",
      "174           5         15           20   \n",
      "\n",
      "                                        trader_objects  ...  lower_bound  \\\n",
      "174  [(<class 'environment.dm_agents.ZIDPA'>, 20), ...  ...          200   \n",
      "\n",
      "     upper_bound  movement_error_rate  compliance_rate  min_agents  on_random  \\\n",
      "174          600                0.005                1         NaN       True   \n",
      "\n",
      "     window_size  min_trades  prep_int  \\\n",
      "174         21.0         2.0        87   \n",
      "\n",
      "                                             file_name  \n",
      "174  0087fr_WINDOW_mt_2_ws_21_er_0.005_cr_1_t1_fr_T...  \n",
      "\n",
      "[1 rows x 21 columns]\n",
      "WS 21; MT 2; ER 0.005\n",
      "    flag_rule  trials  num_weeks  num_periods  event_begin  event_end  \\\n",
      "210    WINDOW       1        100            7           48         52   \n",
      "\n",
      "     num_rounds  grid_size  num_traders  \\\n",
      "210           5         15           20   \n",
      "\n",
      "                                        trader_objects  ...  lower_bound  \\\n",
      "210  [(<class 'environment.dm_agents.ZIDPA'>, 20), ...  ...          200   \n",
      "\n",
      "     upper_bound  movement_error_rate  compliance_rate  min_agents  on_random  \\\n",
      "210          600               0.0005                1         NaN       True   \n",
      "\n",
      "     window_size  min_trades  prep_int  \\\n",
      "210         21.0         2.0       105   \n",
      "\n",
      "                                             file_name  \n",
      "210  0105fr_WINDOW_mt_2_ws_21_er_0.0005_cr_1_t1_fr_...  \n",
      "\n",
      "[1 rows x 21 columns]\n",
      "WS 21; MT 2; ER 0.0005\n",
      "    flag_rule  trials  num_weeks  num_periods  event_begin  event_end  \\\n",
      "114    WINDOW       1        100            7           48         52   \n",
      "\n",
      "     num_rounds  grid_size  num_traders  \\\n",
      "114           5         15           20   \n",
      "\n",
      "                                        trader_objects  ...  lower_bound  \\\n",
      "114  [(<class 'environment.dm_agents.ZIDPA'>, 20), ...  ...          200   \n",
      "\n",
      "     upper_bound  movement_error_rate  compliance_rate  min_agents  on_random  \\\n",
      "114          600                  0.0                1         NaN      False   \n",
      "\n",
      "     window_size  min_trades  prep_int  \\\n",
      "114         21.0         3.0        57   \n",
      "\n",
      "                                     file_name  \n",
      "114  0057fr_WINDOW_mt_3_ws_21_er_0_cr_1_t1.png  \n",
      "\n",
      "[1 rows x 21 columns]\n",
      "WS 21; MT 3; ER 0.0\n",
      "    flag_rule  trials  num_weeks  num_periods  event_begin  event_end  \\\n",
      "150    WINDOW       1        100            7           48         52   \n",
      "\n",
      "     num_rounds  grid_size  num_traders  \\\n",
      "150           5         15           20   \n",
      "\n",
      "                                        trader_objects  ...  lower_bound  \\\n",
      "150  [(<class 'environment.dm_agents.ZIDPA'>, 20), ...  ...          200   \n",
      "\n",
      "     upper_bound  movement_error_rate  compliance_rate  min_agents  on_random  \\\n",
      "150          600                 0.05                1         NaN       True   \n",
      "\n",
      "     window_size  min_trades  prep_int  \\\n",
      "150         21.0         3.0        75   \n",
      "\n",
      "                                             file_name  \n",
      "150  0075fr_WINDOW_mt_3_ws_21_er_0.05_cr_1_t1_fr_T.png  \n",
      "\n",
      "[1 rows x 21 columns]\n",
      "WS 21; MT 3; ER 0.05\n",
      "    flag_rule  trials  num_weeks  num_periods  event_begin  event_end  \\\n",
      "186    WINDOW       1        100            7           48         52   \n",
      "\n",
      "     num_rounds  grid_size  num_traders  \\\n",
      "186           5         15           20   \n",
      "\n",
      "                                        trader_objects  ...  lower_bound  \\\n",
      "186  [(<class 'environment.dm_agents.ZIDPA'>, 20), ...  ...          200   \n",
      "\n",
      "     upper_bound  movement_error_rate  compliance_rate  min_agents  on_random  \\\n",
      "186          600                0.005                1         NaN       True   \n",
      "\n",
      "     window_size  min_trades  prep_int  \\\n",
      "186         21.0         3.0        93   \n",
      "\n",
      "                                             file_name  \n",
      "186  0093fr_WINDOW_mt_3_ws_21_er_0.005_cr_1_t1_fr_T...  \n",
      "\n",
      "[1 rows x 21 columns]\n",
      "WS 21; MT 3; ER 0.005\n",
      "    flag_rule  trials  num_weeks  num_periods  event_begin  event_end  \\\n",
      "222    WINDOW       1        100            7           48         52   \n",
      "\n",
      "     num_rounds  grid_size  num_traders  \\\n",
      "222           5         15           20   \n",
      "\n",
      "                                        trader_objects  ...  lower_bound  \\\n",
      "222  [(<class 'environment.dm_agents.ZIDPA'>, 20), ...  ...          200   \n",
      "\n",
      "     upper_bound  movement_error_rate  compliance_rate  min_agents  on_random  \\\n",
      "222          600               0.0005                1         NaN       True   \n",
      "\n",
      "     window_size  min_trades  prep_int  \\\n",
      "222         21.0         3.0       111   \n",
      "\n",
      "                                             file_name  \n",
      "222  0111fr_WINDOW_mt_3_ws_21_er_0.0005_cr_1_t1_fr_...  \n",
      "\n",
      "[1 rows x 21 columns]\n",
      "WS 21; MT 3; ER 0.0005\n"
     ]
    },
    {
     "name": "stderr",
     "output_type": "stream",
     "text": [
      "/var/folders/y8/s398ykts1ddg413yl8k1x0xr0000gn/T/ipykernel_98683/3136274124.py:2: SettingWithCopyWarning: \n",
      "A value is trying to be set on a copy of a slice from a DataFrame.\n",
      "Try using .loc[row_indexer,col_indexer] = value instead\n",
      "\n",
      "See the caveats in the documentation: https://pandas.pydata.org/pandas-docs/stable/user_guide/indexing.html#returning-a-view-versus-a-copy\n",
      "  name_frame2['flag_rule'] = name_frame2['flag_rule'].apply(str)\n",
      "/var/folders/y8/s398ykts1ddg413yl8k1x0xr0000gn/T/ipykernel_98683/3136274124.py:3: SettingWithCopyWarning: \n",
      "A value is trying to be set on a copy of a slice from a DataFrame.\n",
      "Try using .loc[row_indexer,col_indexer] = value instead\n",
      "\n",
      "See the caveats in the documentation: https://pandas.pydata.org/pandas-docs/stable/user_guide/indexing.html#returning-a-view-versus-a-copy\n",
      "  name_frame2['file_name'] = name_frame2['file_name'].apply(str)\n"
     ]
    }
   ],
   "source": [
    "name_frame2 = name_frame[(name_frame['on_random']==True)|(name_frame['movement_error_rate']==0)]\n",
    "name_frame2['flag_rule'] = name_frame2['flag_rule'].apply(str)\n",
    "name_frame2['file_name'] = name_frame2['file_name'].apply(str)\n",
    "name_frame2_n = name_frame2[name_frame2['flag_rule']=='WINDOW']\n",
    "for ws in window_size_s:\n",
    "    name_frame2_d = name_frame2_n[name_frame2_n['window_size']==ws]\n",
    "    print(name_frame2_d['min_trades'].unique())\n",
    "    for mt in min_trades_s:\n",
    "        name_frame2_g = name_frame2_d[name_frame2_d['min_trades']==mt]\n",
    "        for er in movement_error_rate_s:\n",
    "            nm_wk_s = [100, 500, 500]; evnt_strt_s = [48, 48, 48*5]; evnt_end_s = [52, 52, 52*5]\n",
    "            \n",
    "            name_frame2_e = name_frame2_g[name_frame2_g['movement_error_rate']==er]\n",
    "            print(name_frame2_e.head(1))\n",
    "            print(f'WS {ws}; MT {mt}; ER {er}')"
   ]
  },
  {
   "cell_type": "code",
   "execution_count": null,
   "id": "c423af0c-b743-471d-a746-9c119a1453b1",
   "metadata": {},
   "outputs": [],
   "source": []
  },
  {
   "cell_type": "code",
   "execution_count": 90,
   "id": "5791fc31-b9b1-4dad-a8b2-818907df8ca6",
   "metadata": {},
   "outputs": [],
   "source": [
    "doc = ptx.Document(default_filepath=os.path.join('flag_reset_comparison', 'flag_comparator'))\n",
    "img1_f = \"0000fr_None_er_0_cr_1_t1.png\"\n",
    "img2_f = \"0000fr_None_er_0_cr_1_t10.png\"\n",
    "img3_f = \"1000fr_None_er_0_cr_1_t1.png\"\n",
    "img4_f = \"1000fr_None_er_0_cr_1_t10.png\"\n",
    "img5_f = \"2000fr_None_er_0_cr_1_t1.png\"\n",
    "img6_f = \"2000fr_None_er_0_cr_1_t10.png\"\n",
    "\n",
    "\n",
    "with doc.create(ptx.Section('Test Subfigures')):\n",
    "    with doc.create(ptx.Figure(position='h!')) as figs:\n",
    "        with doc.create(ptx.SubFigure(\n",
    "                position='b',\n",
    "                width=ptx.NoEscape(r'0.45\\linewidth'))) as left_fig:\n",
    "                    left_fig.add_image(img1_f, width=ptx.NoEscape(r'\\linewidth'))\n",
    "                    left_fig.add_caption('One Trial')\n",
    "        with doc.create(ptx.SubFigure(\n",
    "                position='b',\n",
    "                width=ptx.NoEscape(r'0.45\\linewidth'))) as right_fig:\n",
    "                    right_fig.append(ptx.StandAloneGraphic(\n",
    "                        image_options=ptx.base_classes.command.Options('clip', width=ptx.NoEscape(r'\\linewidth'), trim='0 4cm 0 0'),\n",
    "                        filename=ptx.utils.fix_filename(img2_f)))\n",
    "                    right_fig.add_caption('10 Trials')\n",
    "        figs.add_caption(\"100 Weeks, Event 48-52\")\n",
    "\n",
    "doc.generate_pdf(clean_tex=False)"
   ]
  },
  {
   "cell_type": "code",
   "execution_count": null,
   "id": "ef66dbe9-a918-42af-8d21-0680c04cae3c",
   "metadata": {},
   "outputs": [],
   "source": [
    "from pylatex import Document, Figure, StandAloneGraphic\n",
    "from pylatex.base_classes.command import Options\n",
    "from pylatex.utils import fix_filename\n",
    "\n",
    "doc=Document()\n",
    "doc.create(Figure(position='h!')) as fig:\n",
    "    fig.append(\n",
    "        StandAloneGraphic(\n",
    "            image_options=Options('clip', width=50, trim='0 0 0 4cm'),\n",
    "            filename=fix_filename('image.jpg')))"
   ]
  },
  {
   "cell_type": "code",
   "execution_count": null,
   "id": "b19fae04-b7dc-4152-8aa7-e78543ce5334",
   "metadata": {},
   "outputs": [],
   "source": [
    "# Treatment names\n",
    "reset_freq_s = [None, \"START\", \"PERIOD\", \"MIN_AGENTS\", \"WEEK\", \"WINDOW\"]\n",
    "\n",
    "num_trials = 1\n",
    "num_weeks_s = [100, 500, 500]\n",
    "num_periods = 7\n",
    "\n",
    "event_begin_s = [48, 48, 48*5]\n",
    "event_end_s = [52, 52, 52*5]\n",
    "\n",
    "num_rounds = 5; grid_size = 15; num_traders = 20; num_units = 8; lower_bound = 200; upper_bound = 600\n",
    "trader_objects =[(ZIDPA, 20),(ZID, 0)]\n",
    "\n",
    "movement_error_rate_s = [0, 0.05, 0.005, 0.0005]\n",
    "compliance_rate_s = [1]\n",
    "\n",
    "min_agents_s = [2]\n",
    "on_random_s = [False, True]\n",
    "window_size_s = [7, 14, 21]\n",
    "min_trades_s = [1, 2, 3]\n",
    "\n",
    "prep_int_s = [0, 1000, 2000]"
   ]
  },
  {
   "cell_type": "code",
   "execution_count": 9,
   "id": "63255fe6-0dda-4bf8-9011-24f2ea8b82ec",
   "metadata": {},
   "outputs": [
    {
     "ename": "ValueError",
     "evalue": "TestBreak",
     "output_type": "error",
     "traceback": [
      "\u001b[0;31m---------------------------------------------------------------------------\u001b[0m",
      "\u001b[0;31mValueError\u001b[0m                                Traceback (most recent call last)",
      "Cell \u001b[0;32mIn[9], line 1\u001b[0m\n\u001b[0;32m----> 1\u001b[0m \u001b[38;5;28;01mraise\u001b[39;00m \u001b[38;5;167;01mValueError\u001b[39;00m(\u001b[38;5;124m\"\u001b[39m\u001b[38;5;124mTestBreak\u001b[39m\u001b[38;5;124m\"\u001b[39m)\n",
      "\u001b[0;31mValueError\u001b[0m: TestBreak"
     ]
    }
   ],
   "source": [
    "raise ValueError(\"TestBreak\")"
   ]
  },
  {
   "cell_type": "code",
   "execution_count": 16,
   "id": "11b99cc3-0c1c-4361-9042-bf4acadc4bfe",
   "metadata": {},
   "outputs": [
    {
     "data": {
      "image/png": "[encoded data removed]",
      "text/plain": [
       "<Figure size 640x480 with 1 Axes>"
      ]
     },
     "metadata": {},
     "output_type": "display_data"
    }
   ],
   "source": [
    "ZIDPA = dm_agents.ZIDPA\n",
    "ZID = dm_agents.ZIDPR\n",
    "num_trials = 1; num_periods = 7; num_weeks = 100; event_begin = 48; event_end = 52; num_rounds = 5; grid_size = 15; num_traders = 20; num_units = 8; \n",
    "lower_bound = 200; upper_bound = 600\n",
    "trader_objects =[(ZIDPA, 20),(ZID, 0)]\n",
    "common_controls = [event_begin, event_end,\n",
    "                    num_rounds, grid_size,\n",
    "                    num_traders, num_units,\n",
    "                    lower_bound, upper_bound,\n",
    "                    trader_objects]\n",
    "\n",
    "movement_error_rate = 0\n",
    "compliance_rate = 1\n",
    "\n",
    "reset_freq=\"WINDOW\"\n",
    "min_agents=None\n",
    "on_random=False\n",
    "window_size = 14\n",
    "min_trades = 2\n",
    "\n",
    "trial_1 = make_event_monte_carlo(\"test1\", num_trials, num_periods, num_weeks, *common_controls, movement_error_rate, compliance_rate, return_df=True, \n",
    "                                 reset_flag_frequency=reset_freq, reset_flag_min_agents=min_agents, reset_flag_on_random=on_random,\n",
    "                                 reset_flag_window=window_size, reset_flag_min_trades=min_trades)\n",
    "\n",
    "plt.plot(trial_1['eff'])\n",
    "plt.axvspan(event_begin-0.5, event_end+0.5, color=\"grey\", alpha=0.3)\n",
    "plt.suptitle(f\"Move Error Rate: {movement_error_rate}; Compliance Rate: {compliance_rate}\")\n",
    "plt.title(f\"ResetFreq: {reset_freq}; MinAgents: {min_agents}; OnRandom: {on_random}\")\n",
    "plt.show()"
   ]
  },
  {
   "cell_type": "code",
   "execution_count": null,
   "id": "0ee9e64b-a377-4fb6-9d66-9cf8414921c1",
   "metadata": {},
   "outputs": [],
   "source": []
  },
  {
   "cell_type": "code",
   "execution_count": null,
   "id": "b927d003-0781-4710-b10f-7fa7019531a0",
   "metadata": {},
   "outputs": [],
   "source": [
    "raise ValueError(\"Yuh\")"
   ]
  },
  {
   "cell_type": "code",
   "execution_count": null,
   "id": "5c9d716f-69b7-4cf4-99b4-1e92e6b9a34d",
   "metadata": {},
   "outputs": [],
   "source": [
    "ZIDPA = dm_agents.ZIDPA\n",
    "ZID = dm_agents.ZIDPR\n",
    "num_trials = 1; num_periods = 7; num_weeks = 100; event_begin = 48; event_end = 52; num_rounds = 5; grid_size = 15; num_traders = 20; num_units = 8; lower_bound = 200; upper_bound = 600\n",
    "trader_objects =[(ZIDPA, 20),(ZID, 0)]\n",
    "common_controls = [num_trials, num_periods, num_weeks,\n",
    "                    event_begin, event_end,\n",
    "                    num_rounds, grid_size,\n",
    "                    num_traders, num_units,\n",
    "                    lower_bound, upper_bound,\n",
    "                    trader_objects]\n",
    "\n",
    "movement_error_rate = 0\n",
    "compliance_rate = 1\n",
    "\n",
    "reset_freq=None\n",
    "min_agents=None\n",
    "on_random=False\n",
    "\n",
    "test1 = make_event_monte_carlo(\"test1\", *common_controls, movement_error_rate, compliance_rate, return_df=True, reset_flag_frequency=reset_freq, reset_flag_min_agents=min_agents,\n",
    "             reset_flag_on_random=on_random)\n",
    "\n",
    "plt.plot(test1['eff'])\n",
    "plt.axvspan(event_begin, event_end, color=\"grey\", alpha=0.3)\n",
    "plt.suptitle(f\"Move Error Rate: {movement_error_rate}; Compliance Rate: {compliance_rate}\")\n",
    "plt.title(f\"ResetFreq: {reset_freq}; MinAgents: {min_agents}; OnRandom: {on_random}\")\n",
    "plt.show()"
   ]
  },
  {
   "cell_type": "code",
   "execution_count": null,
   "id": "7f389bc4-c3af-472a-b93b-38432b9545dd",
   "metadata": {},
   "outputs": [],
   "source": [
    "ZIDPA = dm_agents.ZIDPA\n",
    "ZID = dm_agents.ZIDPR\n",
    "num_trials = 1; num_periods = 7; num_weeks = 100; event_begin = 48; event_end = 52; num_rounds = 5; grid_size = 15; num_traders = 20; num_units = 8; lower_bound = 200; upper_bound = 600\n",
    "trader_objects =[(ZIDPA, 20),(ZID, 0)]\n",
    "common_controls = [num_trials, num_periods, num_weeks,\n",
    "                    event_begin, event_end,\n",
    "                    num_rounds, grid_size,\n",
    "                    num_traders, num_units,\n",
    "                    lower_bound, upper_bound,\n",
    "                    trader_objects]\n",
    "\n",
    "movement_error_rate = 0\n",
    "compliance_rate = 1\n",
    "\n",
    "reset_freq=\"START\"\n",
    "min_agents=None\n",
    "on_random=False\n",
    "\n",
    "test1 = make_event_monte_carlo(\"test1\", *common_controls, movement_error_rate, compliance_rate, return_df=True, reset_flag_frequency=reset_freq, reset_flag_min_agents=min_agents,\n",
    "             reset_flag_on_random=on_random)\n",
    "\n",
    "plt.plot(test1['eff'])\n",
    "plt.axvspan(event_begin, event_end, color=\"grey\", alpha=0.3)\n",
    "plt.suptitle(f\"Move Error Rate: {movement_error_rate}; Compliance Rate: {compliance_rate}\")\n",
    "plt.title(f\"ResetFreq: {reset_freq}; MinAgents: {min_agents}; OnRandom: {on_random}\")\n",
    "plt.show()"
   ]
  },
  {
   "cell_type": "code",
   "execution_count": null,
   "id": "e32e9cb6-e345-4486-87b9-723efa5b6031",
   "metadata": {},
   "outputs": [],
   "source": [
    "ZIDPA = dm_agents.ZIDPA\n",
    "ZID = dm_agents.ZIDPR\n",
    "num_trials = 1; num_periods = 7; num_weeks = 100; event_begin = 48; event_end = 52; num_rounds = 5; grid_size = 15; num_traders = 20; num_units = 8; lower_bound = 200; upper_bound = 600\n",
    "trader_objects =[(ZIDPA, 20),(ZID, 0)]\n",
    "common_controls = [num_trials, num_periods, num_weeks,\n",
    "                    event_begin, event_end,\n",
    "                    num_rounds, grid_size,\n",
    "                    num_traders, num_units,\n",
    "                    lower_bound, upper_bound,\n",
    "                    trader_objects]\n",
    "\n",
    "movement_error_rate = 0\n",
    "compliance_rate = 1\n",
    "\n",
    "reset_freq=\"PERIOD\"\n",
    "min_agents=None\n",
    "on_random=False\n",
    "\n",
    "test1 = make_event_monte_carlo(\"test1\", *common_controls, movement_error_rate, compliance_rate, return_df=True, reset_flag_frequency=reset_freq, reset_flag_min_agents=min_agents,\n",
    "             reset_flag_on_random=on_random)\n",
    "\n",
    "plt.plot(test1['eff'])\n",
    "plt.axvspan(event_begin, event_end, color=\"grey\", alpha=0.3)\n",
    "plt.suptitle(f\"Move Error Rate: {movement_error_rate}; Compliance Rate: {compliance_rate}\")\n",
    "plt.title(f\"ResetFreq: {reset_freq}; MinAgents: {min_agents}; OnRandom: {on_random}\")\n",
    "plt.show()"
   ]
  },
  {
   "cell_type": "code",
   "execution_count": null,
   "id": "0155c51e-a2cb-4f2a-a59c-f993f82c9246",
   "metadata": {},
   "outputs": [],
   "source": []
  },
  {
   "cell_type": "code",
   "execution_count": null,
   "id": "469b280c-9dc4-4f3c-94b2-e09b427e394b",
   "metadata": {},
   "outputs": [],
   "source": [
    "ZIDPA = dm_agents.ZIDPA\n",
    "ZID = dm_agents.ZIDPR\n",
    "num_trials = 1; num_periods = 7; num_weeks = 500; event_begin = 48; event_end = 52; num_rounds = 5; grid_size = 15; num_traders = 20; num_units = 8; lower_bound = 200; upper_bound = 600\n",
    "trader_objects =[(ZIDPA, 20),(ZID, 0)]\n",
    "common_controls = [num_trials, num_periods, num_weeks,\n",
    "                    event_begin, event_end,\n",
    "                    num_rounds, grid_size,\n",
    "                    num_traders, num_units,\n",
    "                    lower_bound, upper_bound,\n",
    "                    trader_objects]\n",
    "\n",
    "movement_error_rate = 0\n",
    "compliance_rate = 1\n",
    "\n",
    "reset_freq=None\n",
    "min_agents=None\n",
    "on_random=False\n",
    "\n",
    "test1 = make_event_monte_carlo(\"test1\", *common_controls, movement_error_rate, compliance_rate, return_df=True, reset_flag_frequency=reset_freq, reset_flag_min_agents=min_agents,\n",
    "             reset_flag_on_random=on_random)\n",
    "\n",
    "plt.plot(test1['eff'])\n",
    "plt.axvspan(event_begin, event_end, color=\"grey\", alpha=0.3)\n",
    "plt.suptitle(f\"Move Error Rate: {movement_error_rate}; Compliance Rate: {compliance_rate}\")\n",
    "plt.title(f\"ResetFreq: {reset_freq}; MinAgents: {min_agents}; OnRandom: {on_random}\")\n",
    "plt.show()"
   ]
  },
  {
   "cell_type": "code",
   "execution_count": null,
   "id": "d580d707-07f4-421e-a0f8-698149047a50",
   "metadata": {},
   "outputs": [],
   "source": [
    "ZIDPA = dm_agents.ZIDPA\n",
    "ZID = dm_agents.ZIDPR\n",
    "num_trials = 1; num_periods = 7; num_weeks = 500; event_begin = 48; event_end = 52; num_rounds = 5; grid_size = 15; num_traders = 20; num_units = 8; lower_bound = 200; upper_bound = 600\n",
    "trader_objects =[(ZIDPA, 20),(ZID, 0)]\n",
    "common_controls = [num_trials, num_periods, num_weeks,\n",
    "                    event_begin, event_end,\n",
    "                    num_rounds, grid_size,\n",
    "                    num_traders, num_units,\n",
    "                    lower_bound, upper_bound,\n",
    "                    trader_objects]\n",
    "\n",
    "movement_error_rate = 0\n",
    "compliance_rate = 1\n",
    "\n",
    "reset_freq=\"START\"\n",
    "min_agents=None\n",
    "on_random=False\n",
    "\n",
    "test1 = make_event_monte_carlo(\"test1\", *common_controls, movement_error_rate, compliance_rate, return_df=True, reset_flag_frequency=reset_freq, reset_flag_min_agents=min_agents,\n",
    "             reset_flag_on_random=on_random)\n",
    "\n",
    "plt.plot(test1['eff'])\n",
    "plt.axvspan(event_begin, event_end, color=\"grey\", alpha=0.3)\n",
    "plt.suptitle(f\"Move Error Rate: {movement_error_rate}; Compliance Rate: {compliance_rate}\")\n",
    "plt.title(f\"ResetFreq: {reset_freq}; MinAgents: {min_agents}; OnRandom: {on_random}\")\n",
    "plt.show()"
   ]
  },
  {
   "cell_type": "code",
   "execution_count": null,
   "id": "a5ddd225-fb5b-400b-a6d4-61df85d36bc5",
   "metadata": {},
   "outputs": [],
   "source": [
    "ZIDPA = dm_agents.ZIDPA\n",
    "ZID = dm_agents.ZIDPR\n",
    "num_trials = 1; num_periods = 7; num_weeks = 500; event_begin = 48; event_end = 52; num_rounds = 5; grid_size = 15; num_traders = 20; num_units = 8; lower_bound = 200; upper_bound = 600\n",
    "trader_objects =[(ZIDPA, 20),(ZID, 0)]\n",
    "common_controls = [num_trials, num_periods, num_weeks,\n",
    "                    event_begin, event_end,\n",
    "                    num_rounds, grid_size,\n",
    "                    num_traders, num_units,\n",
    "                    lower_bound, upper_bound,\n",
    "                    trader_objects]\n",
    "\n",
    "movement_error_rate = 0\n",
    "compliance_rate = 1\n",
    "\n",
    "reset_freq=\"PERIOD\"\n",
    "min_agents=None\n",
    "on_random=False\n",
    "\n",
    "test1 = make_event_monte_carlo(\"test1\", *common_controls, movement_error_rate, compliance_rate, return_df=True, reset_flag_frequency=reset_freq, reset_flag_min_agents=min_agents,\n",
    "             reset_flag_on_random=on_random)\n",
    "\n",
    "plt.plot(test1['eff'])\n",
    "plt.axvspan(event_begin, event_end, color=\"grey\", alpha=0.3)\n",
    "plt.suptitle(f\"Move Error Rate: {movement_error_rate}; Compliance Rate: {compliance_rate}\")\n",
    "plt.title(f\"ResetFreq: {reset_freq}; MinAgents: {min_agents}; OnRandom: {on_random}\")\n",
    "plt.show()"
   ]
  },
  {
   "cell_type": "code",
   "execution_count": null,
   "id": "621238e0-3197-481e-9d03-bf949b9698ed",
   "metadata": {},
   "outputs": [],
   "source": [
    "ZIDPA = dm_agents.ZIDPA\n",
    "ZID = dm_agents.ZIDPR\n",
    "num_trials = 1; num_periods = 7; num_weeks = 100; event_begin = 48; event_end = 52; num_rounds = 5; grid_size = 15; num_traders = 20; num_units = 8; lower_bound = 200; upper_bound = 600\n",
    "trader_objects =[(ZIDPA, 20),(ZID, 0)]\n",
    "common_controls = [num_trials, num_periods, num_weeks,\n",
    "                    event_begin, event_end,\n",
    "                    num_rounds, grid_size,\n",
    "                    num_traders, num_units,\n",
    "                    lower_bound, upper_bound,\n",
    "                    trader_objects]\n",
    "\n",
    "movement_error_rate = 0\n",
    "compliance_rate = 1\n",
    "\n",
    "reset_freq=None\n",
    "min_agents=2\n",
    "on_random=False\n",
    "\n",
    "test1 = make_event_monte_carlo(\"test1\", *common_controls, movement_error_rate, compliance_rate, return_df=True, reset_flag_frequency=reset_freq, reset_flag_min_agents=min_agents,\n",
    "             reset_flag_on_random=on_random)\n",
    "\n",
    "plt.plot(test1['eff'])\n",
    "plt.axvspan(event_begin, event_end, color=\"grey\", alpha=0.3)\n",
    "plt.suptitle(f\"Move Error Rate: {movement_error_rate}; Compliance Rate: {compliance_rate}\")\n",
    "plt.title(f\"ResetFreq: {reset_freq}; MinAgents: {min_agents}; OnRandom: {on_random}\")\n",
    "plt.show()"
   ]
  },
  {
   "cell_type": "code",
   "execution_count": null,
   "id": "da78cc10-b1f8-4be1-b7df-a525fcc7d06b",
   "metadata": {},
   "outputs": [],
   "source": [
    "ZIDPA = dm_agents.ZIDPA\n",
    "ZID = dm_agents.ZIDPR\n",
    "num_trials = 1; num_periods = 7; num_weeks = 500; event_begin = 48; event_end = 52; num_rounds = 5; grid_size = 15; num_traders = 20; num_units = 8; lower_bound = 200; upper_bound = 600\n",
    "trader_objects =[(ZIDPA, 20),(ZID, 0)]\n",
    "common_controls = [num_trials, num_periods, num_weeks,\n",
    "                    event_begin, event_end,\n",
    "                    num_rounds, grid_size,\n",
    "                    num_traders, num_units,\n",
    "                    lower_bound, upper_bound,\n",
    "                    trader_objects]\n",
    "\n",
    "movement_error_rate = 0\n",
    "compliance_rate = 1\n",
    "\n",
    "reset_freq=None\n",
    "min_agents=2\n",
    "on_random=False\n",
    "\n",
    "test1 = make_event_monte_carlo(\"test1\", *common_controls, movement_error_rate, compliance_rate, return_df=True, reset_flag_frequency=reset_freq, reset_flag_min_agents=min_agents,\n",
    "             reset_flag_on_random=on_random)\n",
    "\n",
    "plt.plot(test1['eff'])\n",
    "plt.axvspan(event_begin, event_end, color=\"grey\", alpha=0.3)\n",
    "plt.suptitle(f\"Move Error Rate: {movement_error_rate}; Compliance Rate: {compliance_rate}\")\n",
    "plt.title(f\"ResetFreq: {reset_freq}; MinAgents: {min_agents}; OnRandom: {on_random}\")\n",
    "plt.show()"
   ]
  },
  {
   "cell_type": "code",
   "execution_count": null,
   "id": "e2ba0dcb-5833-4953-b9d5-70b979d09b9c",
   "metadata": {},
   "outputs": [],
   "source": [
    "ZIDPA = dm_agents.ZIDPA\n",
    "ZID = dm_agents.ZIDPR\n",
    "num_trials = 1; num_periods = 7; num_weeks = 100; event_begin = 48; event_end = 52; num_rounds = 5; grid_size = 15; num_traders = 20; num_units = 8; lower_bound = 200; upper_bound = 600\n",
    "trader_objects =[(ZIDPA, 20),(ZID, 0)]\n",
    "common_controls = [num_trials, num_periods, num_weeks,\n",
    "                    event_begin, event_end,\n",
    "                    num_rounds, grid_size,\n",
    "                    num_traders, num_units,\n",
    "                    lower_bound, upper_bound,\n",
    "                    trader_objects]\n",
    "\n",
    "movement_error_rate = 0.05\n",
    "compliance_rate = 1\n",
    "\n",
    "reset_freq=None\n",
    "min_agents=None\n",
    "on_random=False\n",
    "\n",
    "test1 = make_event_monte_carlo(\"test1\", *common_controls, movement_error_rate, compliance_rate, return_df=True, reset_flag_frequency=reset_freq, reset_flag_min_agents=min_agents,\n",
    "             reset_flag_on_random=on_random)\n",
    "\n",
    "plt.plot(test1['eff'])\n",
    "plt.axvspan(event_begin, event_end, color=\"grey\", alpha=0.3)\n",
    "plt.suptitle(f\"Move Error Rate: {movement_error_rate}; Compliance Rate: {compliance_rate}\")\n",
    "plt.title(f\"ResetFreq: {reset_freq}; MinAgents: {min_agents}; OnRandom: {on_random}\")\n",
    "plt.show()"
   ]
  },
  {
   "cell_type": "code",
   "execution_count": null,
   "id": "c7d31146-2dea-432e-b7d3-4e18e1ef05a5",
   "metadata": {},
   "outputs": [],
   "source": [
    "ZIDPA = dm_agents.ZIDPA\n",
    "ZID = dm_agents.ZIDPR\n",
    "num_trials = 1; num_periods = 7; num_weeks = 100; event_begin = 48; event_end = 52; num_rounds = 5; grid_size = 15; num_traders = 20; num_units = 8; lower_bound = 200; upper_bound = 600\n",
    "trader_objects =[(ZIDPA, 20),(ZID, 0)]\n",
    "common_controls = [num_trials, num_periods, num_weeks,\n",
    "                    event_begin, event_end,\n",
    "                    num_rounds, grid_size,\n",
    "                    num_traders, num_units,\n",
    "                    lower_bound, upper_bound,\n",
    "                    trader_objects]\n",
    "\n",
    "movement_error_rate = 0.005\n",
    "compliance_rate = 1\n",
    "\n",
    "reset_freq=None\n",
    "min_agents=None\n",
    "on_random=False\n",
    "\n",
    "test1 = make_event_monte_carlo(\"test1\", *common_controls, movement_error_rate, compliance_rate, return_df=True, reset_flag_frequency=reset_freq, reset_flag_min_agents=min_agents,\n",
    "             reset_flag_on_random=on_random)\n",
    "\n",
    "plt.plot(test1['eff'])\n",
    "plt.axvspan(event_begin, event_end, color=\"grey\", alpha=0.3)\n",
    "plt.suptitle(f\"Move Error Rate: {movement_error_rate}; Compliance Rate: {compliance_rate}\")\n",
    "plt.title(f\"ResetFreq: {reset_freq}; MinAgents: {min_agents}; OnRandom: {on_random}\")\n",
    "plt.show()"
   ]
  },
  {
   "cell_type": "code",
   "execution_count": null,
   "id": "d74514e8-03ad-467a-b93e-a6e0633b9f93",
   "metadata": {},
   "outputs": [],
   "source": [
    "ZIDPA = dm_agents.ZIDPA\n",
    "ZID = dm_agents.ZIDPR\n",
    "num_trials = 1; num_periods = 7; num_weeks = 100; event_begin = 48; event_end = 52; num_rounds = 5; grid_size = 15; num_traders = 20; num_units = 8; lower_bound = 200; upper_bound = 600\n",
    "trader_objects =[(ZIDPA, 20),(ZID, 0)]\n",
    "common_controls = [num_trials, num_periods, num_weeks,\n",
    "                    event_begin, event_end,\n",
    "                    num_rounds, grid_size,\n",
    "                    num_traders, num_units,\n",
    "                    lower_bound, upper_bound,\n",
    "                    trader_objects]\n",
    "\n",
    "movement_error_rate = 0.0005\n",
    "compliance_rate = 1\n",
    "\n",
    "reset_freq=None\n",
    "min_agents=None\n",
    "on_random=False\n",
    "\n",
    "test1 = make_event_monte_carlo(\"test1\", *common_controls, movement_error_rate, compliance_rate, return_df=True, reset_flag_frequency=reset_freq, reset_flag_min_agents=min_agents,\n",
    "             reset_flag_on_random=on_random)\n",
    "\n",
    "plt.plot(test1['eff'])\n",
    "plt.axvspan(event_begin, event_end, color=\"grey\", alpha=0.3)\n",
    "plt.suptitle(f\"Move Error Rate: {movement_error_rate}; Compliance Rate: {compliance_rate}\")\n",
    "plt.title(f\"ResetFreq: {reset_freq}; MinAgents: {min_agents}; OnRandom: {on_random}\")\n",
    "plt.show()"
   ]
  },
  {
   "cell_type": "code",
   "execution_count": null,
   "id": "0f960fa8-bb7c-49a9-b63d-f31e96e67e82",
   "metadata": {},
   "outputs": [],
   "source": [
    "ZIDPA = dm_agents.ZIDPA\n",
    "ZID = dm_agents.ZIDPR\n",
    "num_trials = 1; num_periods = 7; num_weeks = 100; event_begin = 48; event_end = 52; num_rounds = 5; grid_size = 15; num_traders = 20; num_units = 8; lower_bound = 200; upper_bound = 600\n",
    "trader_objects =[(ZIDPA, 20),(ZID, 0)]\n",
    "common_controls = [num_trials, num_periods, num_weeks,\n",
    "                    event_begin, event_end,\n",
    "                    num_rounds, grid_size,\n",
    "                    num_traders, num_units,\n",
    "                    lower_bound, upper_bound,\n",
    "                    trader_objects]\n",
    "\n",
    "movement_error_rate = 0.05\n",
    "compliance_rate = 1\n",
    "\n",
    "reset_freq=None\n",
    "min_agents=None\n",
    "on_random=True\n",
    "\n",
    "test1 = make_event_monte_carlo(\"test1\", *common_controls, movement_error_rate, compliance_rate, return_df=True, reset_flag_frequency=reset_freq, reset_flag_min_agents=min_agents,\n",
    "             reset_flag_on_random=on_random)\n",
    "\n",
    "plt.plot(test1['eff'])\n",
    "plt.axvspan(event_begin, event_end, color=\"grey\", alpha=0.3)\n",
    "plt.suptitle(f\"Move Error Rate: {movement_error_rate}; Compliance Rate: {compliance_rate}\")\n",
    "plt.title(f\"ResetFreq: {reset_freq}; MinAgents: {min_agents}; OnRandom: {on_random}\")\n",
    "plt.show()"
   ]
  },
  {
   "cell_type": "code",
   "execution_count": null,
   "id": "d6246704-6964-45e2-999b-6d22a7224341",
   "metadata": {},
   "outputs": [],
   "source": [
    "ZIDPA = dm_agents.ZIDPA\n",
    "ZID = dm_agents.ZIDPR\n",
    "num_trials = 1; num_periods = 7; num_weeks = 100; event_begin = 48; event_end = 52; num_rounds = 5; grid_size = 15; num_traders = 20; num_units = 8; lower_bound = 200; upper_bound = 600\n",
    "trader_objects =[(ZIDPA, 20),(ZID, 0)]\n",
    "common_controls = [num_trials, num_periods, num_weeks,\n",
    "                    event_begin, event_end,\n",
    "                    num_rounds, grid_size,\n",
    "                    num_traders, num_units,\n",
    "                    lower_bound, upper_bound,\n",
    "                    trader_objects]\n",
    "\n",
    "movement_error_rate = 0.005\n",
    "compliance_rate = 1\n",
    "\n",
    "reset_freq=None\n",
    "min_agents=None\n",
    "on_random=True\n",
    "\n",
    "test1 = make_event_monte_carlo(\"test1\", *common_controls, movement_error_rate, compliance_rate, return_df=True, reset_flag_frequency=reset_freq, reset_flag_min_agents=min_agents,\n",
    "             reset_flag_on_random=on_random)\n",
    "\n",
    "plt.plot(test1['eff'])\n",
    "plt.axvspan(event_begin, event_end, color=\"grey\", alpha=0.3)\n",
    "plt.suptitle(f\"Move Error Rate: {movement_error_rate}; Compliance Rate: {compliance_rate}\")\n",
    "plt.title(f\"ResetFreq: {reset_freq}; MinAgents: {min_agents}; OnRandom: {on_random}\")\n",
    "plt.show()"
   ]
  },
  {
   "cell_type": "code",
   "execution_count": null,
   "id": "1b6f0eb3-ffb6-4b83-bdd2-1cfd16a2ef5b",
   "metadata": {},
   "outputs": [],
   "source": [
    "ZIDPA = dm_agents.ZIDPA\n",
    "ZID = dm_agents.ZIDPR\n",
    "num_trials = 1; num_periods = 7; num_weeks = 100; event_begin = 48; event_end = 52; num_rounds = 5; grid_size = 15; num_traders = 20; num_units = 8; lower_bound = 200; upper_bound = 600\n",
    "trader_objects =[(ZIDPA, 20),(ZID, 0)]\n",
    "common_controls = [num_trials, num_periods, num_weeks,\n",
    "                    event_begin, event_end,\n",
    "                    num_rounds, grid_size,\n",
    "                    num_traders, num_units,\n",
    "                    lower_bound, upper_bound,\n",
    "                    trader_objects]\n",
    "\n",
    "movement_error_rate = 0.0005\n",
    "compliance_rate = 1\n",
    "\n",
    "reset_freq=None\n",
    "min_agents=None\n",
    "on_random=True\n",
    "\n",
    "test1 = make_event_monte_carlo(\"test1\", *common_controls, movement_error_rate, compliance_rate, return_df=True, reset_flag_frequency=reset_freq, reset_flag_min_agents=min_agents,\n",
    "             reset_flag_on_random=on_random)\n",
    "\n",
    "plt.plot(test1['eff'])\n",
    "plt.axvspan(event_begin, event_end, color=\"grey\", alpha=0.3)\n",
    "plt.suptitle(f\"Move Error Rate: {movement_error_rate}; Compliance Rate: {compliance_rate}\")\n",
    "plt.title(f\"ResetFreq: {reset_freq}; MinAgents: {min_agents}; OnRandom: {on_random}\")\n",
    "plt.show()"
   ]
  },
  {
   "cell_type": "code",
   "execution_count": null,
   "id": "ded7e524-e5bf-4eb9-8c71-524ffcd24ffc",
   "metadata": {},
   "outputs": [],
   "source": [
    "ZIDPA = dm_agents.ZIDPA\n",
    "ZID = dm_agents.ZIDPR\n",
    "num_trials = 1; num_periods = 7; num_weeks = 500; event_begin = 48; event_end = 52; num_rounds = 5; grid_size = 15; num_traders = 20; num_units = 8; lower_bound = 200; upper_bound = 600\n",
    "trader_objects =[(ZIDPA, 20),(ZID, 0)]\n",
    "common_controls = [num_trials, num_periods, num_weeks,\n",
    "                    event_begin, event_end,\n",
    "                    num_rounds, grid_size,\n",
    "                    num_traders, num_units,\n",
    "                    lower_bound, upper_bound,\n",
    "                    trader_objects]\n",
    "\n",
    "movement_error_rate = 0.05\n",
    "compliance_rate = 1\n",
    "\n",
    "reset_freq=None\n",
    "min_agents=None\n",
    "on_random=True\n",
    "\n",
    "test1 = make_event_monte_carlo(\"test1\", *common_controls, movement_error_rate, compliance_rate, return_df=True, reset_flag_frequency=reset_freq, reset_flag_min_agents=min_agents,\n",
    "             reset_flag_on_random=on_random)\n",
    "\n",
    "plt.plot(test1['eff'])\n",
    "plt.axvspan(event_begin, event_end, color=\"grey\", alpha=0.3)\n",
    "plt.suptitle(f\"Move Error Rate: {movement_error_rate}; Compliance Rate: {compliance_rate}\")\n",
    "plt.title(f\"ResetFreq: {reset_freq}; MinAgents: {min_agents}; OnRandom: {on_random}\")\n",
    "plt.show()"
   ]
  },
  {
   "cell_type": "code",
   "execution_count": null,
   "id": "266b5ab2-b26c-490b-b56e-d35cbafa5997",
   "metadata": {},
   "outputs": [],
   "source": [
    "ZIDPA = dm_agents.ZIDPA\n",
    "ZID = dm_agents.ZIDPR\n",
    "num_trials = 1; num_periods = 7; num_weeks = 500; event_begin = 48; event_end = 52; num_rounds = 5; grid_size = 15; num_traders = 20; num_units = 8; lower_bound = 200; upper_bound = 600\n",
    "trader_objects =[(ZIDPA, 20),(ZID, 0)]\n",
    "common_controls = [num_trials, num_periods, num_weeks,\n",
    "                    event_begin, event_end,\n",
    "                    num_rounds, grid_size,\n",
    "                    num_traders, num_units,\n",
    "                    lower_bound, upper_bound,\n",
    "                    trader_objects]\n",
    "\n",
    "movement_error_rate = 0.005\n",
    "compliance_rate = 1\n",
    "\n",
    "reset_freq=None\n",
    "min_agents=None\n",
    "on_random=True\n",
    "\n",
    "test1 = make_event_monte_carlo(\"test1\", *common_controls, movement_error_rate, compliance_rate, return_df=True, reset_flag_frequency=reset_freq, reset_flag_min_agents=min_agents,\n",
    "             reset_flag_on_random=on_random)\n",
    "\n",
    "plt.plot(test1['eff'])\n",
    "plt.axvspan(event_begin, event_end, color=\"grey\", alpha=0.3)\n",
    "plt.suptitle(f\"Move Error Rate: {movement_error_rate}; Compliance Rate: {compliance_rate}\")\n",
    "plt.title(f\"ResetFreq: {reset_freq}; MinAgents: {min_agents}; OnRandom: {on_random}\")\n",
    "plt.show()"
   ]
  },
  {
   "cell_type": "code",
   "execution_count": null,
   "id": "05bdfa8e-ee64-4b66-8644-61a65e8f4aac",
   "metadata": {},
   "outputs": [],
   "source": [
    "ZIDPA = dm_agents.ZIDPA\n",
    "ZID = dm_agents.ZIDPR\n",
    "num_trials = 1; num_periods = 7; num_weeks = 500; event_begin = 48; event_end = 52; num_rounds = 5; grid_size = 15; num_traders = 20; num_units = 8; lower_bound = 200; upper_bound = 600\n",
    "trader_objects =[(ZIDPA, 20),(ZID, 0)]\n",
    "common_controls = [num_trials, num_periods, num_weeks,\n",
    "                    event_begin, event_end,\n",
    "                    num_rounds, grid_size,\n",
    "                    num_traders, num_units,\n",
    "                    lower_bound, upper_bound,\n",
    "                    trader_objects]\n",
    "\n",
    "movement_error_rate = 0.0005\n",
    "compliance_rate = 1\n",
    "\n",
    "reset_freq=None\n",
    "min_agents=None\n",
    "on_random=True\n",
    "\n",
    "test1 = make_event_monte_carlo(\"test1\", *common_controls, movement_error_rate, compliance_rate, return_df=True, reset_flag_frequency=reset_freq, reset_flag_min_agents=min_agents,\n",
    "             reset_flag_on_random=on_random)\n",
    "\n",
    "plt.plot(test1['eff'])\n",
    "plt.axvspan(event_begin, event_end, color=\"grey\", alpha=0.3)\n",
    "plt.suptitle(f\"Move Error Rate: {movement_error_rate}; Compliance Rate: {compliance_rate}\")\n",
    "plt.title(f\"ResetFreq: {reset_freq}; MinAgents: {min_agents}; OnRandom: {on_random}\")\n",
    "plt.show()"
   ]
  },
  {
   "cell_type": "code",
   "execution_count": null,
   "id": "b772a898-d3ad-4c17-a1e9-f3ae912b0459",
   "metadata": {},
   "outputs": [],
   "source": [
    "ZIDPA = dm_agents.ZIDPA\n",
    "ZID = dm_agents.ZIDPR\n",
    "num_trials = 10; num_periods = 7; num_weeks = 100; event_begin = 48; event_end = 52; num_rounds = 5; grid_size = 15; num_traders = 20; num_units = 8; lower_bound = 200; upper_bound = 600\n",
    "trader_objects =[(ZIDPA, 20),(ZID, 0)]\n",
    "common_controls = [num_trials, num_periods, num_weeks,\n",
    "                    event_begin, event_end,\n",
    "                    num_rounds, grid_size,\n",
    "                    num_traders, num_units,\n",
    "                    lower_bound, upper_bound,\n",
    "                    trader_objects]\n",
    "\n",
    "movement_error_rate = 0\n",
    "compliance_rate = 1\n",
    "\n",
    "reset_freq=None\n",
    "min_agents=None\n",
    "on_random=False\n",
    "\n",
    "test1 = make_event_monte_carlo(\"test1\", *common_controls, movement_error_rate, compliance_rate, return_df=True, reset_flag_frequency=reset_freq, reset_flag_min_agents=min_agents,\n",
    "             reset_flag_on_random=on_random)\n",
    "\n",
    "td_boxplot = format_df_for_boxplot(test1, 'week', 'eff')\n",
    "\n",
    "#plt.axvspan(event_begin, event_end, color=\"grey\", alpha=0.3)\n",
    "tlt = f\"Move Error Rate: {movement_error_rate}; Compliance Rate: {compliance_rate}\\nResetFreq: {reset_freq}; MinAgents: {min_agents}; OnRandom: {on_random}\"\n",
    "plot_boxplot_data(td_boxplot, title=tlt, y_lab=\"Efficiency\", x_lab=\"Week\", x_ticks=np.arange(0, num_weeks+1, 10))"
   ]
  },
  {
   "cell_type": "code",
   "execution_count": null,
   "id": "5441578a-e241-4c48-9af3-50f7d7f71dfc",
   "metadata": {},
   "outputs": [],
   "source": [
    "ZIDPA = dm_agents.ZIDPA\n",
    "ZID = dm_agents.ZIDPR\n",
    "num_trials = 10; num_periods = 7; num_weeks = 100; event_begin = 48; event_end = 52; num_rounds = 5; grid_size = 15; num_traders = 20; num_units = 8; lower_bound = 200; upper_bound = 600\n",
    "trader_objects =[(ZIDPA, 20),(ZID, 0)]\n",
    "common_controls = [num_trials, num_periods, num_weeks,\n",
    "                    event_begin, event_end,\n",
    "                    num_rounds, grid_size,\n",
    "                    num_traders, num_units,\n",
    "                    lower_bound, upper_bound,\n",
    "                    trader_objects]\n",
    "\n",
    "movement_error_rate = 0\n",
    "compliance_rate = 1\n",
    "\n",
    "reset_freq=\"START\"\n",
    "min_agents=None\n",
    "on_random=False\n",
    "\n",
    "test1 = make_event_monte_carlo(\"test1\", *common_controls, movement_error_rate, compliance_rate, return_df=True, reset_flag_frequency=reset_freq, reset_flag_min_agents=min_agents,\n",
    "             reset_flag_on_random=on_random)\n",
    "\n",
    "td_boxplot = format_df_for_boxplot(test1, 'week', 'eff')\n",
    "\n",
    "#plt.axvspan(event_begin, event_end, color=\"grey\", alpha=0.3)\n",
    "tlt = f\"Move Error Rate: {movement_error_rate}; Compliance Rate: {compliance_rate}\\nResetFreq: {reset_freq}; MinAgents: {min_agents}; OnRandom: {on_random}\"\n",
    "plot_boxplot_data(td_boxplot, title=tlt, y_lab=\"Efficiency\", x_lab=\"Week\", x_ticks=np.arange(0, num_weeks+1, 10))"
   ]
  },
  {
   "cell_type": "code",
   "execution_count": null,
   "id": "8b1912cf-37f8-497e-9bff-398c4691832e",
   "metadata": {},
   "outputs": [],
   "source": [
    "ZIDPA = dm_agents.ZIDPA\n",
    "ZID = dm_agents.ZIDPR\n",
    "num_trials = 10; num_periods = 7; num_weeks = 100; event_begin = 48; event_end = 52; num_rounds = 5; grid_size = 15; num_traders = 20; num_units = 8; lower_bound = 200; upper_bound = 600\n",
    "trader_objects =[(ZIDPA, 20),(ZID, 0)]\n",
    "common_controls = [num_trials, num_periods, num_weeks,\n",
    "                    event_begin, event_end,\n",
    "                    num_rounds, grid_size,\n",
    "                    num_traders, num_units,\n",
    "                    lower_bound, upper_bound,\n",
    "                    trader_objects]\n",
    "\n",
    "movement_error_rate = 0\n",
    "compliance_rate = 1\n",
    "\n",
    "reset_freq=\"PERIOD\"\n",
    "min_agents=None\n",
    "on_random=False\n",
    "\n",
    "test1 = make_event_monte_carlo(\"test1\", *common_controls, movement_error_rate, compliance_rate, return_df=True, reset_flag_frequency=reset_freq, reset_flag_min_agents=min_agents,\n",
    "             reset_flag_on_random=on_random)\n",
    "\n",
    "td_boxplot = format_df_for_boxplot(test1, 'week', 'eff')\n",
    "\n",
    "#plt.axvspan(event_begin, event_end, color=\"grey\", alpha=0.3)\n",
    "tlt = f\"Move Error Rate: {movement_error_rate}; Compliance Rate: {compliance_rate}\\nResetFreq: {reset_freq}; MinAgents: {min_agents}; OnRandom: {on_random}\"\n",
    "plot_boxplot_data(td_boxplot, title=tlt, y_lab=\"Efficiency\", x_lab=\"Week\", x_ticks=np.arange(0, num_weeks+1, 10))"
   ]
  },
  {
   "cell_type": "code",
   "execution_count": null,
   "id": "73c3aa0d-62e9-4207-907c-9a3a7e77b18b",
   "metadata": {},
   "outputs": [],
   "source": [
    "ZIDPA = dm_agents.ZIDPA\n",
    "ZID = dm_agents.ZIDPR\n",
    "num_trials = 10; num_periods = 7; num_weeks = 500; event_begin = 48; event_end = 52; num_rounds = 5; grid_size = 15; num_traders = 20; num_units = 8; lower_bound = 200; upper_bound = 600\n",
    "trader_objects =[(ZIDPA, 20),(ZID, 0)]\n",
    "common_controls = [num_trials, num_periods, num_weeks,\n",
    "                    event_begin, event_end,\n",
    "                    num_rounds, grid_size,\n",
    "                    num_traders, num_units,\n",
    "                    lower_bound, upper_bound,\n",
    "                    trader_objects]\n",
    "\n",
    "movement_error_rate = 0\n",
    "compliance_rate = 1\n",
    "\n",
    "reset_freq=None\n",
    "min_agents=None\n",
    "on_random=False\n",
    "\n",
    "test1 = make_event_monte_carlo(\"test1\", *common_controls, movement_error_rate, compliance_rate, return_df=True, reset_flag_frequency=reset_freq, reset_flag_min_agents=min_agents,\n",
    "             reset_flag_on_random=on_random)\n",
    "\n",
    "td_boxplot = format_df_for_boxplot(test1, 'week', 'eff')\n",
    "\n",
    "#plt.axvspan(event_begin, event_end, color=\"grey\", alpha=0.3)\n",
    "tlt = f\"Move Error Rate: {movement_error_rate}; Compliance Rate: {compliance_rate}\\nResetFreq: {reset_freq}; MinAgents: {min_agents}; OnRandom: {on_random}\"\n",
    "plot_boxplot_data(td_boxplot, title=tlt, y_lab=\"Efficiency\", x_lab=\"Week\", x_ticks=np.arange(0, num_weeks+1, 40))"
   ]
  },
  {
   "cell_type": "code",
   "execution_count": null,
   "id": "761b06b3-44d3-4bcc-8735-72d103ab1ae9",
   "metadata": {},
   "outputs": [],
   "source": [
    "ZIDPA = dm_agents.ZIDPA\n",
    "ZID = dm_agents.ZIDPR\n",
    "num_trials = 10; num_periods = 7; num_weeks = 500; event_begin = 48; event_end = 52; num_rounds = 5; grid_size = 15; num_traders = 20; num_units = 8; lower_bound = 200; upper_bound = 600\n",
    "trader_objects =[(ZIDPA, 20),(ZID, 0)]\n",
    "common_controls = [num_trials, num_periods, num_weeks,\n",
    "                    event_begin, event_end,\n",
    "                    num_rounds, grid_size,\n",
    "                    num_traders, num_units,\n",
    "                    lower_bound, upper_bound,\n",
    "                    trader_objects]\n",
    "\n",
    "movement_error_rate = 0\n",
    "compliance_rate = 1\n",
    "\n",
    "reset_freq=\"START\"\n",
    "min_agents=None\n",
    "on_random=False\n",
    "\n",
    "test1 = make_event_monte_carlo(\"test1\", *common_controls, movement_error_rate, compliance_rate, return_df=True, reset_flag_frequency=reset_freq, reset_flag_min_agents=min_agents,\n",
    "             reset_flag_on_random=on_random)\n",
    "\n",
    "td_boxplot = format_df_for_boxplot(test1, 'week', 'eff')\n",
    "\n",
    "#plt.axvspan(event_begin, event_end, color=\"grey\", alpha=0.3)\n",
    "tlt = f\"Move Error Rate: {movement_error_rate}; Compliance Rate: {compliance_rate}\\nResetFreq: {reset_freq}; MinAgents: {min_agents}; OnRandom: {on_random}\"\n",
    "plot_boxplot_data(td_boxplot, title=tlt, y_lab=\"Efficiency\", x_lab=\"Week\", x_ticks=np.arange(0, num_weeks+1, 40))"
   ]
  },
  {
   "cell_type": "code",
   "execution_count": null,
   "id": "5712bf77-fd50-4214-b248-fb536ce77fd0",
   "metadata": {},
   "outputs": [],
   "source": [
    "ZIDPA = dm_agents.ZIDPA\n",
    "ZID = dm_agents.ZIDPR\n",
    "num_trials = 10; num_periods = 7; num_weeks = 500; event_begin = 48; event_end = 52; num_rounds = 5; grid_size = 15; num_traders = 20; num_units = 8; lower_bound = 200; upper_bound = 600\n",
    "trader_objects =[(ZIDPA, 20),(ZID, 0)]\n",
    "common_controls = [num_trials, num_periods, num_weeks,\n",
    "                    event_begin, event_end,\n",
    "                    num_rounds, grid_size,\n",
    "                    num_traders, num_units,\n",
    "                    lower_bound, upper_bound,\n",
    "                    trader_objects]\n",
    "\n",
    "movement_error_rate = 0\n",
    "compliance_rate = 1\n",
    "\n",
    "reset_freq=\"PERIOD\"\n",
    "min_agents=None\n",
    "on_random=False\n",
    "\n",
    "test1 = make_event_monte_carlo(\"test1\", *common_controls, movement_error_rate, compliance_rate, return_df=True, reset_flag_frequency=reset_freq, reset_flag_min_agents=min_agents,\n",
    "             reset_flag_on_random=on_random)\n",
    "\n",
    "td_boxplot = format_df_for_boxplot(test1, 'week', 'eff')\n",
    "\n",
    "#plt.axvspan(event_begin, event_end, color=\"grey\", alpha=0.3)\n",
    "tlt = f\"Move Error Rate: {movement_error_rate}; Compliance Rate: {compliance_rate}\\nResetFreq: {reset_freq}; MinAgents: {min_agents}; OnRandom: {on_random}\"\n",
    "plot_boxplot_data(td_boxplot, title=tlt, y_lab=\"Efficiency\", x_lab=\"Week\", x_ticks=np.arange(0, num_weeks+1, 40))"
   ]
  },
  {
   "cell_type": "code",
   "execution_count": null,
   "id": "ddbe302e-49ce-4098-ab52-c22600bee90c",
   "metadata": {},
   "outputs": [],
   "source": [
    "ZIDPA = dm_agents.ZIDPA\n",
    "ZID = dm_agents.ZIDPR\n",
    "num_trials = 10; num_periods = 7; num_weeks = 100; event_begin = 48; event_end = 52; num_rounds = 5; grid_size = 15; num_traders = 20; num_units = 8; lower_bound = 200; upper_bound = 600\n",
    "trader_objects =[(ZIDPA, 20),(ZID, 0)]\n",
    "common_controls = [num_trials, num_periods, num_weeks,\n",
    "                    event_begin, event_end,\n",
    "                    num_rounds, grid_size,\n",
    "                    num_traders, num_units,\n",
    "                    lower_bound, upper_bound,\n",
    "                    trader_objects]\n",
    "\n",
    "movement_error_rate = 0\n",
    "compliance_rate = 1\n",
    "\n",
    "reset_freq=None\n",
    "min_agents=2\n",
    "on_random=False\n",
    "\n",
    "test1 = make_event_monte_carlo(\"test1\", *common_controls, movement_error_rate, compliance_rate, return_df=True, reset_flag_frequency=reset_freq, reset_flag_min_agents=min_agents,\n",
    "             reset_flag_on_random=on_random)\n",
    "\n",
    "td_boxplot = format_df_for_boxplot(test1, 'week', 'eff')\n",
    "\n",
    "#plt.axvspan(event_begin, event_end, color=\"grey\", alpha=0.3)\n",
    "tlt = f\"Move Error Rate: {movement_error_rate}; Compliance Rate: {compliance_rate}\\nResetFreq: {reset_freq}; MinAgents: {min_agents}; OnRandom: {on_random}\"\n",
    "plot_boxplot_data(td_boxplot, title=tlt, y_lab=\"Efficiency\", x_lab=\"Week\", x_ticks=np.arange(0, num_weeks+1, 10))"
   ]
  },
  {
   "cell_type": "code",
   "execution_count": null,
   "id": "6edf8dd7-09d4-434e-9319-bc2e640f2ec7",
   "metadata": {},
   "outputs": [],
   "source": [
    "ZIDPA = dm_agents.ZIDPA\n",
    "ZID = dm_agents.ZIDPR\n",
    "num_trials = 10; num_periods = 7; num_weeks = 500; event_begin = 48; event_end = 52; num_rounds = 5; grid_size = 15; num_traders = 20; num_units = 8; lower_bound = 200; upper_bound = 600\n",
    "trader_objects =[(ZIDPA, 20),(ZID, 0)]\n",
    "common_controls = [num_trials, num_periods, num_weeks,\n",
    "                    event_begin, event_end,\n",
    "                    num_rounds, grid_size,\n",
    "                    num_traders, num_units,\n",
    "                    lower_bound, upper_bound,\n",
    "                    trader_objects]\n",
    "\n",
    "movement_error_rate = 0\n",
    "compliance_rate = 1\n",
    "\n",
    "reset_freq=None\n",
    "min_agents=2\n",
    "on_random=False\n",
    "\n",
    "test1 = make_event_monte_carlo(\"test1\", *common_controls, movement_error_rate, compliance_rate, return_df=True, reset_flag_frequency=reset_freq, reset_flag_min_agents=min_agents,\n",
    "             reset_flag_on_random=on_random)\n",
    "\n",
    "td_boxplot = format_df_for_boxplot(test1, 'week', 'eff')\n",
    "\n",
    "#plt.axvspan(event_begin, event_end, color=\"grey\", alpha=0.3)\n",
    "tlt = f\"Move Error Rate: {movement_error_rate}; Compliance Rate: {compliance_rate}\\nResetFreq: {reset_freq}; MinAgents: {min_agents}; OnRandom: {on_random}\"\n",
    "plot_boxplot_data(td_boxplot, title=tlt, y_lab=\"Efficiency\", x_lab=\"Week\", x_ticks=np.arange(0, num_weeks+1, 40))"
   ]
  },
  {
   "cell_type": "code",
   "execution_count": null,
   "id": "0e0dfb62-c72f-4220-8004-cde473318d52",
   "metadata": {},
   "outputs": [],
   "source": [
    "ZIDPA = dm_agents.ZIDPA\n",
    "ZID = dm_agents.ZIDPR\n",
    "num_trials = 10; num_periods = 7; num_weeks = 100; event_begin = 48; event_end = 52; num_rounds = 5; grid_size = 15; num_traders = 20; num_units = 8; lower_bound = 200; upper_bound = 600\n",
    "trader_objects =[(ZIDPA, 20),(ZID, 0)]\n",
    "common_controls = [num_trials, num_periods, num_weeks,\n",
    "                    event_begin, event_end,\n",
    "                    num_rounds, grid_size,\n",
    "                    num_traders, num_units,\n",
    "                    lower_bound, upper_bound,\n",
    "                    trader_objects]\n",
    "\n",
    "movement_error_rate = 0.05\n",
    "compliance_rate = 1\n",
    "\n",
    "reset_freq=None\n",
    "min_agents=None\n",
    "on_random=False\n",
    "\n",
    "test1 = make_event_monte_carlo(\"test1\", *common_controls, movement_error_rate, compliance_rate, return_df=True, reset_flag_frequency=reset_freq, reset_flag_min_agents=min_agents,\n",
    "             reset_flag_on_random=on_random)\n",
    "\n",
    "td_boxplot = format_df_for_boxplot(test1, 'week', 'eff')\n",
    "\n",
    "#plt.axvspan(event_begin, event_end, color=\"grey\", alpha=0.3)\n",
    "tlt = f\"Move Error Rate: {movement_error_rate}; Compliance Rate: {compliance_rate}\\nResetFreq: {reset_freq}; MinAgents: {min_agents}; OnRandom: {on_random}\"\n",
    "plot_boxplot_data(td_boxplot, title=tlt, y_lab=\"Efficiency\", x_lab=\"Week\", x_ticks=np.arange(0, num_weeks+1, 10))"
   ]
  },
  {
   "cell_type": "code",
   "execution_count": null,
   "id": "1272f456-2e22-4ea9-ae53-d8b3581918c3",
   "metadata": {},
   "outputs": [],
   "source": [
    "ZIDPA = dm_agents.ZIDPA\n",
    "ZID = dm_agents.ZIDPR\n",
    "num_trials = 10; num_periods = 7; num_weeks = 100; event_begin = 48; event_end = 52; num_rounds = 5; grid_size = 15; num_traders = 20; num_units = 8; lower_bound = 200; upper_bound = 600\n",
    "trader_objects =[(ZIDPA, 20),(ZID, 0)]\n",
    "common_controls = [num_trials, num_periods, num_weeks,\n",
    "                    event_begin, event_end,\n",
    "                    num_rounds, grid_size,\n",
    "                    num_traders, num_units,\n",
    "                    lower_bound, upper_bound,\n",
    "                    trader_objects]\n",
    "\n",
    "movement_error_rate = 0.005\n",
    "compliance_rate = 1\n",
    "\n",
    "reset_freq=None\n",
    "min_agents=None\n",
    "on_random=False\n",
    "\n",
    "test1 = make_event_monte_carlo(\"test1\", *common_controls, movement_error_rate, compliance_rate, return_df=True, reset_flag_frequency=reset_freq, reset_flag_min_agents=min_agents,\n",
    "             reset_flag_on_random=on_random)\n",
    "\n",
    "td_boxplot = format_df_for_boxplot(test1, 'week', 'eff')\n",
    "\n",
    "#plt.axvspan(event_begin, event_end, color=\"grey\", alpha=0.3)\n",
    "tlt = f\"Move Error Rate: {movement_error_rate}; Compliance Rate: {compliance_rate}\\nResetFreq: {reset_freq}; MinAgents: {min_agents}; OnRandom: {on_random}\"\n",
    "plot_boxplot_data(td_boxplot, title=tlt, y_lab=\"Efficiency\", x_lab=\"Week\", x_ticks=np.arange(0, num_weeks+1, 10))"
   ]
  },
  {
   "cell_type": "code",
   "execution_count": null,
   "id": "8ec6ae02-5e81-42a4-859e-31e1be9f7110",
   "metadata": {},
   "outputs": [],
   "source": [
    "ZIDPA = dm_agents.ZIDPA\n",
    "ZID = dm_agents.ZIDPR\n",
    "num_trials = 10; num_periods = 7; num_weeks = 100; event_begin = 48; event_end = 52; num_rounds = 5; grid_size = 15; num_traders = 20; num_units = 8; lower_bound = 200; upper_bound = 600\n",
    "trader_objects =[(ZIDPA, 20),(ZID, 0)]\n",
    "common_controls = [num_trials, num_periods, num_weeks,\n",
    "                    event_begin, event_end,\n",
    "                    num_rounds, grid_size,\n",
    "                    num_traders, num_units,\n",
    "                    lower_bound, upper_bound,\n",
    "                    trader_objects]\n",
    "\n",
    "movement_error_rate = 0.0005\n",
    "compliance_rate = 1\n",
    "\n",
    "reset_freq=None\n",
    "min_agents=None\n",
    "on_random=False\n",
    "\n",
    "test1 = make_event_monte_carlo(\"test1\", *common_controls, movement_error_rate, compliance_rate, return_df=True, reset_flag_frequency=reset_freq, reset_flag_min_agents=min_agents,\n",
    "             reset_flag_on_random=on_random)\n",
    "\n",
    "td_boxplot = format_df_for_boxplot(test1, 'week', 'eff')\n",
    "\n",
    "#plt.axvspan(event_begin, event_end, color=\"grey\", alpha=0.3)\n",
    "tlt = f\"Move Error Rate: {movement_error_rate}; Compliance Rate: {compliance_rate}\\nResetFreq: {reset_freq}; MinAgents: {min_agents}; OnRandom: {on_random}\"\n",
    "plot_boxplot_data(td_boxplot, title=tlt, y_lab=\"Efficiency\", x_lab=\"Week\", x_ticks=np.arange(0, num_weeks+1, 10))"
   ]
  },
  {
   "cell_type": "code",
   "execution_count": null,
   "id": "ae1f565d-684d-4789-a86a-e72845bbad80",
   "metadata": {},
   "outputs": [],
   "source": [
    "ZIDPA = dm_agents.ZIDPA\n",
    "ZID = dm_agents.ZIDPR\n",
    "num_trials = 10; num_periods = 7; num_weeks = 100; event_begin = 48; event_end = 52; num_rounds = 5; grid_size = 15; num_traders = 20; num_units = 8; lower_bound = 200; upper_bound = 600\n",
    "trader_objects =[(ZIDPA, 20),(ZID, 0)]\n",
    "common_controls = [num_trials, num_periods, num_weeks,\n",
    "                    event_begin, event_end,\n",
    "                    num_rounds, grid_size,\n",
    "                    num_traders, num_units,\n",
    "                    lower_bound, upper_bound,\n",
    "                    trader_objects]\n",
    "\n",
    "movement_error_rate = 0.05\n",
    "compliance_rate = 1\n",
    "\n",
    "reset_freq=None\n",
    "min_agents=None\n",
    "on_random=True\n",
    "\n",
    "test1 = make_event_monte_carlo(\"test1\", *common_controls, movement_error_rate, compliance_rate, return_df=True, reset_flag_frequency=reset_freq, reset_flag_min_agents=min_agents,\n",
    "             reset_flag_on_random=on_random)\n",
    "\n",
    "td_boxplot = format_df_for_boxplot(test1, 'week', 'eff')\n",
    "\n",
    "#plt.axvspan(event_begin, event_end, color=\"grey\", alpha=0.3)\n",
    "tlt = f\"Move Error Rate: {movement_error_rate}; Compliance Rate: {compliance_rate}\\nResetFreq: {reset_freq}; MinAgents: {min_agents}; OnRandom: {on_random}\"\n",
    "plot_boxplot_data(td_boxplot, title=tlt, y_lab=\"Efficiency\", x_lab=\"Week\", x_ticks=np.arange(0, num_weeks+1, 10))"
   ]
  },
  {
   "cell_type": "code",
   "execution_count": null,
   "id": "10b2848d-c874-4ad0-9cbc-5aacc499e9da",
   "metadata": {},
   "outputs": [],
   "source": [
    "ZIDPA = dm_agents.ZIDPA\n",
    "ZID = dm_agents.ZIDPR\n",
    "num_trials = 10; num_periods = 7; num_weeks = 100; event_begin = 48; event_end = 52; num_rounds = 5; grid_size = 15; num_traders = 20; num_units = 8; lower_bound = 200; upper_bound = 600\n",
    "trader_objects =[(ZIDPA, 20),(ZID, 0)]\n",
    "common_controls = [num_trials, num_periods, num_weeks,\n",
    "                    event_begin, event_end,\n",
    "                    num_rounds, grid_size,\n",
    "                    num_traders, num_units,\n",
    "                    lower_bound, upper_bound,\n",
    "                    trader_objects]\n",
    "\n",
    "movement_error_rate = 0.005\n",
    "compliance_rate = 1\n",
    "\n",
    "reset_freq=None\n",
    "min_agents=None\n",
    "on_random=True\n",
    "\n",
    "test1 = make_event_monte_carlo(\"test1\", *common_controls, movement_error_rate, compliance_rate, return_df=True, reset_flag_frequency=reset_freq, reset_flag_min_agents=min_agents,\n",
    "             reset_flag_on_random=on_random)\n",
    "\n",
    "td_boxplot = format_df_for_boxplot(test1, 'week', 'eff')\n",
    "\n",
    "#plt.axvspan(event_begin, event_end, color=\"grey\", alpha=0.3)\n",
    "tlt = f\"Move Error Rate: {movement_error_rate}; Compliance Rate: {compliance_rate}\\nResetFreq: {reset_freq}; MinAgents: {min_agents}; OnRandom: {on_random}\"\n",
    "plot_boxplot_data(td_boxplot, title=tlt, y_lab=\"Efficiency\", x_lab=\"Week\", x_ticks=np.arange(0, num_weeks+1, 10))"
   ]
  },
  {
   "cell_type": "code",
   "execution_count": null,
   "id": "e1301df3-6921-44c2-8b84-015549d6563a",
   "metadata": {},
   "outputs": [],
   "source": [
    "ZIDPA = dm_agents.ZIDPA\n",
    "ZID = dm_agents.ZIDPR\n",
    "num_trials = 10; num_periods = 7; num_weeks = 100; event_begin = 48; event_end = 52; num_rounds = 5; grid_size = 15; num_traders = 20; num_units = 8; lower_bound = 200; upper_bound = 600\n",
    "trader_objects =[(ZIDPA, 20),(ZID, 0)]\n",
    "common_controls = [num_trials, num_periods, num_weeks,\n",
    "                    event_begin, event_end,\n",
    "                    num_rounds, grid_size,\n",
    "                    num_traders, num_units,\n",
    "                    lower_bound, upper_bound,\n",
    "                    trader_objects]\n",
    "\n",
    "movement_error_rate = 0.0005\n",
    "compliance_rate = 1\n",
    "\n",
    "reset_freq=None\n",
    "min_agents=None\n",
    "on_random=True\n",
    "\n",
    "test1 = make_event_monte_carlo(\"test1\", *common_controls, movement_error_rate, compliance_rate, return_df=True, reset_flag_frequency=reset_freq, reset_flag_min_agents=min_agents,\n",
    "             reset_flag_on_random=on_random)\n",
    "\n",
    "td_boxplot = format_df_for_boxplot(test1, 'week', 'eff')\n",
    "\n",
    "#plt.axvspan(event_begin, event_end, color=\"grey\", alpha=0.3)\n",
    "tlt = f\"Move Error Rate: {movement_error_rate}; Compliance Rate: {compliance_rate}\\nResetFreq: {reset_freq}; MinAgents: {min_agents}; OnRandom: {on_random}\"\n",
    "plot_boxplot_data(td_boxplot, title=tlt, y_lab=\"Efficiency\", x_lab=\"Week\", x_ticks=np.arange(0, num_weeks+1, 10))"
   ]
  },
  {
   "cell_type": "code",
   "execution_count": null,
   "id": "c6d9456c-3c03-460e-8cd4-dd16e9f2848c",
   "metadata": {},
   "outputs": [],
   "source": []
  },
  {
   "cell_type": "code",
   "execution_count": null,
   "id": "e574e8b3-d7e6-4cbf-b366-eda19416bc7a",
   "metadata": {},
   "outputs": [],
   "source": []
  },
  {
   "cell_type": "code",
   "execution_count": null,
   "id": "ee98cf1c-0dd2-4260-9dc5-745d88012b22",
   "metadata": {},
   "outputs": [],
   "source": [
    "raise ValueError(\"END\")"
   ]
  },
  {
   "cell_type": "code",
   "execution_count": null,
   "id": "e0eead6e-fd88-4d9e-a14e-4415379c4276",
   "metadata": {},
   "outputs": [],
   "source": [
    "ZIDPA = dm_agents.ZIDPA\n",
    "ZID = dm_agents.ZIDPR\n",
    "num_trials = 1; num_periods = 7; num_weeks = 100; event_begin = 48; event_end = 52; num_rounds = 10; grid_size = 15; num_traders = 20; num_units = 8; \n",
    "lower_bound = 200; upper_bound = 600\n",
    "trader_objects =[(ZIDPA, 20),(ZID, 0)]\n",
    "common_controls = [num_trials, num_periods, num_weeks,\n",
    "                    event_begin, event_end,\n",
    "                    num_rounds, grid_size,\n",
    "                    num_traders, num_units,\n",
    "                    lower_bound, upper_bound,\n",
    "                    trader_objects]\n",
    "\n",
    "movement_error_rate = 0; compliance_rate = 1\n",
    "treatment_vars = [movement_error_rate, compliance_rate]\n",
    "\n",
    "test_rd = make_event_monte_carlo(\"test1\", *common_controls, *treatment_vars, return_df=True)\n",
    "\n",
    "plt.plot(test_rd['eff'])"
   ]
  },
  {
   "cell_type": "code",
   "execution_count": null,
   "id": "8da5e150-68f2-4047-a8a7-d1aa86d389d8",
   "metadata": {},
   "outputs": [],
   "source": [
    "ZIDPA = dm_agents.ZIDPA\n",
    "ZID = dm_agents.ZIDPR\n",
    "num_trials = 1; num_periods = 20; num_weeks = 500; event_begin = 48; event_end = 52; num_rounds = 10; grid_size = 15; num_traders = 20; num_units = 8; lower_bound = 200; upper_bound = 600\n",
    "trader_objects =[(ZIDPA, 20),(ZID, 0)]\n",
    "common_controls = [num_trials, num_periods, num_weeks,\n",
    "                    event_begin, event_end,\n",
    "                    num_rounds, grid_size,\n",
    "                    num_traders, num_units,\n",
    "                    lower_bound, upper_bound,\n",
    "                    trader_objects]\n",
    "\n",
    "movement_error_rate = 0; compliance_rate = 1\n",
    "treatment_vars = [movement_error_rate, compliance_rate]\n",
    "\n",
    "test_pd = make_event_monte_carlo(\"test_lg\", *common_controls, *treatment_vars, return_df=True)\n",
    "\n",
    "plt.plot(test_pd['eff'])"
   ]
  },
  {
   "cell_type": "code",
   "execution_count": null,
   "id": "b807dd26-aae5-4280-b687-0375b0f90ce3",
   "metadata": {},
   "outputs": [],
   "source": [
    "ZIDPA = dm_agents.ZIDPA\n",
    "ZID = dm_agents.ZIDPR\n",
    "num_trials = 1; num_periods = 20; num_weeks = 500; event_begin = 48; event_end = 52; num_rounds = 10; grid_size = 15; num_traders = 20; num_units = 8; lower_bound = 200; upper_bound = 600\n",
    "trader_objects =[(ZIDPA, 20),(ZID, 0)]\n",
    "common_controls = [num_trials, num_periods, num_weeks,\n",
    "                    event_begin, event_end,\n",
    "                    num_rounds, grid_size,\n",
    "                    num_traders, num_units,\n",
    "                    lower_bound, upper_bound,\n",
    "                    trader_objects]\n",
    "\n",
    "movement_error_rate = 0; compliance_rate = 1\n",
    "treatment_vars = [movement_error_rate, compliance_rate]\n",
    "\n",
    "test_lg = make_event_monte_carlo(\"test_lg\", *common_controls, *treatment_vars, return_df=True)\n",
    "\n",
    "plt.plot(test_lg['eff'])"
   ]
  },
  {
   "cell_type": "code",
   "execution_count": null,
   "id": "d2692649-1302-4bba-aa25-9d6f0906628d",
   "metadata": {},
   "outputs": [],
   "source": [
    "ZIDPA = dm_agents.ZIDPA\n",
    "ZID = dm_agents.ZIDPR\n",
    "num_trials = 1; num_periods = 20; num_weeks = 500; event_begin = 90000; event_end = 9000000; num_rounds = 20; grid_size = 15; num_traders = 20; num_units = 8; lower_bound = 200; upper_bound = 600\n",
    "trader_objects =[(ZIDPA, 20),(ZID, 0)]\n",
    "common_controls = [num_trials, num_periods, num_weeks,\n",
    "                    event_begin, event_end,\n",
    "                    num_rounds, grid_size,\n",
    "                    num_traders, num_units,\n",
    "                    lower_bound, upper_bound,\n",
    "                    trader_objects]\n",
    "\n",
    "movement_error_rate = 0; compliance_rate = 1\n",
    "treatment_vars = [movement_error_rate, compliance_rate]\n",
    "\n",
    "test_sp = make_event_monte_carlo(\"test_sp\", *common_controls, *treatment_vars, return_df=True)\n",
    "\n",
    "plt.plot(test_sp['eff'])"
   ]
  },
  {
   "cell_type": "code",
   "execution_count": null,
   "id": "d5411c33-9373-4fa3-8af8-cfc98678b54a",
   "metadata": {},
   "outputs": [],
   "source": [
    "ZIDPA = dm_agents.ZIDPA\n",
    "ZID = dm_agents.ZIDPR\n",
    "num_trials = 1; num_periods = 20; num_weeks = 500; event_begin = 90000; event_end = 9000000; num_rounds = 20; grid_size = 15; num_traders = 20; num_units = 8; lower_bound = 200; upper_bound = 600\n",
    "trader_objects =[(ZIDPA, 20),(ZID, 0)]\n",
    "common_controls = [num_trials, num_periods, num_weeks,\n",
    "                    event_begin, event_end,\n",
    "                    num_rounds, grid_size,\n",
    "                    num_traders, num_units,\n",
    "                    lower_bound, upper_bound,\n",
    "                    trader_objects]\n",
    "\n",
    "movement_error_rate = 0; compliance_rate = 1\n",
    "treatment_vars = [movement_error_rate, compliance_rate]\n",
    "\n",
    "test_sp_rd = make_event_monte_carlo(\"test_sp_rd\", *common_controls, *treatment_vars, return_df=True)\n",
    "\n",
    "plt.plot(test_sp_rd['eff'])"
   ]
  },
  {
   "cell_type": "code",
   "execution_count": null,
   "id": "4b04e96c-0dc5-4843-86d8-1c20a46a83f8",
   "metadata": {},
   "outputs": [],
   "source": [
    "ZIDPA = dm_agents.ZIDPA\n",
    "ZID = dm_agents.ZIDPR\n",
    "num_trials = 1; num_periods = 20; num_weeks = 500; event_begin = 48; event_end = 52; num_rounds = 10; grid_size = 15; num_traders = 20; num_units = 8; lower_bound = 200; upper_bound = 600\n",
    "trader_objects =[(ZIDPA, 20),(ZID, 0)]\n",
    "common_controls = [num_trials, num_periods, num_weeks,\n",
    "                    event_begin, event_end,\n",
    "                    num_rounds, grid_size,\n",
    "                    num_traders, num_units,\n",
    "                    lower_bound, upper_bound,\n",
    "                    trader_objects]\n",
    "\n",
    "movement_error_rate = 0; compliance_rate = 1\n",
    "treatment_vars = [movement_error_rate, compliance_rate]\n",
    "\n",
    "test_pd = make_event_monte_carlo(\"test_lg\", *common_controls, *treatment_vars, return_df=True)\n",
    "\n",
    "plt.plot(test_pd['eff'])"
   ]
  },
  {
   "cell_type": "code",
   "execution_count": null,
   "id": "4a808432-8736-4a7a-b66f-462cc45fd21e",
   "metadata": {},
   "outputs": [],
   "source": [
    "test1, test1_p = make_event_monte_carlo(\"test1\", *common_controls, movement_error_rate = 0.0, compliance_rate = 1, return_df=True, return_period_df=True)\n",
    "plotted_t1 = collate_loc_plots(test1_p)"
   ]
  },
  {
   "cell_type": "code",
   "execution_count": null,
   "id": "26070c5f-8d35-4d86-8f0d-9bb39a47ceda",
   "metadata": {},
   "outputs": [],
   "source": [
    "mname = \"Event_Sim_Test_1_E0_C1_v2_upd\"\n",
    "mname2 = mname+\".mp4\"\n",
    "movie_plotted(plotted_t1, movie_name=mname2, graph_folder=mname, title_val=\"Event Simulation - Error Rate=0, Compliance Rate=1\", hue_val=\"Agents\", size_val=\"Agents\", scale=\"relative\", hue_max=None, \n",
    "                  size_max=None, week_max=None, period_max=None, include_init=True, fps=1, subtitle=True)"
   ]
  },
  {
   "cell_type": "code",
   "execution_count": null,
   "id": "19569e8b-f3ca-4785-925a-aab462a44660",
   "metadata": {},
   "outputs": [],
   "source": [
    "ZIDPA = dm_agents.ZIDPA\n",
    "ZID = dm_agents.ZIDPR\n",
    "num_trials = 1; num_periods = 7; num_weeks = 100; event_begin = 48; event_end = 52; num_rounds = 5; grid_size = 15; num_traders = 20; num_units = 8; lower_bound = 200; upper_bound = 600\n",
    "trader_objects =[(ZIDPA, 20),(ZID, 0)]\n",
    "common_controls = [num_trials, num_periods, num_weeks,\n",
    "                    event_begin, event_end,\n",
    "                    num_rounds, grid_size,\n",
    "                    num_traders, num_units,\n",
    "                    lower_bound, upper_bound,\n",
    "                    trader_objects]\n",
    "\n",
    "test2, test2_p = make_event_monte_carlo(\"test2\", *common_controls, movement_error_rate = 0.05, compliance_rate = 1, return_df=True, return_period_df=True)"
   ]
  },
  {
   "cell_type": "code",
   "execution_count": null,
   "id": "b38810ea-097f-4c98-99f9-26e774d80ec0",
   "metadata": {},
   "outputs": [],
   "source": [
    "plt.plot(test2['eff'])"
   ]
  },
  {
   "cell_type": "code",
   "execution_count": null,
   "id": "7948dc59-7e0b-4b0b-8b36-528b32c996bb",
   "metadata": {},
   "outputs": [],
   "source": [
    "plotted_t2 = collate_loc_plots(test2_p)\n",
    "movie_plotted(plotted_t2, movie_name=\"Event_Sim_Test_1_E005_C1_upd.mp4\", graph_folder=\"Event_Sim_E005_C1_upd\", title_val=\"Event Simulation - Error Rate=0.05, Compliance Rate=1\", hue_val=\"Agents\", size_val=\"Agents\", scale=\"relative\", hue_max=None, \n",
    "                  size_max=None, week_max=None, period_max=None, include_init=True, fps=1, subtitle=True)"
   ]
  },
  {
   "cell_type": "code",
   "execution_count": null,
   "id": "7fd8670a-dee1-4ff2-b8db-f984c1137f5f",
   "metadata": {},
   "outputs": [],
   "source": [
    "test3, test3_p = make_event_monte_carlo(\"test3\", *common_controls, movement_error_rate = 0.005, compliance_rate = 1, return_df=True, return_period_df=True)\n",
    "plt.plot(test3['eff'])"
   ]
  },
  {
   "cell_type": "code",
   "execution_count": null,
   "id": "0c839724-1470-46fe-99bb-5c51b40b417a",
   "metadata": {},
   "outputs": [],
   "source": [
    "plotted_t3 = collate_loc_plots(test3_p)\n",
    "movie_plotted(plotted_t3, movie_name=\"Event_Sim_Test_1_E0005_C1_upd.mp4\", graph_folder=\"Event_Sim_E0005_C1_upd\", title_val=\"Event Simulation - Error Rate=0.005, Compliance Rate=1\", hue_val=\"Agents\", size_val=\"Agents\", scale=\"relative\", hue_max=None, \n",
    "                  size_max=None, week_max=None, period_max=None, include_init=True, fps=1, subtitle=True)"
   ]
  },
  {
   "cell_type": "code",
   "execution_count": null,
   "id": "571fdabb-4563-42ff-8f3e-dbcfbed59fe6",
   "metadata": {},
   "outputs": [],
   "source": []
  },
  {
   "cell_type": "code",
   "execution_count": null,
   "id": "1bbab199-0b1a-426b-8ad9-96073aefe254",
   "metadata": {},
   "outputs": [],
   "source": [
    "test4, test4_p = make_event_monte_carlo(\"test4\", *common_controls, movement_error_rate = 0.0005, compliance_rate = 1, return_df=True, return_period_df=True)\n",
    "plt.plot(test4['eff'])\n"
   ]
  },
  {
   "cell_type": "code",
   "execution_count": null,
   "id": "65bbf026-d6e7-4d72-bcbd-d0f4a0144d75",
   "metadata": {},
   "outputs": [],
   "source": [
    "plotted_t4 = collate_loc_plots(test4_p)\n",
    "movie_plotted(plotted_t4, movie_name=\"Event_Sim_Test_U_E00005_C1_upd.mp4\", graph_folder=\"Event_Sim_E00005_C1_upd\", title_val=\"Event Simulation - Error Rate=0.0005, Compliance Rate=1\", hue_val=\"Agents\", size_val=\"Agents\", scale=\"relative\", hue_max=None, \n",
    "                  size_max=None, week_max=None, period_max=None, include_init=True, fps=1, subtitle=True)"
   ]
  },
  {
   "cell_type": "code",
   "execution_count": null,
   "id": "42a149ba-53ce-4f87-88b0-7a52042e389d",
   "metadata": {},
   "outputs": [],
   "source": [
    "test5, test5_p = make_event_monte_carlo(\"test5\", *common_controls, movement_error_rate = 0.00005, compliance_rate = 1, return_df=True, return_period_df=True)\n",
    "plt.plot(test5['eff'])"
   ]
  },
  {
   "cell_type": "code",
   "execution_count": null,
   "id": "340dbaa4-8b26-4527-902c-4d591fdd6afe",
   "metadata": {},
   "outputs": [],
   "source": [
    "plotted_t5 = collate_loc_plots(test5_p)\n",
    "movie_plotted(plotted_t5, movie_name=\"Event_Sim_Test_U_E000005_C1_r_upd.mp4\", graph_folder=\"Event_Sim_E000005_C1_r_upd\", title_val=\"Event Simulation - Error Rate=0.0005, Compliance Rate=1\", hue_val=\"Agents\", size_val=\"Agents\", scale=\"relative\", hue_max=None, \n",
    "                  size_max=None, week_max=None, period_max=None, include_init=True, fps=1, subtitle=True)"
   ]
  },
  {
   "cell_type": "code",
   "execution_count": null,
   "id": "1b983991-2549-4b51-81c7-3cf20c742b64",
   "metadata": {},
   "outputs": [],
   "source": [
    "common_controls = [num_trials, num_periods, 500,\n",
    "                    event_begin, event_end,\n",
    "                    num_rounds, grid_size,\n",
    "                    20, num_units,\n",
    "                    lower_bound, upper_bound,\n",
    "                    [(ZIDPA, 20),(ZID, 0)]]\n",
    "test7, test7_p = make_event_monte_carlo(\"test5\", *common_controls, movement_error_rate = 0.000005, compliance_rate = 1, return_df=True, return_period_df=True)\n",
    "plt.plot(test7['eff'])"
   ]
  },
  {
   "cell_type": "code",
   "execution_count": null,
   "id": "e52fd072-9575-460b-aac4-d3059f4e80a9",
   "metadata": {},
   "outputs": [],
   "source": [
    "test6, test6_p = make_event_monte_carlo(\"test5\", *common_controls, movement_error_rate = 0.000005, compliance_rate = 1, return_df=True, return_period_df=True)\n",
    "plt.plot(test6['eff'])"
   ]
  },
  {
   "cell_type": "code",
   "execution_count": null,
   "id": "8241884e-6a73-4aee-881d-6de5a1b98c5d",
   "metadata": {},
   "outputs": [],
   "source": [
    "common_controls = [num_trials, num_periods, 500,\n",
    "                    event_begin, event_end,\n",
    "                    num_rounds, grid_size,\n",
    "                    6, num_units,\n",
    "                    lower_bound, upper_bound,\n",
    "                    [(ZIDPA, 6),(ZID, 0)]]\n",
    "test7, test7_p = make_event_monte_carlo(\"test5\", *common_controls, movement_error_rate = 0.000005, compliance_rate = 1, return_df=True, return_period_df=True)\n",
    "plt.plot(test7['eff'])"
   ]
  },
  {
   "cell_type": "code",
   "execution_count": null,
   "id": "201cf634-2342-49fa-811e-9a5dc8628e40",
   "metadata": {},
   "outputs": [],
   "source": [
    "common_controls = [num_trials, num_periods, 500,\n",
    "                    event_begin, event_end,\n",
    "                    num_rounds, grid_size,\n",
    "                    num_traders, num_units,\n",
    "                    lower_bound, upper_bound,\n",
    "                    trader_objects]\n",
    "test8, test8_p = make_event_monte_carlo(\"test5\", *common_controls, movement_error_rate = 0.0005, compliance_rate = 1, return_df=True, return_period_df=True)\n",
    "plt.plot(test8['eff'])"
   ]
  },
  {
   "cell_type": "code",
   "execution_count": null,
   "id": "2b2f70f3-cc9c-4f31-941b-54e2d472b1f7",
   "metadata": {},
   "outputs": [],
   "source": [
    "common_controls = [num_trials, num_periods, 100, # num_weeks\n",
    "                    event_begin, event_end, \n",
    "                    num_rounds, grid_size,\n",
    "                    6, num_units,\n",
    "                    lower_bound, upper_bound,\n",
    "                    [(ZIDPA, 6)]]\n",
    "test9, test9_p = make_event_monte_carlo(\"test5\", *common_controls, movement_error_rate = 0.0005, compliance_rate = 1, return_df=True, return_period_df=True)\n",
    "plt.plot(test9['eff'])"
   ]
  },
  {
   "cell_type": "code",
   "execution_count": null,
   "id": "a536642f-fe19-48a2-ae7b-1f7d54027d7f",
   "metadata": {},
   "outputs": [],
   "source": [
    "common_controls = [num_trials, num_periods, 100, # num_weeks\n",
    "                    event_begin, event_end, \n",
    "                    num_rounds, grid_size,\n",
    "                    20, num_units,\n",
    "                    lower_bound, upper_bound,\n",
    "                    [(ZIDPA, 20)]]\n",
    "test9, test9_p = make_event_monte_carlo(\"test5\", *common_controls, movement_error_rate = 0.0005, compliance_rate = 1, return_df=True, return_period_df=True)\n",
    "plt.plot(test9['eff'])"
   ]
  },
  {
   "cell_type": "code",
   "execution_count": null,
   "id": "ea95f80f-16a0-4ca3-a121-1423d0bce12b",
   "metadata": {},
   "outputs": [],
   "source": [
    "common_controls = [num_trials, num_periods, 100, # num_weeks\n",
    "                    event_begin, event_end, \n",
    "                    num_rounds, grid_size,\n",
    "                    50, num_units,\n",
    "                    lower_bound, upper_bound,\n",
    "                    [(ZIDPA, 50)]]\n",
    "test9, test9_p = make_event_monte_carlo(\"test5\", *common_controls, movement_error_rate = 0.0005, compliance_rate = 1, return_df=True, return_period_df=True)\n",
    "plt.plot(test9['eff'])"
   ]
  },
  {
   "cell_type": "code",
   "execution_count": null,
   "id": "97d4f5ab-7af3-4aa5-9338-1da664a2df30",
   "metadata": {},
   "outputs": [],
   "source": [
    "common_controls = [num_trials, num_periods, 500, # num_weeks\n",
    "                    event_begin, event_end, \n",
    "                    num_rounds, grid_size,\n",
    "                    50, num_units,\n",
    "                    lower_bound, upper_bound,\n",
    "                    [(ZIDPA, 50)]]\n",
    "test9, test9_p = make_event_monte_carlo(\"test5\", *common_controls, movement_error_rate = 0.0005, compliance_rate = 1, return_df=True, return_period_df=True)\n",
    "plt.plot(test9['eff'])"
   ]
  },
  {
   "cell_type": "code",
   "execution_count": null,
   "id": "bc6a1608-5231-45f8-9391-45f345770a7d",
   "metadata": {},
   "outputs": [],
   "source": [
    "def make_make_event_monte_carlo(dict_inputs, return_df=False, return_period_df=False, graph_eff=False):\n",
    "    \"\"\"Maker for maker of monte carlo. Returns outputs as df, but can specify detail level (1, 2, 3). Can graph efficiencies in a 2D grid - only available for two-at-a-time or 1-at-a-time treatments.\"\"\"\n",
    "\n",
    "    # System vars\n",
    "    n_trials = dict_inputs['num_trials'] # Cannot be a treatment var\n",
    "\n",
    "    # Control vars\n",
    "    n_periods = dict_inputs['num_periods']\n",
    "    n_weeks = dict_inputs['num_weeks']\n",
    "    e_beg = dict_inputs['event_begin']\n",
    "    e_end = dict_inputs['event_end']\n",
    "    n_rnds = dict_inputs['num_rounds']\n",
    "    g_sz = dict_inputs['grid_size']\n",
    "    n_trdrs = dict_inputs['num_traders']\n",
    "    n_units = dict_inputs['num_units']\n",
    "    l_bd = dict_inputs['lower_bound']\n",
    "    u_bd = dict_inputs['upper_bound']\n",
    "    trd_types = [(ZIDPA, n_trdrs)] # Hardcoded yes\n",
    "\n",
    "    # Main tratment vars\n",
    "    move_err = dict_inputs['movement_error_rate']\n",
    "    comp_rt = dict_inputs['compliance_rate']    \n",
    "    "
   ]
  },
  {
   "cell_type": "code",
   "execution_count": null,
   "id": "d01b77a7-682d-41e2-aa33-00f4aef612c1",
   "metadata": {},
   "outputs": [],
   "source": []
  },
  {
   "cell_type": "code",
   "execution_count": null,
   "id": "32d71f20-6b58-4c7c-91aa-8808a8aa73c3",
   "metadata": {},
   "outputs": [],
   "source": []
  }
 ],
 "metadata": {
  "kernelspec": {
   "display_name": "Python 3 (ipykernel)",
   "language": "python",
   "name": "python3"
  },
  "language_info": {
   "codemirror_mode": {
    "name": "ipython",
    "version": 3
   },
   "file_extension": ".py",
   "mimetype": "text/x-python",
   "name": "python",
   "nbconvert_exporter": "python",
   "pygments_lexer": "ipython3",
   "version": "3.11.7"
  },
  "toc": {
   "base_numbering": 1,
   "nav_menu": {},
   "number_sections": true,
   "sideBar": true,
   "skip_h1_title": false,
   "title_cell": "Table of Contents",
   "title_sidebar": "Contents",
   "toc_cell": false,
   "toc_position": {},
   "toc_section_display": true,
   "toc_window_display": false
  }
 },
 "nbformat": 4,
 "nbformat_minor": 5
}
