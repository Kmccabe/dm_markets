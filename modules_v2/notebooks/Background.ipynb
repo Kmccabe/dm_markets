{
 "cells": [
  {
   "cell_type": "markdown",
   "id": "716a7d9d",
   "metadata": {},
   "source": [
    "I. Introduction  \n",
    "\tSince at latest the development of cities as centers of industry and exchange in the neolithic period, humans have been gathering at centralized locations to conduct commerce and improve their welfare. As the city is not a unique aspect of any one civilization or geography, it is natural to conclude that this system for facilitating welfare is in some natural way superior to systems without centralized exchange points. Similarly, even within cities, the development of downtowns or commercial centers mirrors the same phenomenon on a smaller scale. While there is a great diversity among the different forms of these particular systems, the overall pattern remains the same - people gather in some centralized place, and they tend to stay there once such a central node has been established.  \n",
    "\tIn this paper, we investigate a set of minimally computationally intensive agent strategies which lead to a development of centralized marketplaces from randomly distributed agent allocations on a spatial grid. We further investigate the centralization and welfare impacts of agents following these strategies and find that agents aggregate onto relatively few points with a simple strategy of choosing not to move if they can continue to trade at their location.  \n",
    "\tMoreover, we find that introducing agents which have preferences to be socially distant leads to lower welfare outcomes for all agents and in aggregate. We find also that even if such preferences are temporary, the aggregated points which emerge during the period of social distance lead to permanent desegregation and welfare decreases with such simple agent strategies, as a result of market location path-dependence.  \n",
    "\tOur first result, the emergence of centralized market locations from simple agent strategies and random allocations, mirrors intuitions about the emergence of centralized markets in modern and historical economies. Centralized exchange, in the form of cities, has existed since at least the Neolithic Age (Lampard, 2023). However, while real-world exchange generally follows some pattern of development involving trust and eventually contractual relationships, as for instance in Fafchamps, 1998, which documents such an emergence in African manufacturing, our setting strips away all elements of trust and contracting. Instead the behavior of our agents is a result of simple rules meant to facilitate trade, but it similarly results in path-dependent market formation.  \n",
    "\tOur result similarly contributes, but is apart from, the set of results and models about city formation from Scott Page in 1998. Specifically, in his paper Page creates models in which agents have preferences relating to the distribution of population of other agents, while being blind to the economic incentives to form centralized nodes. In contrast, our model hinges on agents making decisions based on a narrow set of criteria which compel agents to move or not move based only on the presence of economic incentives in their immediate grid point. Therefore, agents are blind to population information and any incentives outside their own grid position.  \n",
    "\tAdditionally, our result pertaining to the effects of temporary preference changes, be they imposed or genuine, contra but to the conversation around the economic and social effects of measures such as the COVID lockdowns. During the height of the lockdown measures and even while the first batches of vaccines were being distributed, many predicted that the economy and the society would “bounce back” in a “V-shaped” recovery, expecting the overall welfare and societal arrangements to return to pre-pandemic levels (Kammer, 2021; FRED Blog, 2021; Aspachs, 2021). There were, however, some models and papers which predicted different “letter-shaped” recoveries, such as one by Sharma et al. from 2021, which were less saccharine in their predictions, predicting that the economy could be trapped in some bad state.  \n",
    "\tSimilarly, some empirical papers have pointed to significant and persistent gaps in employment and output relative to pre-lockdown levels, such as Schotte al. in 2021. Additionally, some studies have pointed to the fact that such measures have had different effects on different types of workers and sectors of industry, and that many of these changes are likely to be long-lasting (Albanesi, 2021; Jaumotte et al., 2023; Milesi-Ferretti, 2021). While our study does not capture the effects of heterogeneous agents and production or exchange processes, it could be extended to discuss these topics.  \n",
    "\tThe rest of this paper is organized as such: section II discusses the methods of investigation, section III discusses the results, and section IV concludes.  \n"
   ]
  },
  {
   "cell_type": "markdown",
   "id": "14b8dc23",
   "metadata": {},
   "source": [
    "In paper at the moment:\n",
    "- "
   ]
  },
  {
   "cell_type": "markdown",
   "id": "72612364",
   "metadata": {},
   "source": [
    "Suggestions from Axtel:\n",
    "- First, there were some papers in the late 1980s and early 1990s by Ross Starr on “Trading Posts”. What they have in common with your set-up is that at time 0 there is not much structure present and over time market institutions emerge. His is purely conceptual/analytical, where yours is more operational, but worth taking a look at that old stuff. \n",
    "\n",
    "- Skyrmes (UC Irvine or UCSD) has a book and some papers on how agents can evolve mutual understandings from initially random signals. His work is notable for its generality, but is really more game theory than economics. "
   ]
  },
  {
   "cell_type": "code",
   "execution_count": null,
   "id": "e4c2ace0",
   "metadata": {},
   "outputs": [],
   "source": []
  }
 ],
 "metadata": {
  "kernelspec": {
   "display_name": "Python 3 (ipykernel)",
   "language": "python",
   "name": "python3"
  },
  "language_info": {
   "codemirror_mode": {
    "name": "ipython",
    "version": 3
   },
   "file_extension": ".py",
   "mimetype": "text/x-python",
   "name": "python",
   "nbconvert_exporter": "python",
   "pygments_lexer": "ipython3",
   "version": "3.9.13"
  }
 },
 "nbformat": 4,
 "nbformat_minor": 5
}
