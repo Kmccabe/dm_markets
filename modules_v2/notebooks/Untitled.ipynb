{
 "cells": [
  {
   "cell_type": "code",
   "execution_count": 6,
   "id": "fbd5a055",
   "metadata": {},
   "outputs": [
    {
     "data": {
      "text/plain": [
       "'B_5_ZIDPR'"
      ]
     },
     "execution_count": 6,
     "metadata": {},
     "output_type": "execute_result"
    }
   ],
   "source": [
    "a1 = 'B_5_ZIDPA'\n",
    "a2 = 'b_11_ZIDPA'\n",
    "s1 = a1.split('_')\n",
    "s1\n",
    "new_a1 = s1[0] + '_' + s1[1] + '_ZIDPR'\n",
    "new_a1\n"
   ]
  },
  {
   "cell_type": "code",
   "execution_count": null,
   "id": "bdbde163",
   "metadata": {},
   "outputs": [],
   "source": []
  }
 ],
 "metadata": {
  "kernelspec": {
   "display_name": "Python 3 (ipykernel)",
   "language": "python",
   "name": "python3"
  },
  "language_info": {
   "codemirror_mode": {
    "name": "ipython",
    "version": 3
   },
   "file_extension": ".py",
   "mimetype": "text/x-python",
   "name": "python",
   "nbconvert_exporter": "python",
   "pygments_lexer": "ipython3",
   "version": "3.7.9"
  },
  "toc": {
   "base_numbering": 1,
   "nav_menu": {},
   "number_sections": true,
   "sideBar": true,
   "skip_h1_title": false,
   "title_cell": "Table of Contents",
   "title_sidebar": "Contents",
   "toc_cell": false,
   "toc_position": {},
   "toc_section_display": true,
   "toc_window_display": false
  }
 },
 "nbformat": 4,
 "nbformat_minor": 5
}
