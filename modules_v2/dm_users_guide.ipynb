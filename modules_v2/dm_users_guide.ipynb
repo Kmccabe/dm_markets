{
 "cells": [
  {
   "cell_type": "markdown",
   "id": "fa4d6b4d",
   "metadata": {},
   "source": [
    "# Introduction\n",
    "\n",
    "The user guide shows you how to use the dm_market library to run decentralized market simulations.  When you look inside the folder you will see the following files:\n",
    "\n",
    "## Folder Structure\n",
    "\n",
    "* dm_agents.py\n",
    "    * class Trader(object)\n",
    "    * class ZID(Trader)\n",
    "* dm_sim_period.py\n",
    "    * class SimPeriod(object)\n",
    "    * `runs one period of the model`\n",
    "* dm_travel.py\n",
    "    * class Travel(object)\n",
    "    * `\n",
    "\n",
    "## Basic Call Structure\n",
    "\n",
    "* `sim_trials`: trial = 1 to num_trials\n",
    "    * `make_agents` -> agent_list\n",
    "    * `sim_weeks`: week: 1 to num_weeks\n",
    "        * `sim_period`: period = 1 to num_periods\n",
    "            * `dm_travel` (agent in agent_list) -> grid\n",
    "            * for occupied_point in grid\n",
    "                * if buyer and seller both at occupied point\n",
    "                    * `dm_bargain` (round: 1 to num_rounds)\n",
    "                        * `offer`: agent in agent_list -> order_book\n",
    "                            * \"OFFER\" message -> \"BID\", \"ASK\", or \"NULL\" message\n",
    "                        * `transact`: agent in shuffled(agent_list) ->contract\n",
    "                             * \"TRANSACT\" message -> \"BUY\", \"SELL\", or \"NULL\" message\n",
    "                        \n",
    "    "
   ]
  },
  {
   "cell_type": "code",
   "execution_count": null,
   "id": "6160ef7c",
   "metadata": {},
   "outputs": [],
   "source": []
  }
 ],
 "metadata": {
  "kernelspec": {
   "display_name": "Python 3 (ipykernel)",
   "language": "python",
   "name": "python3"
  },
  "language_info": {
   "codemirror_mode": {
    "name": "ipython",
    "version": 3
   },
   "file_extension": ".py",
   "mimetype": "text/x-python",
   "name": "python",
   "nbconvert_exporter": "python",
   "pygments_lexer": "ipython3",
   "version": "3.7.9"
  },
  "toc": {
   "base_numbering": 1,
   "nav_menu": {},
   "number_sections": true,
   "sideBar": true,
   "skip_h1_title": false,
   "title_cell": "Table of Contents",
   "title_sidebar": "Contents",
   "toc_cell": false,
   "toc_position": {},
   "toc_section_display": true,
   "toc_window_display": false
  }
 },
 "nbformat": 4,
 "nbformat_minor": 5
}
