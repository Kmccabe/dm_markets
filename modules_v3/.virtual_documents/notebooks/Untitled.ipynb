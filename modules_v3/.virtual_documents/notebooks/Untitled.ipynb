import random as rnd
import operator
import os
import time
import copy
import sys

# Data processing
import numpy as np                              # import numpy
import pandas as pd
import json

# Plotting
import matplotlib.pyplot as plt                 # import matplotlib
import seaborn as sns
import matplotlib.colors as colors
import matplotlib as mpl
import matplotlib.ticker as tckr

# Custom packages for simulation
# This works only if notebooks folder is in the "modules" parent folder
sys.path.insert(0, '..') # add modules folder (parent folder) into this notebook's path
import institutions.dm_bargain as dm_bargain
import institutions.dm_travel as dm_travel
import environment.dm_agents as dm_agents
import environment.dm_env as env
import dm_utils as dm
import simulations.dm_sim_period as simulate
import dm_process_results as results
import environment.env_make_agents as make_env
#TODO: Change imported name, propagate

# Agent Types
ZID = dm_agents.ZID     # name of agent class
ZIDA = dm_agents.ZIDA   # name of agent class
ZIDP = dm_agents.ZIDP   # name of class that accepts best offer
trader_types = [(ZID, 4), (ZID, 4)]     
grid_size = 1     # Grid is grid_size x grid_size
num_traders = 8   # traders (multiple of two) 
num_units = 6     # Number of units per trader
lower_bound = 200 # lower bound on values or costs
upper_bound = 600 # upper bound on values or costs
debug = False

# Circular market type
m_type = "TWO_TYPE"
i_types = ["X","Y"]
b_type = "ABSTRACT"
agent_maker = make_env.MakeAgents(num_traders, trader_types, num_units, 
                                grid_size, lower_bound, upper_bound, debug, market_type=m_type, item_types=i_types)
#agent_maker.make_test_agents()
agent_maker.make_agents()
agent_maker.make_locations()
agents = agent_maker.get_agents()
#agent_maker.print_agents(agents)

# set up market
agent_maker.make_market("test_market")
agent_maker.plot_market()
market = agent_maker.get_market()

sim_name = "Sample One Period Simulation"
num_rounds = 10
num_periods = 1
plot_on = False
debug = False


big_contracts = pd.DataFrame()
sim_agents = copy.deepcopy(agents)
sim1 = simulate.SimPeriod(sim_name, num_rounds, sim_agents, 
                market, grid_size, debug, plot_on, market_type=m_type, item_types=i_types, bidding_type=b_type)
for period in range(num_periods):
    sim1.run_period()
    big_contracts = pd.concat([big_contracts, sim1.get_contracts()])

print()
contracts = sim1.get_contracts()
contracts



